{
 "cells": [
  {
   "cell_type": "code",
   "execution_count": 1,
   "id": "05f2d161",
   "metadata": {},
   "outputs": [],
   "source": [
    "import pandas as pd"
   ]
  },
  {
   "cell_type": "code",
   "execution_count": 2,
   "id": "95765ae0",
   "metadata": {},
   "outputs": [],
   "source": [
    "df = pd.read_csv('./Resources/data_prepared.csv')"
   ]
  },
  {
   "cell_type": "code",
   "execution_count": 3,
   "id": "365628f5",
   "metadata": {},
   "outputs": [
    {
     "data": {
      "text/plain": [
       "Index(['Daily_Production', 'Average_Daily_Production_Days',\n",
       "       'Average_Daily_Production_Percentage', 'Lactation_Number', 'Milk_Days',\n",
       "       'Days_After_Heat', 'Insemination', 'Days_After_Insemination',\n",
       "       'Pregnacy_Days', 'Number_of_Abortions', 'Production_Peak',\n",
       "       'Previous_Lactation_Production', 'Actual_Lactation_Production',\n",
       "       'Daily_Production_bool', 'given_birthdate_days',\n",
       "       'Gynecological_Status_Abortion', 'Gynecological_Status_Heat',\n",
       "       'Gynecological_Status_Insemination', 'Gynecological_Status_Labor',\n",
       "       'Gynecological_Status_No_Inseminate', 'Gynecological_Status_Pregnacy',\n",
       "       'Inseminator_Name_CARLOS-JAIME', 'Inseminator_Name_CARLOS-JEHU',\n",
       "       'Inseminator_Name_CARLOS-LUIS', 'Inseminator_Name_CARLOS-MANUEL',\n",
       "       'Inseminator_Name_CARLOS-MAURICIO', 'Inseminator_Name_CARLOS-URIEL',\n",
       "       'Inseminator_Name_DAVID-ADAN', 'Inseminator_Name_DAVID-JEHU',\n",
       "       'Inseminator_Name_DAVID-MANUEL', 'Inseminator_Name_DAVID-URIEL',\n",
       "       'Inseminator_Name_ELIVER-JEHU', 'Inseminator_Name_JORGE-JEHU',\n",
       "       'Inseminator_Name_JOSE JUAN-GERARDO',\n",
       "       'Inseminator_Name_JUAN DELGADO-JAIME',\n",
       "       'Inseminator_Name_JUAN DELGADO-JEHU',\n",
       "       'Inseminator_Name_JUAN DELGADO-MANUEL',\n",
       "       'Inseminator_Name_JUAN DELGADO-URIEL', 'Inseminator_Name_JUAN-BRUNO',\n",
       "       'Inseminator_Name_JUAN-MAURICIO', 'Inseminator_Name_MANUEL-MOISES',\n",
       "       'Inseminator_Name_MAURICIO-JAIME', 'Inseminator_Name_MAURICIO-JEHU',\n",
       "       'Inseminator_Name_MIGUEL-JAIME', 'Inseminator_Name_MIGUEL-MAURICIO',\n",
       "       'Inseminator_Name_MIGUEL-MOISES', 'Inseminator_Name_MIGUEL-URIEL',\n",
       "       'Inseminator_Name_MVZ ROGELIO-JAIME',\n",
       "       'Inseminator_Name_MVZ ROGELIO-JEHU',\n",
       "       'Inseminator_Name_MVZ ROGELIO-PABLO',\n",
       "       'Inseminator_Name_MVZ ROGELIO-URIEL', 'Inseminator_Name_N/A',\n",
       "       'Inseminator_Name_ROBERTO-ADAN', 'Inseminator_Name_ROBERTO-DAVID',\n",
       "       'Inseminator_Name_ROBERTO-MANUEL', 'Inseminator_Name_ROBERTO-MAURICIO',\n",
       "       'Inseminator_Name_ROBERTO-URIEL', 'Inseminator_Name_ROGELIO-MAURICIO',\n",
       "       'Inseminator_Name_URIEL-JEHU', 'bulls_name_1HO15524',\n",
       "       'bulls_name_29HO19282', 'bulls_name_29HO19624', 'bulls_name_29HO19691',\n",
       "       'bulls_name_501HO15427', 'bulls_name_AUZZI', 'bulls_name_BACKROAD',\n",
       "       'bulls_name_BACKROAD SEX.', 'bulls_name_BART', 'bulls_name_CHANDLER',\n",
       "       'bulls_name_CURFEW', 'bulls_name_CURFEW SEX.', 'bulls_name_DECLARATION',\n",
       "       'bulls_name_EXPO', 'bulls_name_EXPRESSO', 'bulls_name_FALCO',\n",
       "       'bulls_name_FASTDRAW', 'bulls_name_HEINSOHN', 'bulls_name_INFOCUS GOLD',\n",
       "       'bulls_name_KELLER', 'bulls_name_KEYNOTE', 'bulls_name_MARADONA',\n",
       "       'bulls_name_MAVERICK', 'bulls_name_MUSTSEE', 'bulls_name_N/A',\n",
       "       'bulls_name_OGDEN', 'bulls_name_OLAF', 'bulls_name_POPSTAR',\n",
       "       'bulls_name_POWE', 'bulls_name_RAYSHEN', 'bulls_name_RHETORIC',\n",
       "       'bulls_name_SCORPIO', 'bulls_name_SCRAPPLE',\n",
       "       'bulls_name_SILVER INFOCUS', 'bulls_name_TORETTO', 'bulls_name_TORRO',\n",
       "       'bulls_name_UNCHARTED', 'bulls_name_VIEWPOINT', 'bulls_name_WALLEN',\n",
       "       'bulls_name_WILD THING'],\n",
       "      dtype='object')"
      ]
     },
     "execution_count": 3,
     "metadata": {},
     "output_type": "execute_result"
    }
   ],
   "source": [
    "df.columns"
   ]
  },
  {
   "cell_type": "code",
   "execution_count": 4,
   "id": "1972326c",
   "metadata": {},
   "outputs": [],
   "source": [
    "# Initial imports.\n",
    "import pandas as pd\n",
    "from path import Path\n",
    "from sklearn.ensemble import RandomForestClassifier\n",
    "from sklearn.preprocessing import StandardScaler\n",
    "from sklearn.model_selection import train_test_split\n",
    "from sklearn.metrics import confusion_matrix, accuracy_score, classification_report"
   ]
  },
  {
   "cell_type": "code",
   "execution_count": 5,
   "id": "7b65fb9f",
   "metadata": {},
   "outputs": [
    {
     "data": {
      "text/html": [
       "<div>\n",
       "<style scoped>\n",
       "    .dataframe tbody tr th:only-of-type {\n",
       "        vertical-align: middle;\n",
       "    }\n",
       "\n",
       "    .dataframe tbody tr th {\n",
       "        vertical-align: top;\n",
       "    }\n",
       "\n",
       "    .dataframe thead th {\n",
       "        text-align: right;\n",
       "    }\n",
       "</style>\n",
       "<table border=\"1\" class=\"dataframe\">\n",
       "  <thead>\n",
       "    <tr style=\"text-align: right;\">\n",
       "      <th></th>\n",
       "      <th>Average_Daily_Production_Percentage</th>\n",
       "      <th>Lactation_Number</th>\n",
       "      <th>Milk_Days</th>\n",
       "      <th>Days_After_Heat</th>\n",
       "      <th>Insemination</th>\n",
       "      <th>Days_After_Insemination</th>\n",
       "      <th>Pregnacy_Days</th>\n",
       "      <th>Number_of_Abortions</th>\n",
       "      <th>Production_Peak</th>\n",
       "      <th>Previous_Lactation_Production</th>\n",
       "      <th>...</th>\n",
       "      <th>bulls_name_RHETORIC</th>\n",
       "      <th>bulls_name_SCORPIO</th>\n",
       "      <th>bulls_name_SCRAPPLE</th>\n",
       "      <th>bulls_name_SILVER INFOCUS</th>\n",
       "      <th>bulls_name_TORETTO</th>\n",
       "      <th>bulls_name_TORRO</th>\n",
       "      <th>bulls_name_UNCHARTED</th>\n",
       "      <th>bulls_name_VIEWPOINT</th>\n",
       "      <th>bulls_name_WALLEN</th>\n",
       "      <th>bulls_name_WILD THING</th>\n",
       "    </tr>\n",
       "  </thead>\n",
       "  <tbody>\n",
       "    <tr>\n",
       "      <th>0</th>\n",
       "      <td>-2</td>\n",
       "      <td>4</td>\n",
       "      <td>222</td>\n",
       "      <td>139</td>\n",
       "      <td>2</td>\n",
       "      <td>139</td>\n",
       "      <td>139</td>\n",
       "      <td>0</td>\n",
       "      <td>50.3</td>\n",
       "      <td>9269</td>\n",
       "      <td>...</td>\n",
       "      <td>0.0</td>\n",
       "      <td>0.0</td>\n",
       "      <td>0.0</td>\n",
       "      <td>0.0</td>\n",
       "      <td>0.0</td>\n",
       "      <td>0.0</td>\n",
       "      <td>0.0</td>\n",
       "      <td>0.0</td>\n",
       "      <td>0.0</td>\n",
       "      <td>0.0</td>\n",
       "    </tr>\n",
       "    <tr>\n",
       "      <th>1</th>\n",
       "      <td>1</td>\n",
       "      <td>4</td>\n",
       "      <td>210</td>\n",
       "      <td>132</td>\n",
       "      <td>2</td>\n",
       "      <td>132</td>\n",
       "      <td>132</td>\n",
       "      <td>0</td>\n",
       "      <td>39.1</td>\n",
       "      <td>8048</td>\n",
       "      <td>...</td>\n",
       "      <td>0.0</td>\n",
       "      <td>0.0</td>\n",
       "      <td>0.0</td>\n",
       "      <td>0.0</td>\n",
       "      <td>0.0</td>\n",
       "      <td>0.0</td>\n",
       "      <td>0.0</td>\n",
       "      <td>0.0</td>\n",
       "      <td>0.0</td>\n",
       "      <td>0.0</td>\n",
       "    </tr>\n",
       "    <tr>\n",
       "      <th>2</th>\n",
       "      <td>0</td>\n",
       "      <td>4</td>\n",
       "      <td>20</td>\n",
       "      <td>0</td>\n",
       "      <td>0</td>\n",
       "      <td>0</td>\n",
       "      <td>0</td>\n",
       "      <td>0</td>\n",
       "      <td>0.0</td>\n",
       "      <td>10529</td>\n",
       "      <td>...</td>\n",
       "      <td>0.0</td>\n",
       "      <td>0.0</td>\n",
       "      <td>0.0</td>\n",
       "      <td>0.0</td>\n",
       "      <td>0.0</td>\n",
       "      <td>0.0</td>\n",
       "      <td>0.0</td>\n",
       "      <td>0.0</td>\n",
       "      <td>0.0</td>\n",
       "      <td>0.0</td>\n",
       "    </tr>\n",
       "    <tr>\n",
       "      <th>3</th>\n",
       "      <td>0</td>\n",
       "      <td>3</td>\n",
       "      <td>5</td>\n",
       "      <td>0</td>\n",
       "      <td>0</td>\n",
       "      <td>0</td>\n",
       "      <td>0</td>\n",
       "      <td>0</td>\n",
       "      <td>0.0</td>\n",
       "      <td>11448</td>\n",
       "      <td>...</td>\n",
       "      <td>0.0</td>\n",
       "      <td>0.0</td>\n",
       "      <td>0.0</td>\n",
       "      <td>0.0</td>\n",
       "      <td>0.0</td>\n",
       "      <td>0.0</td>\n",
       "      <td>0.0</td>\n",
       "      <td>0.0</td>\n",
       "      <td>0.0</td>\n",
       "      <td>0.0</td>\n",
       "    </tr>\n",
       "    <tr>\n",
       "      <th>4</th>\n",
       "      <td>3</td>\n",
       "      <td>7</td>\n",
       "      <td>116</td>\n",
       "      <td>61</td>\n",
       "      <td>1</td>\n",
       "      <td>61</td>\n",
       "      <td>61</td>\n",
       "      <td>0</td>\n",
       "      <td>0.0</td>\n",
       "      <td>11486</td>\n",
       "      <td>...</td>\n",
       "      <td>0.0</td>\n",
       "      <td>0.0</td>\n",
       "      <td>0.0</td>\n",
       "      <td>0.0</td>\n",
       "      <td>0.0</td>\n",
       "      <td>0.0</td>\n",
       "      <td>0.0</td>\n",
       "      <td>0.0</td>\n",
       "      <td>0.0</td>\n",
       "      <td>0.0</td>\n",
       "    </tr>\n",
       "  </tbody>\n",
       "</table>\n",
       "<p>5 rows × 96 columns</p>\n",
       "</div>"
      ],
      "text/plain": [
       "   Average_Daily_Production_Percentage  Lactation_Number  Milk_Days  \\\n",
       "0                                   -2                 4        222   \n",
       "1                                    1                 4        210   \n",
       "2                                    0                 4         20   \n",
       "3                                    0                 3          5   \n",
       "4                                    3                 7        116   \n",
       "\n",
       "   Days_After_Heat  Insemination  Days_After_Insemination  Pregnacy_Days  \\\n",
       "0              139             2                      139            139   \n",
       "1              132             2                      132            132   \n",
       "2                0             0                        0              0   \n",
       "3                0             0                        0              0   \n",
       "4               61             1                       61             61   \n",
       "\n",
       "   Number_of_Abortions  Production_Peak  Previous_Lactation_Production  ...  \\\n",
       "0                    0             50.3                           9269  ...   \n",
       "1                    0             39.1                           8048  ...   \n",
       "2                    0              0.0                          10529  ...   \n",
       "3                    0              0.0                          11448  ...   \n",
       "4                    0              0.0                          11486  ...   \n",
       "\n",
       "   bulls_name_RHETORIC  bulls_name_SCORPIO  bulls_name_SCRAPPLE  \\\n",
       "0                  0.0                 0.0                  0.0   \n",
       "1                  0.0                 0.0                  0.0   \n",
       "2                  0.0                 0.0                  0.0   \n",
       "3                  0.0                 0.0                  0.0   \n",
       "4                  0.0                 0.0                  0.0   \n",
       "\n",
       "   bulls_name_SILVER INFOCUS  bulls_name_TORETTO  bulls_name_TORRO  \\\n",
       "0                        0.0                 0.0               0.0   \n",
       "1                        0.0                 0.0               0.0   \n",
       "2                        0.0                 0.0               0.0   \n",
       "3                        0.0                 0.0               0.0   \n",
       "4                        0.0                 0.0               0.0   \n",
       "\n",
       "   bulls_name_UNCHARTED  bulls_name_VIEWPOINT  bulls_name_WALLEN  \\\n",
       "0                   0.0                   0.0                0.0   \n",
       "1                   0.0                   0.0                0.0   \n",
       "2                   0.0                   0.0                0.0   \n",
       "3                   0.0                   0.0                0.0   \n",
       "4                   0.0                   0.0                0.0   \n",
       "\n",
       "   bulls_name_WILD THING  \n",
       "0                    0.0  \n",
       "1                    0.0  \n",
       "2                    0.0  \n",
       "3                    0.0  \n",
       "4                    0.0  \n",
       "\n",
       "[5 rows x 96 columns]"
      ]
     },
     "execution_count": 5,
     "metadata": {},
     "output_type": "execute_result"
    }
   ],
   "source": [
    "# Define the features set.\n",
    "X = df.copy()\n",
    "X = X.drop('Daily_Production', axis=1)\n",
    "X = X.drop('Daily_Production_bool', axis=1)\n",
    "X = X.drop('Average_Daily_Production_Days', axis=1)\n",
    "#X = X.drop('Average_Daily_Production_Percentage', axis=1)\n",
    "X.head()"
   ]
  },
  {
   "cell_type": "code",
   "execution_count": 6,
   "id": "d8628bc0",
   "metadata": {},
   "outputs": [
    {
     "data": {
      "text/plain": [
       "array([1., 1., 1., 0., 1.])"
      ]
     },
     "execution_count": 6,
     "metadata": {},
     "output_type": "execute_result"
    }
   ],
   "source": [
    "# Define the target set.\n",
    "df.loc[df['Average_Daily_Production_Days'] < 28, 'Average_Daily_Production_Days'] = 0\n",
    "df.loc[df['Average_Daily_Production_Days'] >= 28, 'Average_Daily_Production_Days'] = 1\n",
    "y = df[\"Average_Daily_Production_Days\"].ravel()\n",
    "#y = df[\"Average_Daily_Production_Days\"].ravel()\n",
    "y[:5]"
   ]
  },
  {
   "cell_type": "code",
   "execution_count": 7,
   "id": "d63dd29c",
   "metadata": {},
   "outputs": [],
   "source": [
    "# Splitting into Train and Test sets.\n",
    "X_train, X_test, y_train, y_test = train_test_split(X, y, random_state=78)"
   ]
  },
  {
   "cell_type": "code",
   "execution_count": 8,
   "id": "9e58d48a",
   "metadata": {},
   "outputs": [],
   "source": [
    "# Creating a StandardScaler instance.\n",
    "scaler = StandardScaler()\n",
    "# Fitting the Standard Scaler with the training data.\n",
    "X_scaler = scaler.fit(X_train)\n",
    "\n",
    "# Scaling the data.\n",
    "X_train_scaled = X_scaler.transform(X_train)\n",
    "X_test_scaled = X_scaler.transform(X_test)"
   ]
  },
  {
   "cell_type": "code",
   "execution_count": 9,
   "id": "dbaf895e",
   "metadata": {},
   "outputs": [],
   "source": [
    "# Create a random forest classifier.\n",
    "rf_model = RandomForestClassifier(n_estimators=128, random_state=78) "
   ]
  },
  {
   "cell_type": "code",
   "execution_count": 10,
   "id": "5ec8e3a1",
   "metadata": {},
   "outputs": [],
   "source": [
    "# Fitting the model\n",
    "rf_model = rf_model.fit(X_train_scaled, y_train)"
   ]
  },
  {
   "cell_type": "code",
   "execution_count": 11,
   "id": "b04207cb",
   "metadata": {},
   "outputs": [
    {
     "data": {
      "text/plain": [
       "array([1., 1., 1., ..., 1., 1., 1.])"
      ]
     },
     "execution_count": 11,
     "metadata": {},
     "output_type": "execute_result"
    }
   ],
   "source": [
    "# Making predictions using the testing data.\n",
    "predictions = rf_model.predict(X_test_scaled)\n",
    "predictions"
   ]
  },
  {
   "cell_type": "code",
   "execution_count": 12,
   "id": "9aa63590",
   "metadata": {},
   "outputs": [
    {
     "data": {
      "text/html": [
       "<div>\n",
       "<style scoped>\n",
       "    .dataframe tbody tr th:only-of-type {\n",
       "        vertical-align: middle;\n",
       "    }\n",
       "\n",
       "    .dataframe tbody tr th {\n",
       "        vertical-align: top;\n",
       "    }\n",
       "\n",
       "    .dataframe thead th {\n",
       "        text-align: right;\n",
       "    }\n",
       "</style>\n",
       "<table border=\"1\" class=\"dataframe\">\n",
       "  <thead>\n",
       "    <tr style=\"text-align: right;\">\n",
       "      <th></th>\n",
       "      <th>Predicted 0</th>\n",
       "      <th>Predicted 1</th>\n",
       "    </tr>\n",
       "  </thead>\n",
       "  <tbody>\n",
       "    <tr>\n",
       "      <th>Actual 0</th>\n",
       "      <td>123</td>\n",
       "      <td>79</td>\n",
       "    </tr>\n",
       "    <tr>\n",
       "      <th>Actual 1</th>\n",
       "      <td>31</td>\n",
       "      <td>799</td>\n",
       "    </tr>\n",
       "  </tbody>\n",
       "</table>\n",
       "</div>"
      ],
      "text/plain": [
       "          Predicted 0  Predicted 1\n",
       "Actual 0          123           79\n",
       "Actual 1           31          799"
      ]
     },
     "execution_count": 12,
     "metadata": {},
     "output_type": "execute_result"
    }
   ],
   "source": [
    "# Calculating the confusion matrix.\n",
    "cm = confusion_matrix(y_test, predictions)\n",
    "\n",
    "# Create a DataFrame from the confusion matrix.\n",
    "cm_df = pd.DataFrame(\n",
    "    cm, index=[\"Actual 0\", \"Actual 1\"], columns=[\"Predicted 0\", \"Predicted 1\"])\n",
    "\n",
    "cm_df"
   ]
  },
  {
   "cell_type": "code",
   "execution_count": 13,
   "id": "0f134817",
   "metadata": {},
   "outputs": [
    {
     "data": {
      "text/plain": [
       "0.8934108527131783"
      ]
     },
     "execution_count": 13,
     "metadata": {},
     "output_type": "execute_result"
    }
   ],
   "source": [
    "# Calculating the accuracy score.\n",
    "acc_score = accuracy_score(y_test, predictions)\n",
    "acc_score"
   ]
  },
  {
   "cell_type": "code",
   "execution_count": 14,
   "id": "5c8e1f76",
   "metadata": {},
   "outputs": [
    {
     "name": "stdout",
     "output_type": "stream",
     "text": [
      "Confusion Matrix\n"
     ]
    },
    {
     "data": {
      "text/html": [
       "<div>\n",
       "<style scoped>\n",
       "    .dataframe tbody tr th:only-of-type {\n",
       "        vertical-align: middle;\n",
       "    }\n",
       "\n",
       "    .dataframe tbody tr th {\n",
       "        vertical-align: top;\n",
       "    }\n",
       "\n",
       "    .dataframe thead th {\n",
       "        text-align: right;\n",
       "    }\n",
       "</style>\n",
       "<table border=\"1\" class=\"dataframe\">\n",
       "  <thead>\n",
       "    <tr style=\"text-align: right;\">\n",
       "      <th></th>\n",
       "      <th>Predicted 0</th>\n",
       "      <th>Predicted 1</th>\n",
       "    </tr>\n",
       "  </thead>\n",
       "  <tbody>\n",
       "    <tr>\n",
       "      <th>Actual 0</th>\n",
       "      <td>123</td>\n",
       "      <td>79</td>\n",
       "    </tr>\n",
       "    <tr>\n",
       "      <th>Actual 1</th>\n",
       "      <td>31</td>\n",
       "      <td>799</td>\n",
       "    </tr>\n",
       "  </tbody>\n",
       "</table>\n",
       "</div>"
      ],
      "text/plain": [
       "          Predicted 0  Predicted 1\n",
       "Actual 0          123           79\n",
       "Actual 1           31          799"
      ]
     },
     "metadata": {},
     "output_type": "display_data"
    },
    {
     "name": "stdout",
     "output_type": "stream",
     "text": [
      "Accuracy Score : 0.8934108527131783\n",
      "Classification Report\n",
      "              precision    recall  f1-score   support\n",
      "\n",
      "         0.0       0.80      0.61      0.69       202\n",
      "         1.0       0.91      0.96      0.94       830\n",
      "\n",
      "    accuracy                           0.89      1032\n",
      "   macro avg       0.85      0.79      0.81      1032\n",
      "weighted avg       0.89      0.89      0.89      1032\n",
      "\n"
     ]
    }
   ],
   "source": [
    "# Displaying results\n",
    "print(\"Confusion Matrix\")\n",
    "display(cm_df)\n",
    "print(f\"Accuracy Score : {acc_score}\")\n",
    "print(\"Classification Report\")\n",
    "print(classification_report(y_test, predictions))"
   ]
  },
  {
   "cell_type": "code",
   "execution_count": 15,
   "id": "c400ac77",
   "metadata": {},
   "outputs": [
    {
     "data": {
      "text/plain": [
       "array([9.13378394e-02, 2.81148276e-02, 1.13310970e-01, 7.20745296e-02,\n",
       "       3.16186688e-02, 6.88602412e-02, 6.37830561e-02, 5.91286460e-03,\n",
       "       4.38917511e-02, 4.36238531e-02, 2.08508844e-01, 1.07215764e-01,\n",
       "       1.05584322e-03, 2.05867172e-03, 5.73565001e-03, 8.27546924e-03,\n",
       "       1.87492407e-03, 3.25405824e-03, 8.41437555e-05, 6.41985159e-03,\n",
       "       8.53096624e-05, 1.44190163e-04, 1.46407087e-03, 4.18064271e-03,\n",
       "       1.91056103e-05, 7.76306477e-06, 1.52860710e-03, 8.60099399e-05,\n",
       "       8.39457902e-06, 0.00000000e+00, 6.54172573e-09, 1.09444906e-03,\n",
       "       6.30104524e-04, 0.00000000e+00, 2.19033730e-03, 1.50929029e-06,\n",
       "       1.31235992e-04, 4.68323945e-06, 1.43650710e-03, 3.47194178e-05,\n",
       "       4.77111460e-03, 4.91733872e-03, 4.29965596e-04, 1.63896217e-03,\n",
       "       7.73528499e-04, 4.51836234e-04, 6.82633517e-05, 2.24006434e-04,\n",
       "       4.78288683e-03, 3.72830216e-05, 1.32469827e-03, 2.44005163e-03,\n",
       "       1.00563771e-04, 5.75667821e-05, 1.51084931e-04, 1.39112212e-03,\n",
       "       9.96704698e-05, 1.65384318e-04, 5.51244766e-04, 2.10117402e-04,\n",
       "       8.10873141e-04, 0.00000000e+00, 1.42628229e-03, 5.13488724e-04,\n",
       "       7.07848379e-04, 4.14158625e-04, 5.77581850e-04, 2.67334475e-04,\n",
       "       1.12724827e-03, 3.68644721e-03, 1.66924821e-03, 1.20075322e-03,\n",
       "       2.97604463e-03, 5.32672597e-04, 3.25668628e-03, 5.43168425e-05,\n",
       "       5.36607180e-03, 4.07536100e-03, 1.04169900e-03, 3.95396211e-03,\n",
       "       3.42294863e-03, 4.56910856e-04, 2.94809678e-03, 3.54301587e-03,\n",
       "       5.75319780e-05, 2.04662947e-04, 3.33473160e-04, 6.45692511e-04,\n",
       "       9.31920121e-04, 4.22544987e-03, 3.78342240e-04, 0.00000000e+00,\n",
       "       1.83551295e-03, 2.41859877e-03, 1.64409444e-04, 1.29197739e-04])"
      ]
     },
     "execution_count": 15,
     "metadata": {},
     "output_type": "execute_result"
    }
   ],
   "source": [
    "# Calculate feature importance in the Random Forest model.\n",
    "importances = rf_model.feature_importances_\n",
    "importances"
   ]
  },
  {
   "cell_type": "code",
   "execution_count": 16,
   "id": "23e719ce",
   "metadata": {},
   "outputs": [
    {
     "data": {
      "text/plain": [
       "[(0.20850884428419098, 'Actual_Lactation_Production'),\n",
       " (0.11331097020635132, 'Milk_Days'),\n",
       " (0.10721576371042424, 'given_birthdate_days'),\n",
       " (0.0913378393517163, 'Average_Daily_Production_Percentage'),\n",
       " (0.0720745296215272, 'Days_After_Heat'),\n",
       " (0.06886024119476798, 'Days_After_Insemination'),\n",
       " (0.06378305613936698, 'Pregnacy_Days'),\n",
       " (0.043891751061802264, 'Production_Peak'),\n",
       " (0.04362385306541946, 'Previous_Lactation_Production'),\n",
       " (0.03161866875864584, 'Insemination'),\n",
       " (0.028114827569714784, 'Lactation_Number'),\n",
       " (0.00827546923835756, 'Gynecological_Status_Labor'),\n",
       " (0.006419851592471721, 'Inseminator_Name_CARLOS-JEHU'),\n",
       " (0.005912864603438621, 'Number_of_Abortions'),\n",
       " (0.005735650008456914, 'Gynecological_Status_Insemination'),\n",
       " (0.005366071798339841, 'bulls_name_KEYNOTE'),\n",
       " (0.004917338715105051, 'Inseminator_Name_MIGUEL-MAURICIO'),\n",
       " (0.004782886826650117, 'Inseminator_Name_N/A'),\n",
       " (0.004771114599072382, 'Inseminator_Name_MIGUEL-JAIME'),\n",
       " (0.004225449866465928, 'bulls_name_SILVER INFOCUS'),\n",
       " (0.004180642705573868, 'Inseminator_Name_CARLOS-URIEL'),\n",
       " (0.004075360997665743, 'bulls_name_MARADONA'),\n",
       " (0.003953962111418792, 'bulls_name_MUSTSEE'),\n",
       " (0.0036864472125774763, 'bulls_name_EXPO'),\n",
       " (0.003543015868622695, 'bulls_name_POPSTAR'),\n",
       " (0.0034229486340480704, 'bulls_name_N/A'),\n",
       " (0.003256686279748037, 'bulls_name_INFOCUS GOLD'),\n",
       " (0.003254058238911141, 'Gynecological_Status_Pregnacy'),\n",
       " (0.0029760446340617794, 'bulls_name_FASTDRAW'),\n",
       " (0.0029480967790391165, 'bulls_name_OLAF'),\n",
       " (0.0024400516303351993, 'Inseminator_Name_ROBERTO-MANUEL'),\n",
       " (0.002418598771102612, 'bulls_name_VIEWPOINT'),\n",
       " (0.002190337296708288, 'Inseminator_Name_JUAN DELGADO-URIEL'),\n",
       " (0.0020586717182892573, 'Gynecological_Status_Heat'),\n",
       " (0.0018749240679016789, 'Gynecological_Status_No_Inseminate'),\n",
       " (0.0018355129470754008, 'bulls_name_UNCHARTED'),\n",
       " (0.0016692482071615628, 'bulls_name_EXPRESSO'),\n",
       " (0.0016389621722923899, 'Inseminator_Name_MIGUEL-URIEL'),\n",
       " (0.0015286070980455482, 'Inseminator_Name_DAVID-MANUEL'),\n",
       " (0.0014640708710201488, 'Inseminator_Name_CARLOS-MAURICIO'),\n",
       " (0.0014365071025545005, 'Inseminator_Name_MAURICIO-JAIME'),\n",
       " (0.0014262822944340057, 'bulls_name_BACKROAD'),\n",
       " (0.0013911221225557594, 'Inseminator_Name_URIEL-JEHU'),\n",
       " (0.0013246982690330621, 'Inseminator_Name_ROBERTO-DAVID'),\n",
       " (0.0012007532243506732, 'bulls_name_FALCO'),\n",
       " (0.0011272482690013015, 'bulls_name_DECLARATION'),\n",
       " (0.0010944490627144443, 'Inseminator_Name_JUAN DELGADO-JAIME'),\n",
       " (0.0010558432195857303, 'Gynecological_Status_Abortion'),\n",
       " (0.0010416989950587665, 'bulls_name_MAVERICK'),\n",
       " (0.0009319201211854211, 'bulls_name_SCRAPPLE'),\n",
       " (0.0008108731414136474, 'bulls_name_501HO15427'),\n",
       " (0.0007735284990213472, 'Inseminator_Name_MVZ ROGELIO-JAIME'),\n",
       " (0.0007078483790705613, 'bulls_name_BART'),\n",
       " (0.0006456925110451651, 'bulls_name_SCORPIO'),\n",
       " (0.0006301045238499264, 'Inseminator_Name_JUAN DELGADO-JEHU'),\n",
       " (0.0005775818503748348, 'bulls_name_CURFEW'),\n",
       " (0.0005512447660309567, 'bulls_name_29HO19624'),\n",
       " (0.000532672597020465, 'bulls_name_HEINSOHN'),\n",
       " (0.0005134887235648554, 'bulls_name_BACKROAD SEX.'),\n",
       " (0.000456910855550304, 'bulls_name_OGDEN'),\n",
       " (0.000451836233792232, 'Inseminator_Name_MVZ ROGELIO-JEHU'),\n",
       " (0.00042996559639528107, 'Inseminator_Name_MIGUEL-MOISES'),\n",
       " (0.00041415862457224546, 'bulls_name_CHANDLER'),\n",
       " (0.0003783422398885862, 'bulls_name_TORETTO'),\n",
       " (0.0003334731596302726, 'bulls_name_RHETORIC'),\n",
       " (0.00026733447507773647, 'bulls_name_CURFEW SEX.'),\n",
       " (0.00022400643429279274, 'Inseminator_Name_MVZ ROGELIO-URIEL'),\n",
       " (0.0002101174021667627, 'bulls_name_29HO19691'),\n",
       " (0.000204662947341964, 'bulls_name_RAYSHEN'),\n",
       " (0.0001653843184316653, 'bulls_name_29HO19282'),\n",
       " (0.000164409443537467, 'bulls_name_WALLEN'),\n",
       " (0.00015108493117117349, 'Inseminator_Name_ROGELIO-MAURICIO'),\n",
       " (0.00014419016273366404, 'Inseminator_Name_CARLOS-MANUEL'),\n",
       " (0.00013123599237781537, 'Inseminator_Name_JUAN-MAURICIO'),\n",
       " (0.0001291977394972584, 'bulls_name_WILD THING'),\n",
       " (0.00010056377113194277, 'Inseminator_Name_ROBERTO-MAURICIO'),\n",
       " (9.967046982398939e-05, 'bulls_name_1HO15524'),\n",
       " (8.600993988390133e-05, 'Inseminator_Name_DAVID-URIEL'),\n",
       " (8.530966237441738e-05, 'Inseminator_Name_CARLOS-LUIS'),\n",
       " (8.414375549596583e-05, 'Inseminator_Name_CARLOS-JAIME'),\n",
       " (6.826335165402242e-05, 'Inseminator_Name_MVZ ROGELIO-PABLO'),\n",
       " (5.756678205350061e-05, 'Inseminator_Name_ROBERTO-URIEL'),\n",
       " (5.753197798478196e-05, 'bulls_name_POWE'),\n",
       " (5.43168425164216e-05, 'bulls_name_KELLER'),\n",
       " (3.7283021555399123e-05, 'Inseminator_Name_ROBERTO-ADAN'),\n",
       " (3.4719417816207194e-05, 'Inseminator_Name_MAURICIO-JEHU'),\n",
       " (1.9105610253072895e-05, 'Inseminator_Name_DAVID-ADAN'),\n",
       " (8.394579015075188e-06, 'Inseminator_Name_ELIVER-JEHU'),\n",
       " (7.763064768298909e-06, 'Inseminator_Name_DAVID-JEHU'),\n",
       " (4.6832394467810995e-06, 'Inseminator_Name_MANUEL-MOISES'),\n",
       " (1.5092902935303357e-06, 'Inseminator_Name_JUAN-BRUNO'),\n",
       " (6.541725725941243e-09, 'Inseminator_Name_JOSE JUAN-GERARDO'),\n",
       " (0.0, 'bulls_name_TORRO'),\n",
       " (0.0, 'bulls_name_AUZZI'),\n",
       " (0.0, 'Inseminator_Name_JUAN DELGADO-MANUEL'),\n",
       " (0.0, 'Inseminator_Name_JORGE-JEHU')]"
      ]
     },
     "execution_count": 16,
     "metadata": {},
     "output_type": "execute_result"
    }
   ],
   "source": [
    "# We can sort the features by their importance.\n",
    "sorted(zip(rf_model.feature_importances_, X.columns), reverse=True)"
   ]
  },
  {
   "cell_type": "code",
   "execution_count": null,
   "id": "645b30bb",
   "metadata": {},
   "outputs": [],
   "source": []
  }
 ],
 "metadata": {
  "kernelspec": {
   "display_name": "mlenv",
   "language": "python",
   "name": "mlenv"
  },
  "language_info": {
   "codemirror_mode": {
    "name": "ipython",
    "version": 3
   },
   "file_extension": ".py",
   "mimetype": "text/x-python",
   "name": "python",
   "nbconvert_exporter": "python",
   "pygments_lexer": "ipython3",
   "version": "3.7.11"
  }
 },
 "nbformat": 4,
 "nbformat_minor": 5
}
