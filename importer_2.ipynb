{
 "cells": [
  {
   "cell_type": "code",
   "execution_count": 85,
   "id": "b6fab79a",
   "metadata": {},
   "outputs": [
    {
     "name": "stdout",
     "output_type": "stream",
     "text": [
      "              id  lactation milk_days daily_production\n",
      "0              1          1      56.0               11\n",
      "1              2          1   15553.0              446\n",
      "2              2          2   13637.0              317\n",
      "3              2          3    6280.0              306\n",
      "4              2          4   15134.0              361\n",
      "...          ...        ...       ...              ...\n",
      "3532  1174406462          5       0.0                8\n",
      "3533  1174406463          1    7607.0             1414\n",
      "3534  1174406464          1    3850.0             1414\n",
      "3535  1174406465          1    6189.0              263\n",
      "3536  1174406465          2    6458.0              774\n",
      "\n",
      "[60314 rows x 4 columns]\n"
     ]
    }
   ],
   "source": [
    "import pandas as pd\n",
    "import glob\n",
    "\n",
    "folder_path = '..\\Resources\\lactancia_historica'\n",
    "file_list = glob.glob(folder_path + \"/*.csv\")\n",
    "df = pd.DataFrame()\n",
    "for i in range(len(file_list)):\n",
    "    data = pd.read_csv(file_list[i])\n",
    "    data.columns = [\"id\", \"date\", \"lactation\", \"milk_days\", \"daily_production\"]\n",
    "    res = calculate_lacta(data)\n",
    "    res=pd.DataFrame.from_dict(res, orient='columns')\n",
    "    res.columns = [\"id\", \"lactation\", \"milk_days\", \"daily_production\"]\n",
    "    df = pd.concat([df,res])\n",
    "print(df)"
   ]
  },
  {
   "cell_type": "code",
   "execution_count": 86,
   "id": "9c77f8a5",
   "metadata": {},
   "outputs": [
    {
     "data": {
      "text/html": [
       "<div>\n",
       "<style scoped>\n",
       "    .dataframe tbody tr th:only-of-type {\n",
       "        vertical-align: middle;\n",
       "    }\n",
       "\n",
       "    .dataframe tbody tr th {\n",
       "        vertical-align: top;\n",
       "    }\n",
       "\n",
       "    .dataframe thead th {\n",
       "        text-align: right;\n",
       "    }\n",
       "</style>\n",
       "<table border=\"1\" class=\"dataframe\">\n",
       "  <thead>\n",
       "    <tr style=\"text-align: right;\">\n",
       "      <th></th>\n",
       "      <th>id</th>\n",
       "      <th>lactation</th>\n",
       "      <th>milk_days</th>\n",
       "      <th>daily_production</th>\n",
       "    </tr>\n",
       "  </thead>\n",
       "  <tbody>\n",
       "    <tr>\n",
       "      <th>0</th>\n",
       "      <td>1</td>\n",
       "      <td>1</td>\n",
       "      <td>56.0</td>\n",
       "      <td>11</td>\n",
       "    </tr>\n",
       "    <tr>\n",
       "      <th>1</th>\n",
       "      <td>2</td>\n",
       "      <td>1</td>\n",
       "      <td>15553.0</td>\n",
       "      <td>446</td>\n",
       "    </tr>\n",
       "    <tr>\n",
       "      <th>2</th>\n",
       "      <td>2</td>\n",
       "      <td>2</td>\n",
       "      <td>13637.0</td>\n",
       "      <td>317</td>\n",
       "    </tr>\n",
       "    <tr>\n",
       "      <th>3</th>\n",
       "      <td>2</td>\n",
       "      <td>3</td>\n",
       "      <td>6280.0</td>\n",
       "      <td>306</td>\n",
       "    </tr>\n",
       "    <tr>\n",
       "      <th>4</th>\n",
       "      <td>2</td>\n",
       "      <td>4</td>\n",
       "      <td>15134.0</td>\n",
       "      <td>361</td>\n",
       "    </tr>\n",
       "    <tr>\n",
       "      <th>5</th>\n",
       "      <td>2</td>\n",
       "      <td>5</td>\n",
       "      <td>9458.0</td>\n",
       "      <td>237</td>\n",
       "    </tr>\n",
       "    <tr>\n",
       "      <th>6</th>\n",
       "      <td>3</td>\n",
       "      <td>1</td>\n",
       "      <td>8165.0</td>\n",
       "      <td>295</td>\n",
       "    </tr>\n",
       "    <tr>\n",
       "      <th>7</th>\n",
       "      <td>3</td>\n",
       "      <td>2</td>\n",
       "      <td>11329.0</td>\n",
       "      <td>352</td>\n",
       "    </tr>\n",
       "    <tr>\n",
       "      <th>8</th>\n",
       "      <td>3</td>\n",
       "      <td>3</td>\n",
       "      <td>11471.0</td>\n",
       "      <td>346</td>\n",
       "    </tr>\n",
       "    <tr>\n",
       "      <th>9</th>\n",
       "      <td>4</td>\n",
       "      <td>1</td>\n",
       "      <td>673.0</td>\n",
       "      <td>68</td>\n",
       "    </tr>\n",
       "  </tbody>\n",
       "</table>\n",
       "</div>"
      ],
      "text/plain": [
       "  id  lactation milk_days daily_production\n",
       "0  1          1      56.0               11\n",
       "1  2          1   15553.0              446\n",
       "2  2          2   13637.0              317\n",
       "3  2          3    6280.0              306\n",
       "4  2          4   15134.0              361\n",
       "5  2          5    9458.0              237\n",
       "6  3          1    8165.0              295\n",
       "7  3          2   11329.0              352\n",
       "8  3          3   11471.0              346\n",
       "9  4          1     673.0               68"
      ]
     },
     "execution_count": 86,
     "metadata": {},
     "output_type": "execute_result"
    }
   ],
   "source": [
    "df.head(10)"
   ]
  },
  {
   "cell_type": "code",
   "execution_count": 87,
   "id": "0424ebe0",
   "metadata": {},
   "outputs": [
    {
     "data": {
      "text/plain": [
       "id                  object\n",
       "lactation            int64\n",
       "milk_days           object\n",
       "daily_production    object\n",
       "dtype: object"
      ]
     },
     "execution_count": 87,
     "metadata": {},
     "output_type": "execute_result"
    }
   ],
   "source": [
    "df.dtypes"
   ]
  },
  {
   "cell_type": "code",
   "execution_count": 88,
   "id": "410d13c1",
   "metadata": {},
   "outputs": [
    {
     "data": {
      "text/plain": [
       "array(['1', '2', '3', ..., '1174406462', '1174406463', '1174406464'],\n",
       "      dtype=object)"
      ]
     },
     "execution_count": 88,
     "metadata": {},
     "output_type": "execute_result"
    }
   ],
   "source": [
    "df[\"id\"].unique()"
   ]
  },
  {
   "cell_type": "code",
   "execution_count": 97,
   "id": "b6450f5c",
   "metadata": {},
   "outputs": [],
   "source": [
    "def calculate_lacta(df):\n",
    "    out = []\n",
    "    for id in df[\"id\"].unique():\n",
    "        id_df=df[(df.id==id)]\n",
    "        lactancias = list(id_df['lactation'].unique())\n",
    "        for lacta in lactancias:\n",
    "            vaca = {}\n",
    "            vaca['id'] = str(id)\n",
    "            vaca['lacta'] = lacta\n",
    "            df_lactancia=id_df[(id_df.lactation==lacta)]\n",
    "            total_produccion = df_lactancia['daily_production'].sum()\n",
    "            dias_leche = df_lactancia.iloc[-1]['milk_days']\n",
    "            vaca['lactation_total'] = str(total_produccion)\n",
    "            vaca['milk_days'] = str(dias_leche)\n",
    "            out.append(vaca)\n",
    "    return out"
   ]
  },
  {
   "cell_type": "code",
   "execution_count": 98,
   "id": "668481c3",
   "metadata": {},
   "outputs": [],
   "source": [
    "df = df.to_dict('records')"
   ]
  },
  {
   "cell_type": "code",
   "execution_count": 99,
   "id": "2b104bde",
   "metadata": {},
   "outputs": [],
   "source": [
    "import json\n",
    "# Serializing json \n",
    "json_object = json.dumps(df, indent = 4)  \n",
    "# Writing to sample.json\n",
    "with open(\"full.json\", \"w\") as outfile:\n",
    "    outfile.write(json_object)"
   ]
  },
  {
   "cell_type": "code",
   "execution_count": null,
   "id": "2ef236e6",
   "metadata": {},
   "outputs": [],
   "source": []
  }
 ],
 "metadata": {
  "kernelspec": {
   "display_name": "Python 3 (ipykernel)",
   "language": "python",
   "name": "python3"
  },
  "language_info": {
   "codemirror_mode": {
    "name": "ipython",
    "version": 3
   },
   "file_extension": ".py",
   "mimetype": "text/x-python",
   "name": "python",
   "nbconvert_exporter": "python",
   "pygments_lexer": "ipython3",
   "version": "3.9.7"
  }
 },
 "nbformat": 4,
 "nbformat_minor": 5
}
