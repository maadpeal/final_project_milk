{
 "cells": [
  {
   "cell_type": "code",
   "execution_count": 7,
   "id": "483a78e2",
   "metadata": {},
   "outputs": [],
   "source": [
    "import csv\n",
    "import itertools\n",
    "import os\n",
    "\n",
    "def rows_count(file):\n",
    "    with open(file, 'r') as f:\n",
    "        return sum(1 for row in f)\n",
    "\n",
    "def get_chucks(it, lines, chucks):\n",
    "    chuck_size = lines // chucks\n",
    "    for i in range(1, chucks):\n",
    "        yield i, itertools.islice(it, chuck_size)\n",
    "    yield i + 1, it\n",
    "\n",
    "def split_csv(file,  filediv,  header = True):\n",
    "    with open(file, 'r') as csvfile:\n",
    "        spamreader = csv.reader(csvfile, delimiter=',', quotechar='\"')\n",
    "        lines = rows_count(file)\n",
    "        head = None\n",
    "        if header:\n",
    "            lines -= 1\n",
    "            head = next(spamreader)\n",
    "        if lines < filediv:\n",
    "            raise ValueError(\"The number of rows ({}) is less than the number of output files ({})\".format(lines, filediv))\n",
    "        for i, data in get_chucks(spamreader, lines, filediv):\n",
    "            path = f\"./Resources/lactancia_historica/subfile_{i}.csv\".format(os.path.dirname(file), i)\n",
    "            write_csv_files(path, data, head)\n",
    "\n",
    "def write_csv_files(path, data, header = None):\n",
    "    print(path)\n",
    "    with open(path, mode='w') as csvfile:\n",
    "        spamwriter = csv.writer(csvfile, delimiter=',', quotechar='\"',\n",
    "                                quoting=csv.QUOTE_MINIMAL)\n",
    "        if header:\n",
    "            spamwriter.writerow(header)\n",
    "        spamwriter.writerows(data)"
   ]
  },
  {
   "cell_type": "code",
   "execution_count": null,
   "id": "424910bb",
   "metadata": {},
   "outputs": [
    {
     "name": "stdout",
     "output_type": "stream",
     "text": [
      "./Resources/lactancia_historica/subfile_1.csv\n",
      "./Resources/lactancia_historica/subfile_2.csv\n",
      "./Resources/lactancia_historica/subfile_3.csv\n",
      "./Resources/lactancia_historica/subfile_4.csv\n",
      "./Resources/lactancia_historica/subfile_5.csv\n",
      "./Resources/lactancia_historica/subfile_6.csv\n",
      "./Resources/lactancia_historica/subfile_7.csv\n",
      "./Resources/lactancia_historica/subfile_8.csv\n",
      "./Resources/lactancia_historica/subfile_9.csv\n",
      "./Resources/lactancia_historica/subfile_10.csv\n",
      "./Resources/lactancia_historica/subfile_11.csv\n",
      "./Resources/lactancia_historica/subfile_12.csv\n",
      "./Resources/lactancia_historica/subfile_13.csv\n",
      "./Resources/lactancia_historica/subfile_14.csv\n",
      "./Resources/lactancia_historica/subfile_15.csv\n",
      "./Resources/lactancia_historica/subfile_16.csv\n",
      "./Resources/lactancia_historica/subfile_17.csv\n",
      "./Resources/lactancia_historica/subfile_18.csv\n",
      "./Resources/lactancia_historica/subfile_19.csv\n"
     ]
    }
   ],
   "source": [
    "split_csv('produccion_del.csv',  20, header = False)"
   ]
  },
  {
   "cell_type": "code",
   "execution_count": null,
   "id": "df866396",
   "metadata": {},
   "outputs": [],
   "source": []
  }
 ],
 "metadata": {
  "kernelspec": {
   "display_name": "Python 3",
   "language": "python",
   "name": "python3"
  },
  "language_info": {
   "codemirror_mode": {
    "name": "ipython",
    "version": 3
   },
   "file_extension": ".py",
   "mimetype": "text/x-python",
   "name": "python",
   "nbconvert_exporter": "python",
   "pygments_lexer": "ipython3",
   "version": "3.8.8"
  }
 },
 "nbformat": 4,
 "nbformat_minor": 5
}
