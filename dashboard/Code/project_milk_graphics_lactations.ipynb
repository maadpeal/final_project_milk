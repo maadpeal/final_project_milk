{
 "cells": [
  {
   "cell_type": "code",
   "execution_count": 1,
   "id": "97825910",
   "metadata": {},
   "outputs": [],
   "source": [
    "import pandas as pd\n",
    "import numpy as np\n",
    "%matplotlib inline\n",
    "import matplotlib.pyplot as plt\n",
    "import seaborn as sns"
   ]
  },
  {
   "cell_type": "code",
   "execution_count": 2,
   "id": "f571ddf4",
   "metadata": {},
   "outputs": [
    {
     "data": {
      "text/html": [
       "<div>\n",
       "<style scoped>\n",
       "    .dataframe tbody tr th:only-of-type {\n",
       "        vertical-align: middle;\n",
       "    }\n",
       "\n",
       "    .dataframe tbody tr th {\n",
       "        vertical-align: top;\n",
       "    }\n",
       "\n",
       "    .dataframe thead th {\n",
       "        text-align: right;\n",
       "    }\n",
       "</style>\n",
       "<table border=\"1\" class=\"dataframe\">\n",
       "  <thead>\n",
       "    <tr style=\"text-align: right;\">\n",
       "      <th></th>\n",
       "      <th>index</th>\n",
       "      <th>cow</th>\n",
       "      <th>Status</th>\n",
       "      <th>gynecological_status</th>\n",
       "      <th>patio</th>\n",
       "      <th>given_birthdate</th>\n",
       "      <th>lactation</th>\n",
       "      <th>milk_days</th>\n",
       "      <th>number_mastitis_lactation_1</th>\n",
       "      <th>number_mastitis_lactation_2</th>\n",
       "      <th>number_mastitis_lactation_3</th>\n",
       "      <th>number_mastitis_lactation_4</th>\n",
       "      <th>number_mastitis_lactation_5</th>\n",
       "      <th>number_mastitis_lactation_6</th>\n",
       "      <th>number_mastitis_lactation_7</th>\n",
       "      <th>number_mastitis_lactation_8</th>\n",
       "      <th>number_mastitis_lactation_9</th>\n",
       "    </tr>\n",
       "  </thead>\n",
       "  <tbody>\n",
       "    <tr>\n",
       "      <th>0</th>\n",
       "      <td>1</td>\n",
       "      <td>5</td>\n",
       "      <td>milking</td>\n",
       "      <td>pregnacy</td>\n",
       "      <td>13</td>\n",
       "      <td>9/16/2016</td>\n",
       "      <td>4</td>\n",
       "      <td>265</td>\n",
       "      <td>0</td>\n",
       "      <td>0</td>\n",
       "      <td>0</td>\n",
       "      <td>0</td>\n",
       "      <td>0</td>\n",
       "      <td>0</td>\n",
       "      <td>0</td>\n",
       "      <td>0</td>\n",
       "      <td>0</td>\n",
       "    </tr>\n",
       "    <tr>\n",
       "      <th>1</th>\n",
       "      <td>2</td>\n",
       "      <td>9</td>\n",
       "      <td>milking</td>\n",
       "      <td>heat</td>\n",
       "      <td>24</td>\n",
       "      <td>10/11/2016</td>\n",
       "      <td>4</td>\n",
       "      <td>253</td>\n",
       "      <td>0</td>\n",
       "      <td>0</td>\n",
       "      <td>0</td>\n",
       "      <td>0</td>\n",
       "      <td>0</td>\n",
       "      <td>0</td>\n",
       "      <td>0</td>\n",
       "      <td>0</td>\n",
       "      <td>0</td>\n",
       "    </tr>\n",
       "    <tr>\n",
       "      <th>2</th>\n",
       "      <td>3</td>\n",
       "      <td>16</td>\n",
       "      <td>milking</td>\n",
       "      <td>labor</td>\n",
       "      <td>19</td>\n",
       "      <td>11/15/2016</td>\n",
       "      <td>4</td>\n",
       "      <td>63</td>\n",
       "      <td>0</td>\n",
       "      <td>0</td>\n",
       "      <td>0</td>\n",
       "      <td>0</td>\n",
       "      <td>0</td>\n",
       "      <td>0</td>\n",
       "      <td>0</td>\n",
       "      <td>0</td>\n",
       "      <td>0</td>\n",
       "    </tr>\n",
       "    <tr>\n",
       "      <th>3</th>\n",
       "      <td>4</td>\n",
       "      <td>27</td>\n",
       "      <td>milking</td>\n",
       "      <td>heat</td>\n",
       "      <td>20</td>\n",
       "      <td>12/4/2017</td>\n",
       "      <td>3</td>\n",
       "      <td>48</td>\n",
       "      <td>0</td>\n",
       "      <td>0</td>\n",
       "      <td>0</td>\n",
       "      <td>0</td>\n",
       "      <td>0</td>\n",
       "      <td>0</td>\n",
       "      <td>0</td>\n",
       "      <td>0</td>\n",
       "      <td>0</td>\n",
       "    </tr>\n",
       "    <tr>\n",
       "      <th>4</th>\n",
       "      <td>5</td>\n",
       "      <td>121</td>\n",
       "      <td>milking</td>\n",
       "      <td>pregnacy</td>\n",
       "      <td>15</td>\n",
       "      <td>8/6/2013</td>\n",
       "      <td>7</td>\n",
       "      <td>159</td>\n",
       "      <td>0</td>\n",
       "      <td>0</td>\n",
       "      <td>0</td>\n",
       "      <td>0</td>\n",
       "      <td>1</td>\n",
       "      <td>0</td>\n",
       "      <td>0</td>\n",
       "      <td>0</td>\n",
       "      <td>0</td>\n",
       "    </tr>\n",
       "  </tbody>\n",
       "</table>\n",
       "</div>"
      ],
      "text/plain": [
       "   index  cow   Status gynecological_status  patio given_birthdate  lactation  \\\n",
       "0      1    5  milking             pregnacy     13       9/16/2016          4   \n",
       "1      2    9  milking                 heat     24      10/11/2016          4   \n",
       "2      3   16  milking                labor     19      11/15/2016          4   \n",
       "3      4   27  milking                 heat     20       12/4/2017          3   \n",
       "4      5  121  milking             pregnacy     15        8/6/2013          7   \n",
       "\n",
       "   milk_days  number_mastitis_lactation_1  number_mastitis_lactation_2  \\\n",
       "0        265                            0                            0   \n",
       "1        253                            0                            0   \n",
       "2         63                            0                            0   \n",
       "3         48                            0                            0   \n",
       "4        159                            0                            0   \n",
       "\n",
       "   number_mastitis_lactation_3  number_mastitis_lactation_4  \\\n",
       "0                            0                            0   \n",
       "1                            0                            0   \n",
       "2                            0                            0   \n",
       "3                            0                            0   \n",
       "4                            0                            0   \n",
       "\n",
       "   number_mastitis_lactation_5  number_mastitis_lactation_6  \\\n",
       "0                            0                            0   \n",
       "1                            0                            0   \n",
       "2                            0                            0   \n",
       "3                            0                            0   \n",
       "4                            1                            0   \n",
       "\n",
       "   number_mastitis_lactation_7  number_mastitis_lactation_8  \\\n",
       "0                            0                            0   \n",
       "1                            0                            0   \n",
       "2                            0                            0   \n",
       "3                            0                            0   \n",
       "4                            0                            0   \n",
       "\n",
       "   number_mastitis_lactation_9  \n",
       "0                            0  \n",
       "1                            0  \n",
       "2                            0  \n",
       "3                            0  \n",
       "4                            0  "
      ]
     },
     "execution_count": 2,
     "metadata": {},
     "output_type": "execute_result"
    }
   ],
   "source": [
    "import os\n",
    "mastitis_to_load = os.path.join(\"Resources/Mastitis_by_lactation.csv\")\n",
    "mastitis_df = pd.read_csv(mastitis_to_load)\n",
    "mastitis_df.head()"
   ]
  },
  {
   "cell_type": "code",
   "execution_count": 3,
   "id": "4cc6902e",
   "metadata": {},
   "outputs": [
    {
     "data": {
      "text/plain": [
       "gynecological_status\n",
       "abortion         237.928571\n",
       "heat              68.626437\n",
       "insemination     131.929577\n",
       "labor             30.949686\n",
       "no_inseminate    386.839286\n",
       "Name: milk_days, dtype: float64"
      ]
     },
     "execution_count": 3,
     "metadata": {},
     "output_type": "execute_result"
    }
   ],
   "source": [
    "#estado ginecologico y media de dias de leche\n",
    "gyn_status = mastitis_df.groupby([\"gynecological_status\"]).mean()[\"milk_days\"]\n",
    "gyn_status.head()"
   ]
  },
  {
   "cell_type": "code",
   "execution_count": 4,
   "id": "a5c55bc9",
   "metadata": {},
   "outputs": [
    {
     "data": {
      "text/plain": [
       "Index(['id', 'lactation_1', 'lactation_2', 'lactation_3', 'lactation_4',\n",
       "       'lactation_5', 'lactation_6', 'lactation_7', 'lactation_8',\n",
       "       'lactation_9', 'total_production_1', 'total_production_2',\n",
       "       'total_production_3', 'total_production_4', 'total_production_5',\n",
       "       'total_production_6', 'total_production_7', 'total_production_8',\n",
       "       'total_production_9', 'milk_days_1', 'milk_days_2', 'milk_days_3',\n",
       "       'milk_days_4', 'milk_days_5', 'milk_days_6', 'milk_days_7',\n",
       "       'milk_days_8', 'milk_days_9', 'vaca_x', 'mastitis_lac_1',\n",
       "       'mastitis_lac_2', 'mastitis_lac_3', 'mastitis_lac_4', 'mastitis_lac_5',\n",
       "       'mastitis_lac_6', 'mastitis_lac_7', 'mastitis_lac_8', 'mastitis_lac_9',\n",
       "       'vaca_y', 'inseminacion_lac_1', 'inseminacion_lac_2',\n",
       "       'inseminacion_lac_3', 'inseminacion_lac_4', 'inseminacion_lac_5',\n",
       "       'inseminacion_lac_6', 'inseminacion_lac_7', 'inseminacion_lac_8',\n",
       "       'inseminacion_lac_9', 'abortos_Lac_1', 'abortos_lac_2', 'abortos_lac_3',\n",
       "       'abortos_lac_4', 'abortos_lac_5', 'abortos_lac_6', 'abortos_lac_7',\n",
       "       'abortos_lac_8', 'abortos_lac_9'],\n",
       "      dtype='object')"
      ]
     },
     "execution_count": 4,
     "metadata": {},
     "output_type": "execute_result"
    }
   ],
   "source": [
    "cow_to_load = os.path.join(\"Resources/alive_cows_to_predict.csv\")\n",
    "cow_df = pd.read_csv(cow_to_load)\n",
    "cow_df.columns"
   ]
  },
  {
   "cell_type": "code",
   "execution_count": 5,
   "id": "0b0a5d67",
   "metadata": {},
   "outputs": [
    {
     "data": {
      "text/plain": [
       "Index(['Unnamed: 0', 'id', 'lactation_1', 'lactation_2', 'lactation_3',\n",
       "       'total_production_1', 'total_production_2', 'total_production_3',\n",
       "       'milk_days_1', 'milk_days_2', 'milk_days_3', 'mastitis_lac_1',\n",
       "       'mastitis_lac_2', 'mastitis_lac_3', 'inseminacion_lac_1',\n",
       "       'inseminacion_lac_2', 'inseminacion_lac_3', 'abortos_Lac_1',\n",
       "       'abortos_lac_2', 'abortos_lac_3', 'production_ok'],\n",
       "      dtype='object')"
      ]
     },
     "execution_count": 5,
     "metadata": {},
     "output_type": "execute_result"
    }
   ],
   "source": [
    "data_to_load = os.path.join(\"Resources/data_preprocesed_lact_3.csv\")\n",
    "data_df = pd.read_csv(data_to_load)\n",
    "data_df.columns"
   ]
  },
  {
   "cell_type": "code",
   "execution_count": 6,
   "id": "832d8315",
   "metadata": {},
   "outputs": [
    {
     "data": {
      "text/plain": [
       "4393"
      ]
     },
     "execution_count": 6,
     "metadata": {},
     "output_type": "execute_result"
    }
   ],
   "source": [
    "#total de vacas\n",
    "total_cow_count = cow_df[\"id\"].count()\n",
    "total_cow_count"
   ]
  },
  {
   "cell_type": "code",
   "execution_count": 7,
   "id": "7d807ab1",
   "metadata": {},
   "outputs": [
    {
     "data": {
      "text/plain": [
       "27.908035511040293"
      ]
     },
     "execution_count": 7,
     "metadata": {},
     "output_type": "execute_result"
    }
   ],
   "source": [
    "#Cows with more than 10000lt in 1st lactation.\n",
    "profitable_cows1 = cow_df[cow_df[\"total_production_1\"] >= 10000]\n",
    "cows_count = profitable_cows1[\"id\"].count()\n",
    "profitable_percentage1 = cows_count / float(total_cow_count) * 100\n",
    "profitable_percentage1"
   ]
  },
  {
   "cell_type": "code",
   "execution_count": 8,
   "id": "ac5343c5",
   "metadata": {},
   "outputs": [
    {
     "data": {
      "text/plain": [
       "72.0919644889597"
      ]
     },
     "execution_count": 8,
     "metadata": {},
     "output_type": "execute_result"
    }
   ],
   "source": [
    "less_profitable_cows1  =  100- profitable_percentage1\n",
    "less_profitable_cows1"
   ]
  },
  {
   "cell_type": "code",
   "execution_count": 9,
   "id": "7c16e992",
   "metadata": {},
   "outputs": [
    {
     "data": {
      "text/plain": [
       "36107522"
      ]
     },
     "execution_count": 9,
     "metadata": {},
     "output_type": "execute_result"
    }
   ],
   "source": [
    "#total 1st lactation litters\n",
    "total_production1 = cow_df[\"total_production_1\"].sum()\n",
    "total_production1"
   ]
  },
  {
   "cell_type": "code",
   "execution_count": 10,
   "id": "c5858430",
   "metadata": {},
   "outputs": [
    {
     "data": {
      "text/plain": [
       "45.58987718645329"
      ]
     },
     "execution_count": 10,
     "metadata": {},
     "output_type": "execute_result"
    }
   ],
   "source": [
    "#Cows with more than 10000lt in 2nd lactation.\n",
    "cow_2 = cow_df[cow_df[\"lactation_2\"] == 1]\n",
    "cows2_count = cow_2[\"id\"].count()\n",
    "profitable_cows2 = cow_df[cow_df[\"total_production_2\"] >= 10000]\n",
    "total_cows_count2 = profitable_cows2[\"id\"].count()\n",
    "profitable_percentage2 = total_cows_count2 / float(cows2_count) * 100\n",
    "profitable_percentage2"
   ]
  },
  {
   "cell_type": "code",
   "execution_count": 11,
   "id": "a18fa235",
   "metadata": {},
   "outputs": [
    {
     "data": {
      "text/plain": [
       "54.41012281354671"
      ]
     },
     "execution_count": 11,
     "metadata": {},
     "output_type": "execute_result"
    }
   ],
   "source": [
    "less_profitable_cows2  =  100- profitable_percentage2\n",
    "less_profitable_cows2"
   ]
  },
  {
   "cell_type": "code",
   "execution_count": 12,
   "id": "cd16854d",
   "metadata": {},
   "outputs": [
    {
     "data": {
      "text/plain": [
       "24544244"
      ]
     },
     "execution_count": 12,
     "metadata": {},
     "output_type": "execute_result"
    }
   ],
   "source": [
    "#total 2nd lactation litters\n",
    "total_production2 = cow_df[\"total_production_2\"].sum()\n",
    "total_production2"
   ]
  },
  {
   "cell_type": "code",
   "execution_count": 13,
   "id": "d102f639",
   "metadata": {},
   "outputs": [
    {
     "data": {
      "text/plain": [
       "48.45212383009359"
      ]
     },
     "execution_count": 13,
     "metadata": {},
     "output_type": "execute_result"
    }
   ],
   "source": [
    "#Cows with more than 10000lt in 3rd lactation.\n",
    "cow_3 = cow_df[cow_df[\"lactation_3\"] == 1]\n",
    "cows3_count = cow_3[\"id\"].count()\n",
    "profitable_cows3 = cow_df[cow_df[\"total_production_3\"] >= 10000]\n",
    "total_cows_count3 = profitable_cows3[\"id\"].count()\n",
    "profitable_percentage3 = total_cows_count3 / float(cows3_count) * 100\n",
    "profitable_percentage3"
   ]
  },
  {
   "cell_type": "code",
   "execution_count": 14,
   "id": "fdd5d6f2",
   "metadata": {},
   "outputs": [
    {
     "data": {
      "text/plain": [
       "51.54787616990641"
      ]
     },
     "execution_count": 14,
     "metadata": {},
     "output_type": "execute_result"
    }
   ],
   "source": [
    "less_profitable_cows3  =  100- profitable_percentage3\n",
    "less_profitable_cows3"
   ]
  },
  {
   "cell_type": "code",
   "execution_count": 15,
   "id": "113cf6bb",
   "metadata": {},
   "outputs": [
    {
     "data": {
      "text/plain": [
       "13055310"
      ]
     },
     "execution_count": 15,
     "metadata": {},
     "output_type": "execute_result"
    }
   ],
   "source": [
    "#total 3rd lactation litters\n",
    "total_production3 = cow_df[\"total_production_3\"].sum()\n",
    "total_production3"
   ]
  },
  {
   "cell_type": "code",
   "execution_count": 16,
   "id": "604499da",
   "metadata": {},
   "outputs": [
    {
     "data": {
      "text/plain": [
       "46.69811320754717"
      ]
     },
     "execution_count": 16,
     "metadata": {},
     "output_type": "execute_result"
    }
   ],
   "source": [
    "#Cows with more than 10000lt in 4rd lactation.\n",
    "cow_4 = cow_df[cow_df[\"lactation_4\"] == 1]\n",
    "cows4_count = cow_4[\"id\"].count()\n",
    "profitable_cows4 = cow_df[cow_df[\"total_production_4\"] >= 10000]\n",
    "total_cows_count4 = profitable_cows4[\"id\"].count()\n",
    "profitable_percentage4 = total_cows_count4 / float(cows4_count) * 100\n",
    "profitable_percentage4"
   ]
  },
  {
   "cell_type": "code",
   "execution_count": 17,
   "id": "ea9646bf",
   "metadata": {},
   "outputs": [
    {
     "data": {
      "text/plain": [
       "53.30188679245283"
      ]
     },
     "execution_count": 17,
     "metadata": {},
     "output_type": "execute_result"
    }
   ],
   "source": [
    "less_profitable_cows4  =  100- profitable_percentage4\n",
    "less_profitable_cows4"
   ]
  },
  {
   "cell_type": "code",
   "execution_count": 18,
   "id": "82188ba9",
   "metadata": {},
   "outputs": [
    {
     "data": {
      "text/plain": [
       "5928491"
      ]
     },
     "execution_count": 18,
     "metadata": {},
     "output_type": "execute_result"
    }
   ],
   "source": [
    "#total 4rd lactation litters\n",
    "total_production4 = cow_df[\"total_production_4\"].sum()\n",
    "total_production4"
   ]
  },
  {
   "cell_type": "code",
   "execution_count": 19,
   "id": "9170fa99",
   "metadata": {},
   "outputs": [
    {
     "data": {
      "text/plain": [
       "44.48529411764706"
      ]
     },
     "execution_count": 19,
     "metadata": {},
     "output_type": "execute_result"
    }
   ],
   "source": [
    "#Cows with more than 10000lt in 5th lactation.\n",
    "cow_5 = cow_df[cow_df[\"lactation_5\"] == 1]\n",
    "cows5_count = cow_5[\"id\"].count()\n",
    "profitable_cows5 = cow_df[cow_df[\"total_production_5\"] >= 10000]\n",
    "total_cows_count5 = profitable_cows5[\"id\"].count()\n",
    "profitable_percentage5 = total_cows_count5 / float(cows5_count) * 100\n",
    "profitable_percentage5"
   ]
  },
  {
   "cell_type": "code",
   "execution_count": 20,
   "id": "370be8ae",
   "metadata": {},
   "outputs": [
    {
     "data": {
      "text/plain": [
       "55.51470588235294"
      ]
     },
     "execution_count": 20,
     "metadata": {},
     "output_type": "execute_result"
    }
   ],
   "source": [
    "less_profitable_cows5  =  100- profitable_percentage5\n",
    "less_profitable_cows5"
   ]
  },
  {
   "cell_type": "code",
   "execution_count": 21,
   "id": "35879d12",
   "metadata": {},
   "outputs": [
    {
     "data": {
      "text/plain": [
       "2472097"
      ]
     },
     "execution_count": 21,
     "metadata": {},
     "output_type": "execute_result"
    }
   ],
   "source": [
    "#total 5th lactation litters\n",
    "total_production5 = cow_df[\"total_production_5\"].sum()\n",
    "total_production5"
   ]
  },
  {
   "cell_type": "code",
   "execution_count": 22,
   "id": "d7160c3e",
   "metadata": {},
   "outputs": [
    {
     "data": {
      "text/plain": [
       "32.6530612244898"
      ]
     },
     "execution_count": 22,
     "metadata": {},
     "output_type": "execute_result"
    }
   ],
   "source": [
    "#Cows with more than 10000lt in 6th lactation.\n",
    "cow_6 = cow_df[cow_df[\"lactation_6\"] == 1]\n",
    "cows6_count = cow_6[\"id\"].count()\n",
    "profitable_cows6 = cow_df[cow_df[\"total_production_6\"] >= 10000]\n",
    "total_cows_count6 = profitable_cows6[\"id\"].count()\n",
    "profitable_percentage6 = total_cows_count6 / float(cows6_count) * 100\n",
    "profitable_percentage6"
   ]
  },
  {
   "cell_type": "code",
   "execution_count": 23,
   "id": "33657dda",
   "metadata": {},
   "outputs": [
    {
     "data": {
      "text/plain": [
       "67.34693877551021"
      ]
     },
     "execution_count": 23,
     "metadata": {},
     "output_type": "execute_result"
    }
   ],
   "source": [
    "less_profitable_cows6  =  100- profitable_percentage6\n",
    "less_profitable_cows6"
   ]
  },
  {
   "cell_type": "code",
   "execution_count": 24,
   "id": "0f924150",
   "metadata": {},
   "outputs": [
    {
     "data": {
      "text/plain": [
       "802891"
      ]
     },
     "execution_count": 24,
     "metadata": {},
     "output_type": "execute_result"
    }
   ],
   "source": [
    "#total 6th lactation litters\n",
    "total_production6 = cow_df[\"total_production_6\"].sum()\n",
    "total_production6"
   ]
  },
  {
   "cell_type": "code",
   "execution_count": 25,
   "id": "499422f6",
   "metadata": {},
   "outputs": [
    {
     "data": {
      "text/plain": [
       "17.24137931034483"
      ]
     },
     "execution_count": 25,
     "metadata": {},
     "output_type": "execute_result"
    }
   ],
   "source": [
    "#Cows with more than 10000lt in 7th lactation.\n",
    "cow_7 = cow_df[cow_df[\"lactation_7\"] == 1]\n",
    "cows7_count = cow_7[\"id\"].count()\n",
    "profitable_cows7 = cow_df[cow_df[\"total_production_7\"] >= 10000]\n",
    "total_cows_count7 = profitable_cows7[\"id\"].count()\n",
    "profitable_percentage7 = total_cows_count7 / float(cows7_count) * 100\n",
    "profitable_percentage7"
   ]
  },
  {
   "cell_type": "code",
   "execution_count": 26,
   "id": "45c77486",
   "metadata": {},
   "outputs": [
    {
     "data": {
      "text/plain": [
       "82.75862068965517"
      ]
     },
     "execution_count": 26,
     "metadata": {},
     "output_type": "execute_result"
    }
   ],
   "source": [
    "less_profitable_cows7  =  100- profitable_percentage7\n",
    "less_profitable_cows7"
   ]
  },
  {
   "cell_type": "code",
   "execution_count": 27,
   "id": "7dbaac7a",
   "metadata": {},
   "outputs": [
    {
     "data": {
      "text/plain": [
       "211445"
      ]
     },
     "execution_count": 27,
     "metadata": {},
     "output_type": "execute_result"
    }
   ],
   "source": [
    "#total 7th lactation litters\n",
    "total_production7 = cow_df[\"total_production_7\"].sum()\n",
    "total_production7"
   ]
  },
  {
   "cell_type": "code",
   "execution_count": 28,
   "id": "ce840616",
   "metadata": {},
   "outputs": [
    {
     "data": {
      "text/plain": [
       "16.666666666666664"
      ]
     },
     "execution_count": 28,
     "metadata": {},
     "output_type": "execute_result"
    }
   ],
   "source": [
    "#Cows with more than 10000lt in 8th lactation.\n",
    "cow_8 = cow_df[cow_df[\"lactation_8\"] == 1]\n",
    "cows8_count = cow_8[\"id\"].count()\n",
    "profitable_cows8 = cow_df[cow_df[\"total_production_8\"] >= 10000]\n",
    "total_cows_count8 = profitable_cows8[\"id\"].count()\n",
    "profitable_percentage8 = total_cows_count8 / float(cows8_count) * 100\n",
    "profitable_percentage8"
   ]
  },
  {
   "cell_type": "code",
   "execution_count": 29,
   "id": "d04a1e93",
   "metadata": {},
   "outputs": [
    {
     "data": {
      "text/plain": [
       "83.33333333333334"
      ]
     },
     "execution_count": 29,
     "metadata": {},
     "output_type": "execute_result"
    }
   ],
   "source": [
    "less_profitable_cows8  =  100- profitable_percentage8\n",
    "less_profitable_cows8"
   ]
  },
  {
   "cell_type": "code",
   "execution_count": 30,
   "id": "5a4dce77",
   "metadata": {},
   "outputs": [
    {
     "data": {
      "text/plain": [
       "40445"
      ]
     },
     "execution_count": 30,
     "metadata": {},
     "output_type": "execute_result"
    }
   ],
   "source": [
    "#total 8th lactation litters\n",
    "total_production8 = cow_df[\"total_production_8\"].sum()\n",
    "total_production8"
   ]
  },
  {
   "cell_type": "code",
   "execution_count": 31,
   "id": "3a892ea8",
   "metadata": {},
   "outputs": [
    {
     "data": {
      "text/plain": [
       "0.0"
      ]
     },
     "execution_count": 31,
     "metadata": {},
     "output_type": "execute_result"
    }
   ],
   "source": [
    "#Cows with more than 10000lt in 9th lactation.\n",
    "cow_9 = cow_df[cow_df[\"lactation_9\"] == 1]\n",
    "cows9_count = cow_9[\"id\"].count()\n",
    "profitable_cows9 = cow_df[cow_df[\"total_production_9\"] >= 10000]\n",
    "total_cows_count9 = profitable_cows9[\"id\"].count()\n",
    "profitable_percentage9 = total_cows_count9 / float(cows9_count) * 100\n",
    "profitable_percentage9"
   ]
  },
  {
   "cell_type": "code",
   "execution_count": 32,
   "id": "10aae05e",
   "metadata": {},
   "outputs": [
    {
     "data": {
      "text/plain": [
       "100.0"
      ]
     },
     "execution_count": 32,
     "metadata": {},
     "output_type": "execute_result"
    }
   ],
   "source": [
    "less_profitable_cows9  =  100- profitable_percentage9\n",
    "less_profitable_cows9"
   ]
  },
  {
   "cell_type": "code",
   "execution_count": 33,
   "id": "d193cd38",
   "metadata": {},
   "outputs": [
    {
     "data": {
      "text/plain": [
       "8216"
      ]
     },
     "execution_count": 33,
     "metadata": {},
     "output_type": "execute_result"
    }
   ],
   "source": [
    "#total 9th lactation litters\n",
    "total_production9 = cow_df[\"total_production_9\"].sum()\n",
    "total_production9"
   ]
  },
  {
   "cell_type": "code",
   "execution_count": 34,
   "id": "1d2ae93d",
   "metadata": {},
   "outputs": [],
   "source": [
    "# profitable_lactations_df\n",
    "\n",
    "lactancia1 = [\"1\", profitable_percentage1, less_profitable_cows1, total_production1]\n",
    "lactancia2 = [\"2\", profitable_percentage2, less_profitable_cows2, total_production2]\n",
    "lactancia3 = [\"3\", profitable_percentage3, less_profitable_cows3, total_production3]\n",
    "lactancia4 = [\"4\", profitable_percentage4, less_profitable_cows4, total_production4]\n",
    "lactancia5 = [\"5\", profitable_percentage5, less_profitable_cows5, total_production5]\n",
    "lactancia6 = [\"6\", profitable_percentage6, less_profitable_cows6, total_production6]\n",
    "lactancia7 = [\"7\", profitable_percentage7, less_profitable_cows7, total_production7]\n",
    "lactancia8 = [\"8\", profitable_percentage8, less_profitable_cows8, total_production8]\n",
    "lactancia9 = [\"9\", profitable_percentage9, less_profitable_cows9, total_production9]\n",
    "\n",
    "lactations_list = [lactancia1,lactancia2,lactancia3,lactancia4,lactancia5,lactancia6,lactancia7,lactancia8,lactancia9]\n"
   ]
  },
  {
   "cell_type": "code",
   "execution_count": 35,
   "id": "1e3aee03",
   "metadata": {},
   "outputs": [
    {
     "data": {
      "text/html": [
       "<div>\n",
       "<style scoped>\n",
       "    .dataframe tbody tr th:only-of-type {\n",
       "        vertical-align: middle;\n",
       "    }\n",
       "\n",
       "    .dataframe tbody tr th {\n",
       "        vertical-align: top;\n",
       "    }\n",
       "\n",
       "    .dataframe thead th {\n",
       "        text-align: right;\n",
       "    }\n",
       "</style>\n",
       "<table border=\"1\" class=\"dataframe\">\n",
       "  <thead>\n",
       "    <tr style=\"text-align: right;\">\n",
       "      <th></th>\n",
       "      <th>lactation</th>\n",
       "      <th>profitable %</th>\n",
       "      <th>less profitable %</th>\n",
       "      <th>total production</th>\n",
       "    </tr>\n",
       "  </thead>\n",
       "  <tbody>\n",
       "    <tr>\n",
       "      <th>0</th>\n",
       "      <td>1</td>\n",
       "      <td>27.908036</td>\n",
       "      <td>72.091964</td>\n",
       "      <td>36107522</td>\n",
       "    </tr>\n",
       "    <tr>\n",
       "      <th>1</th>\n",
       "      <td>2</td>\n",
       "      <td>45.589877</td>\n",
       "      <td>54.410123</td>\n",
       "      <td>24544244</td>\n",
       "    </tr>\n",
       "    <tr>\n",
       "      <th>2</th>\n",
       "      <td>3</td>\n",
       "      <td>48.452124</td>\n",
       "      <td>51.547876</td>\n",
       "      <td>13055310</td>\n",
       "    </tr>\n",
       "    <tr>\n",
       "      <th>3</th>\n",
       "      <td>4</td>\n",
       "      <td>46.698113</td>\n",
       "      <td>53.301887</td>\n",
       "      <td>5928491</td>\n",
       "    </tr>\n",
       "    <tr>\n",
       "      <th>4</th>\n",
       "      <td>5</td>\n",
       "      <td>44.485294</td>\n",
       "      <td>55.514706</td>\n",
       "      <td>2472097</td>\n",
       "    </tr>\n",
       "    <tr>\n",
       "      <th>5</th>\n",
       "      <td>6</td>\n",
       "      <td>32.653061</td>\n",
       "      <td>67.346939</td>\n",
       "      <td>802891</td>\n",
       "    </tr>\n",
       "    <tr>\n",
       "      <th>6</th>\n",
       "      <td>7</td>\n",
       "      <td>17.241379</td>\n",
       "      <td>82.758621</td>\n",
       "      <td>211445</td>\n",
       "    </tr>\n",
       "    <tr>\n",
       "      <th>7</th>\n",
       "      <td>8</td>\n",
       "      <td>16.666667</td>\n",
       "      <td>83.333333</td>\n",
       "      <td>40445</td>\n",
       "    </tr>\n",
       "    <tr>\n",
       "      <th>8</th>\n",
       "      <td>9</td>\n",
       "      <td>0.000000</td>\n",
       "      <td>100.000000</td>\n",
       "      <td>8216</td>\n",
       "    </tr>\n",
       "  </tbody>\n",
       "</table>\n",
       "</div>"
      ],
      "text/plain": [
       "  lactation  profitable %  less profitable %  total production\n",
       "0         1     27.908036          72.091964          36107522\n",
       "1         2     45.589877          54.410123          24544244\n",
       "2         3     48.452124          51.547876          13055310\n",
       "3         4     46.698113          53.301887           5928491\n",
       "4         5     44.485294          55.514706           2472097\n",
       "5         6     32.653061          67.346939            802891\n",
       "6         7     17.241379          82.758621            211445\n",
       "7         8     16.666667          83.333333             40445\n",
       "8         9      0.000000         100.000000              8216"
      ]
     },
     "execution_count": 35,
     "metadata": {},
     "output_type": "execute_result"
    }
   ],
   "source": [
    "# Dataframe de porcentaje de vacas rentables.\n",
    "profitable_lactations_df = pd.DataFrame(lactations_list,\n",
    "          columns = ['lactation', 'profitable %', 'less profitable %', 'total production'])\n",
    "profitable_lactations_df"
   ]
  },
  {
   "cell_type": "code",
   "execution_count": 36,
   "id": "45e49e2a",
   "metadata": {},
   "outputs": [],
   "source": [
    "profitable_lactations_df.to_csv('total_lactations_results.csv', index=False)"
   ]
  },
  {
   "cell_type": "code",
   "execution_count": 37,
   "id": "7372f3a6",
   "metadata": {},
   "outputs": [
    {
     "data": {
      "text/plain": [
       "652"
      ]
     },
     "execution_count": 37,
     "metadata": {},
     "output_type": "execute_result"
    }
   ],
   "source": [
    "#Cows with more than 10000lt in 1st and 2nd lactation.\n",
    "most_profiltable_cows = cow_df[(cow_df[\"total_production_1\"] >= 10000) & (cow_df[\"total_production_2\"] >= 10000)]\n",
    "most_profiltable_cows.head()\n",
    "most_profiltable_cows_count = most_profiltable_cows[\"id\"].count()\n",
    "most_profiltable_cows_count"
   ]
  },
  {
   "cell_type": "code",
   "execution_count": 38,
   "id": "2934259f",
   "metadata": {},
   "outputs": [
    {
     "data": {
      "text/html": [
       "<div>\n",
       "<style scoped>\n",
       "    .dataframe tbody tr th:only-of-type {\n",
       "        vertical-align: middle;\n",
       "    }\n",
       "\n",
       "    .dataframe tbody tr th {\n",
       "        vertical-align: top;\n",
       "    }\n",
       "\n",
       "    .dataframe thead th {\n",
       "        text-align: right;\n",
       "    }\n",
       "</style>\n",
       "<table border=\"1\" class=\"dataframe\">\n",
       "  <thead>\n",
       "    <tr style=\"text-align: right;\">\n",
       "      <th></th>\n",
       "      <th>id</th>\n",
       "      <th>lactation_1</th>\n",
       "      <th>lactation_2</th>\n",
       "      <th>lactation_3</th>\n",
       "      <th>lactation_4</th>\n",
       "      <th>lactation_5</th>\n",
       "      <th>lactation_6</th>\n",
       "      <th>lactation_7</th>\n",
       "      <th>lactation_8</th>\n",
       "      <th>lactation_9</th>\n",
       "      <th>...</th>\n",
       "      <th>inseminacion_lac_9</th>\n",
       "      <th>abortos_Lac_1</th>\n",
       "      <th>abortos_lac_2</th>\n",
       "      <th>abortos_lac_3</th>\n",
       "      <th>abortos_lac_4</th>\n",
       "      <th>abortos_lac_5</th>\n",
       "      <th>abortos_lac_6</th>\n",
       "      <th>abortos_lac_7</th>\n",
       "      <th>abortos_lac_8</th>\n",
       "      <th>abortos_lac_9</th>\n",
       "    </tr>\n",
       "  </thead>\n",
       "  <tbody>\n",
       "    <tr>\n",
       "      <th>1</th>\n",
       "      <td>9</td>\n",
       "      <td>1</td>\n",
       "      <td>1</td>\n",
       "      <td>1</td>\n",
       "      <td>1</td>\n",
       "      <td>0</td>\n",
       "      <td>0</td>\n",
       "      <td>0</td>\n",
       "      <td>0</td>\n",
       "      <td>0</td>\n",
       "      <td>...</td>\n",
       "      <td>-1</td>\n",
       "      <td>0</td>\n",
       "      <td>0</td>\n",
       "      <td>0</td>\n",
       "      <td>1</td>\n",
       "      <td>-1</td>\n",
       "      <td>-1</td>\n",
       "      <td>-1</td>\n",
       "      <td>-1</td>\n",
       "      <td>-1</td>\n",
       "    </tr>\n",
       "    <tr>\n",
       "      <th>2</th>\n",
       "      <td>16</td>\n",
       "      <td>1</td>\n",
       "      <td>1</td>\n",
       "      <td>1</td>\n",
       "      <td>1</td>\n",
       "      <td>0</td>\n",
       "      <td>0</td>\n",
       "      <td>0</td>\n",
       "      <td>0</td>\n",
       "      <td>0</td>\n",
       "      <td>...</td>\n",
       "      <td>-1</td>\n",
       "      <td>0</td>\n",
       "      <td>0</td>\n",
       "      <td>0</td>\n",
       "      <td>0</td>\n",
       "      <td>-1</td>\n",
       "      <td>-1</td>\n",
       "      <td>-1</td>\n",
       "      <td>-1</td>\n",
       "      <td>-1</td>\n",
       "    </tr>\n",
       "    <tr>\n",
       "      <th>3</th>\n",
       "      <td>27</td>\n",
       "      <td>1</td>\n",
       "      <td>1</td>\n",
       "      <td>1</td>\n",
       "      <td>0</td>\n",
       "      <td>0</td>\n",
       "      <td>0</td>\n",
       "      <td>0</td>\n",
       "      <td>0</td>\n",
       "      <td>0</td>\n",
       "      <td>...</td>\n",
       "      <td>-1</td>\n",
       "      <td>0</td>\n",
       "      <td>0</td>\n",
       "      <td>0</td>\n",
       "      <td>-1</td>\n",
       "      <td>-1</td>\n",
       "      <td>-1</td>\n",
       "      <td>-1</td>\n",
       "      <td>-1</td>\n",
       "      <td>-1</td>\n",
       "    </tr>\n",
       "    <tr>\n",
       "      <th>4</th>\n",
       "      <td>121</td>\n",
       "      <td>1</td>\n",
       "      <td>1</td>\n",
       "      <td>1</td>\n",
       "      <td>1</td>\n",
       "      <td>1</td>\n",
       "      <td>1</td>\n",
       "      <td>1</td>\n",
       "      <td>0</td>\n",
       "      <td>0</td>\n",
       "      <td>...</td>\n",
       "      <td>-1</td>\n",
       "      <td>0</td>\n",
       "      <td>0</td>\n",
       "      <td>0</td>\n",
       "      <td>0</td>\n",
       "      <td>0</td>\n",
       "      <td>0</td>\n",
       "      <td>0</td>\n",
       "      <td>-1</td>\n",
       "      <td>-1</td>\n",
       "    </tr>\n",
       "    <tr>\n",
       "      <th>5</th>\n",
       "      <td>160</td>\n",
       "      <td>1</td>\n",
       "      <td>1</td>\n",
       "      <td>1</td>\n",
       "      <td>1</td>\n",
       "      <td>1</td>\n",
       "      <td>0</td>\n",
       "      <td>0</td>\n",
       "      <td>0</td>\n",
       "      <td>0</td>\n",
       "      <td>...</td>\n",
       "      <td>-1</td>\n",
       "      <td>1</td>\n",
       "      <td>0</td>\n",
       "      <td>0</td>\n",
       "      <td>0</td>\n",
       "      <td>0</td>\n",
       "      <td>0</td>\n",
       "      <td>-1</td>\n",
       "      <td>-1</td>\n",
       "      <td>-1</td>\n",
       "    </tr>\n",
       "  </tbody>\n",
       "</table>\n",
       "<p>5 rows × 57 columns</p>\n",
       "</div>"
      ],
      "text/plain": [
       "    id  lactation_1  lactation_2  lactation_3  lactation_4  lactation_5  \\\n",
       "1    9            1            1            1            1            0   \n",
       "2   16            1            1            1            1            0   \n",
       "3   27            1            1            1            0            0   \n",
       "4  121            1            1            1            1            1   \n",
       "5  160            1            1            1            1            1   \n",
       "\n",
       "   lactation_6  lactation_7  lactation_8  lactation_9  ...  \\\n",
       "1            0            0            0            0  ...   \n",
       "2            0            0            0            0  ...   \n",
       "3            0            0            0            0  ...   \n",
       "4            1            1            0            0  ...   \n",
       "5            0            0            0            0  ...   \n",
       "\n",
       "   inseminacion_lac_9  abortos_Lac_1  abortos_lac_2  abortos_lac_3  \\\n",
       "1                  -1              0              0              0   \n",
       "2                  -1              0              0              0   \n",
       "3                  -1              0              0              0   \n",
       "4                  -1              0              0              0   \n",
       "5                  -1              1              0              0   \n",
       "\n",
       "   abortos_lac_4  abortos_lac_5  abortos_lac_6  abortos_lac_7  abortos_lac_8  \\\n",
       "1              1             -1             -1             -1             -1   \n",
       "2              0             -1             -1             -1             -1   \n",
       "3             -1             -1             -1             -1             -1   \n",
       "4              0              0              0              0             -1   \n",
       "5              0              0              0             -1             -1   \n",
       "\n",
       "   abortos_lac_9  \n",
       "1             -1  \n",
       "2             -1  \n",
       "3             -1  \n",
       "4             -1  \n",
       "5             -1  \n",
       "\n",
       "[5 rows x 57 columns]"
      ]
     },
     "execution_count": 38,
     "metadata": {},
     "output_type": "execute_result"
    }
   ],
   "source": [
    "sum_most_profiltable_cows_df = cow_df[(cow_df[\"total_production_1\"] >= 10000) + (cow_df[\"total_production_2\"] >= 10000)]\n",
    "sum_most_profiltable_cows_df.head()"
   ]
  },
  {
   "cell_type": "code",
   "execution_count": 39,
   "id": "e9099262",
   "metadata": {},
   "outputs": [
    {
     "data": {
      "text/html": [
       "<div>\n",
       "<style scoped>\n",
       "    .dataframe tbody tr th:only-of-type {\n",
       "        vertical-align: middle;\n",
       "    }\n",
       "\n",
       "    .dataframe tbody tr th {\n",
       "        vertical-align: top;\n",
       "    }\n",
       "\n",
       "    .dataframe thead th {\n",
       "        text-align: right;\n",
       "    }\n",
       "</style>\n",
       "<table border=\"1\" class=\"dataframe\">\n",
       "  <thead>\n",
       "    <tr style=\"text-align: right;\">\n",
       "      <th></th>\n",
       "      <th>id</th>\n",
       "      <th>lactation_1</th>\n",
       "      <th>lactation_2</th>\n",
       "      <th>lactation_3</th>\n",
       "      <th>lactation_4</th>\n",
       "      <th>lactation_5</th>\n",
       "      <th>lactation_6</th>\n",
       "      <th>lactation_7</th>\n",
       "      <th>lactation_8</th>\n",
       "      <th>lactation_9</th>\n",
       "      <th>...</th>\n",
       "      <th>inseminacion_lac_9</th>\n",
       "      <th>abortos_Lac_1</th>\n",
       "      <th>abortos_lac_2</th>\n",
       "      <th>abortos_lac_3</th>\n",
       "      <th>abortos_lac_4</th>\n",
       "      <th>abortos_lac_5</th>\n",
       "      <th>abortos_lac_6</th>\n",
       "      <th>abortos_lac_7</th>\n",
       "      <th>abortos_lac_8</th>\n",
       "      <th>abortos_lac_9</th>\n",
       "    </tr>\n",
       "  </thead>\n",
       "  <tbody>\n",
       "    <tr>\n",
       "      <th>1</th>\n",
       "      <td>9</td>\n",
       "      <td>1</td>\n",
       "      <td>1</td>\n",
       "      <td>1</td>\n",
       "      <td>1</td>\n",
       "      <td>0</td>\n",
       "      <td>0</td>\n",
       "      <td>0</td>\n",
       "      <td>0</td>\n",
       "      <td>0</td>\n",
       "      <td>...</td>\n",
       "      <td>-1</td>\n",
       "      <td>0</td>\n",
       "      <td>0</td>\n",
       "      <td>0</td>\n",
       "      <td>1</td>\n",
       "      <td>-1</td>\n",
       "      <td>-1</td>\n",
       "      <td>-1</td>\n",
       "      <td>-1</td>\n",
       "      <td>-1</td>\n",
       "    </tr>\n",
       "    <tr>\n",
       "      <th>2</th>\n",
       "      <td>16</td>\n",
       "      <td>1</td>\n",
       "      <td>1</td>\n",
       "      <td>1</td>\n",
       "      <td>1</td>\n",
       "      <td>0</td>\n",
       "      <td>0</td>\n",
       "      <td>0</td>\n",
       "      <td>0</td>\n",
       "      <td>0</td>\n",
       "      <td>...</td>\n",
       "      <td>-1</td>\n",
       "      <td>0</td>\n",
       "      <td>0</td>\n",
       "      <td>0</td>\n",
       "      <td>0</td>\n",
       "      <td>-1</td>\n",
       "      <td>-1</td>\n",
       "      <td>-1</td>\n",
       "      <td>-1</td>\n",
       "      <td>-1</td>\n",
       "    </tr>\n",
       "    <tr>\n",
       "      <th>3</th>\n",
       "      <td>27</td>\n",
       "      <td>1</td>\n",
       "      <td>1</td>\n",
       "      <td>1</td>\n",
       "      <td>0</td>\n",
       "      <td>0</td>\n",
       "      <td>0</td>\n",
       "      <td>0</td>\n",
       "      <td>0</td>\n",
       "      <td>0</td>\n",
       "      <td>...</td>\n",
       "      <td>-1</td>\n",
       "      <td>0</td>\n",
       "      <td>0</td>\n",
       "      <td>0</td>\n",
       "      <td>-1</td>\n",
       "      <td>-1</td>\n",
       "      <td>-1</td>\n",
       "      <td>-1</td>\n",
       "      <td>-1</td>\n",
       "      <td>-1</td>\n",
       "    </tr>\n",
       "    <tr>\n",
       "      <th>4</th>\n",
       "      <td>121</td>\n",
       "      <td>1</td>\n",
       "      <td>1</td>\n",
       "      <td>1</td>\n",
       "      <td>1</td>\n",
       "      <td>1</td>\n",
       "      <td>1</td>\n",
       "      <td>1</td>\n",
       "      <td>0</td>\n",
       "      <td>0</td>\n",
       "      <td>...</td>\n",
       "      <td>-1</td>\n",
       "      <td>0</td>\n",
       "      <td>0</td>\n",
       "      <td>0</td>\n",
       "      <td>0</td>\n",
       "      <td>0</td>\n",
       "      <td>0</td>\n",
       "      <td>0</td>\n",
       "      <td>-1</td>\n",
       "      <td>-1</td>\n",
       "    </tr>\n",
       "    <tr>\n",
       "      <th>5</th>\n",
       "      <td>160</td>\n",
       "      <td>1</td>\n",
       "      <td>1</td>\n",
       "      <td>1</td>\n",
       "      <td>1</td>\n",
       "      <td>1</td>\n",
       "      <td>0</td>\n",
       "      <td>0</td>\n",
       "      <td>0</td>\n",
       "      <td>0</td>\n",
       "      <td>...</td>\n",
       "      <td>-1</td>\n",
       "      <td>1</td>\n",
       "      <td>0</td>\n",
       "      <td>0</td>\n",
       "      <td>0</td>\n",
       "      <td>0</td>\n",
       "      <td>0</td>\n",
       "      <td>-1</td>\n",
       "      <td>-1</td>\n",
       "      <td>-1</td>\n",
       "    </tr>\n",
       "  </tbody>\n",
       "</table>\n",
       "<p>5 rows × 57 columns</p>\n",
       "</div>"
      ],
      "text/plain": [
       "    id  lactation_1  lactation_2  lactation_3  lactation_4  lactation_5  \\\n",
       "1    9            1            1            1            1            0   \n",
       "2   16            1            1            1            1            0   \n",
       "3   27            1            1            1            0            0   \n",
       "4  121            1            1            1            1            1   \n",
       "5  160            1            1            1            1            1   \n",
       "\n",
       "   lactation_6  lactation_7  lactation_8  lactation_9  ...  \\\n",
       "1            0            0            0            0  ...   \n",
       "2            0            0            0            0  ...   \n",
       "3            0            0            0            0  ...   \n",
       "4            1            1            0            0  ...   \n",
       "5            0            0            0            0  ...   \n",
       "\n",
       "   inseminacion_lac_9  abortos_Lac_1  abortos_lac_2  abortos_lac_3  \\\n",
       "1                  -1              0              0              0   \n",
       "2                  -1              0              0              0   \n",
       "3                  -1              0              0              0   \n",
       "4                  -1              0              0              0   \n",
       "5                  -1              1              0              0   \n",
       "\n",
       "   abortos_lac_4  abortos_lac_5  abortos_lac_6  abortos_lac_7  abortos_lac_8  \\\n",
       "1              1             -1             -1             -1             -1   \n",
       "2              0             -1             -1             -1             -1   \n",
       "3             -1             -1             -1             -1             -1   \n",
       "4              0              0              0              0             -1   \n",
       "5              0              0              0             -1             -1   \n",
       "\n",
       "   abortos_lac_9  \n",
       "1             -1  \n",
       "2             -1  \n",
       "3             -1  \n",
       "4             -1  \n",
       "5             -1  \n",
       "\n",
       "[5 rows x 57 columns]"
      ]
     },
     "execution_count": 39,
     "metadata": {},
     "output_type": "execute_result"
    }
   ],
   "source": [
    "total_production_1_2= sum_most_profiltable_cows_df[\"total_production_1\"] + sum_most_profiltable_cows_df[\"total_production_2\"]\n",
    "sum_most_profiltable_cows_df.head()"
   ]
  },
  {
   "cell_type": "code",
   "execution_count": 40,
   "id": "f7cbfcb7",
   "metadata": {},
   "outputs": [],
   "source": [
    "sum_most_profiltable_cows_df.to_csv('sum_most_profiltable_cows_df.csv', index=False)"
   ]
  },
  {
   "cell_type": "code",
   "execution_count": 41,
   "id": "479ce2ab",
   "metadata": {},
   "outputs": [
    {
     "data": {
      "text/plain": [
       "abortos_Lac_1\n",
       "0    854\n",
       "1    330\n",
       "2     39\n",
       "3      3\n",
       "Name: total_production_1, dtype: int64"
      ]
     },
     "execution_count": 41,
     "metadata": {},
     "output_type": "execute_result"
    }
   ],
   "source": [
    "#vacas que han abortado que sean rentables en la lactancia 1\n",
    "abortion_profitable_cows1_df = cow_df[cow_df[\"total_production_1\"] >= 10000]\n",
    "abortion_profitable_cows1_df.head()\n",
    "abortion_profitable_cows1_count = abortion_profitable_cows1_df.groupby([\"abortos_Lac_1\"]).count()[\"total_production_1\"]\n",
    "abortion_profitable_cows1_count"
   ]
  },
  {
   "cell_type": "code",
   "execution_count": 42,
   "id": "f06d45f9",
   "metadata": {},
   "outputs": [
    {
     "data": {
      "text/plain": [
       "abortos_lac_2\n",
       "0    1035\n",
       "1     181\n",
       "2       9\n",
       "Name: total_production_2, dtype: int64"
      ]
     },
     "execution_count": 42,
     "metadata": {},
     "output_type": "execute_result"
    }
   ],
   "source": [
    "#vacas que han abortado que sean rentables en la lactancia 2\n",
    "abortion_profitable_cows2_df = cow_df[cow_df[\"total_production_2\"] >= 10000]\n",
    "abortion_profitable_cows2_count = abortion_profitable_cows2_df.groupby([\"abortos_lac_2\"]).count()[\"total_production_2\"]\n",
    "abortion_profitable_cows2_count"
   ]
  },
  {
   "cell_type": "code",
   "execution_count": 43,
   "id": "e761a3fd",
   "metadata": {},
   "outputs": [
    {
     "data": {
      "text/plain": [
       "abortos_lac_3\n",
       "-1    307\n",
       " 0    841\n",
       " 1     73\n",
       " 2      4\n",
       "Name: total_production_3, dtype: int64"
      ]
     },
     "execution_count": 43,
     "metadata": {},
     "output_type": "execute_result"
    }
   ],
   "source": [
    "#vacas que han abortado que sean rentables en la lactancia 3\n",
    "abortion_profitable_cows3_df = cow_df[cow_df[\"total_production_3\"] >= 10000]\n",
    "abortion_profitable_cows2_count = abortion_profitable_cows2_df.groupby([\"abortos_lac_3\"]).count()[\"total_production_3\"]\n",
    "abortion_profitable_cows2_count"
   ]
  },
  {
   "cell_type": "code",
   "execution_count": 44,
   "id": "50af4842",
   "metadata": {},
   "outputs": [
    {
     "data": {
      "text/html": [
       "<div>\n",
       "<style scoped>\n",
       "    .dataframe tbody tr th:only-of-type {\n",
       "        vertical-align: middle;\n",
       "    }\n",
       "\n",
       "    .dataframe tbody tr th {\n",
       "        vertical-align: top;\n",
       "    }\n",
       "\n",
       "    .dataframe thead th {\n",
       "        text-align: right;\n",
       "    }\n",
       "</style>\n",
       "<table border=\"1\" class=\"dataframe\">\n",
       "  <thead>\n",
       "    <tr style=\"text-align: right;\">\n",
       "      <th></th>\n",
       "      <th>index</th>\n",
       "      <th>id</th>\n",
       "      <th>Status</th>\n",
       "      <th>gynecological_status</th>\n",
       "      <th>patio</th>\n",
       "      <th>given_birthdate</th>\n",
       "      <th>lactation</th>\n",
       "      <th>milk_days</th>\n",
       "      <th>number_mastitis_lactation_1</th>\n",
       "      <th>number_mastitis_lactation_2</th>\n",
       "      <th>number_mastitis_lactation_3</th>\n",
       "      <th>number_mastitis_lactation_4</th>\n",
       "      <th>number_mastitis_lactation_5</th>\n",
       "      <th>number_mastitis_lactation_6</th>\n",
       "      <th>number_mastitis_lactation_7</th>\n",
       "      <th>number_mastitis_lactation_8</th>\n",
       "      <th>number_mastitis_lactation_9</th>\n",
       "    </tr>\n",
       "  </thead>\n",
       "  <tbody>\n",
       "    <tr>\n",
       "      <th>0</th>\n",
       "      <td>1</td>\n",
       "      <td>5</td>\n",
       "      <td>milking</td>\n",
       "      <td>pregnacy</td>\n",
       "      <td>13</td>\n",
       "      <td>9/16/2016</td>\n",
       "      <td>4</td>\n",
       "      <td>265</td>\n",
       "      <td>0</td>\n",
       "      <td>0</td>\n",
       "      <td>0</td>\n",
       "      <td>0</td>\n",
       "      <td>0</td>\n",
       "      <td>0</td>\n",
       "      <td>0</td>\n",
       "      <td>0</td>\n",
       "      <td>0</td>\n",
       "    </tr>\n",
       "    <tr>\n",
       "      <th>1</th>\n",
       "      <td>2</td>\n",
       "      <td>9</td>\n",
       "      <td>milking</td>\n",
       "      <td>heat</td>\n",
       "      <td>24</td>\n",
       "      <td>10/11/2016</td>\n",
       "      <td>4</td>\n",
       "      <td>253</td>\n",
       "      <td>0</td>\n",
       "      <td>0</td>\n",
       "      <td>0</td>\n",
       "      <td>0</td>\n",
       "      <td>0</td>\n",
       "      <td>0</td>\n",
       "      <td>0</td>\n",
       "      <td>0</td>\n",
       "      <td>0</td>\n",
       "    </tr>\n",
       "    <tr>\n",
       "      <th>2</th>\n",
       "      <td>3</td>\n",
       "      <td>16</td>\n",
       "      <td>milking</td>\n",
       "      <td>labor</td>\n",
       "      <td>19</td>\n",
       "      <td>11/15/2016</td>\n",
       "      <td>4</td>\n",
       "      <td>63</td>\n",
       "      <td>0</td>\n",
       "      <td>0</td>\n",
       "      <td>0</td>\n",
       "      <td>0</td>\n",
       "      <td>0</td>\n",
       "      <td>0</td>\n",
       "      <td>0</td>\n",
       "      <td>0</td>\n",
       "      <td>0</td>\n",
       "    </tr>\n",
       "    <tr>\n",
       "      <th>3</th>\n",
       "      <td>4</td>\n",
       "      <td>27</td>\n",
       "      <td>milking</td>\n",
       "      <td>heat</td>\n",
       "      <td>20</td>\n",
       "      <td>12/4/2017</td>\n",
       "      <td>3</td>\n",
       "      <td>48</td>\n",
       "      <td>0</td>\n",
       "      <td>0</td>\n",
       "      <td>0</td>\n",
       "      <td>0</td>\n",
       "      <td>0</td>\n",
       "      <td>0</td>\n",
       "      <td>0</td>\n",
       "      <td>0</td>\n",
       "      <td>0</td>\n",
       "    </tr>\n",
       "    <tr>\n",
       "      <th>4</th>\n",
       "      <td>5</td>\n",
       "      <td>121</td>\n",
       "      <td>milking</td>\n",
       "      <td>pregnacy</td>\n",
       "      <td>15</td>\n",
       "      <td>8/6/2013</td>\n",
       "      <td>7</td>\n",
       "      <td>159</td>\n",
       "      <td>0</td>\n",
       "      <td>0</td>\n",
       "      <td>0</td>\n",
       "      <td>0</td>\n",
       "      <td>1</td>\n",
       "      <td>0</td>\n",
       "      <td>0</td>\n",
       "      <td>0</td>\n",
       "      <td>0</td>\n",
       "    </tr>\n",
       "  </tbody>\n",
       "</table>\n",
       "</div>"
      ],
      "text/plain": [
       "   index   id   Status gynecological_status  patio given_birthdate  lactation  \\\n",
       "0      1    5  milking             pregnacy     13       9/16/2016          4   \n",
       "1      2    9  milking                 heat     24      10/11/2016          4   \n",
       "2      3   16  milking                labor     19      11/15/2016          4   \n",
       "3      4   27  milking                 heat     20       12/4/2017          3   \n",
       "4      5  121  milking             pregnacy     15        8/6/2013          7   \n",
       "\n",
       "   milk_days  number_mastitis_lactation_1  number_mastitis_lactation_2  \\\n",
       "0        265                            0                            0   \n",
       "1        253                            0                            0   \n",
       "2         63                            0                            0   \n",
       "3         48                            0                            0   \n",
       "4        159                            0                            0   \n",
       "\n",
       "   number_mastitis_lactation_3  number_mastitis_lactation_4  \\\n",
       "0                            0                            0   \n",
       "1                            0                            0   \n",
       "2                            0                            0   \n",
       "3                            0                            0   \n",
       "4                            0                            0   \n",
       "\n",
       "   number_mastitis_lactation_5  number_mastitis_lactation_6  \\\n",
       "0                            0                            0   \n",
       "1                            0                            0   \n",
       "2                            0                            0   \n",
       "3                            0                            0   \n",
       "4                            1                            0   \n",
       "\n",
       "   number_mastitis_lactation_7  number_mastitis_lactation_8  \\\n",
       "0                            0                            0   \n",
       "1                            0                            0   \n",
       "2                            0                            0   \n",
       "3                            0                            0   \n",
       "4                            0                            0   \n",
       "\n",
       "   number_mastitis_lactation_9  \n",
       "0                            0  \n",
       "1                            0  \n",
       "2                            0  \n",
       "3                            0  \n",
       "4                            0  "
      ]
     },
     "execution_count": 44,
     "metadata": {},
     "output_type": "execute_result"
    }
   ],
   "source": [
    "mastitis_df.rename({'cow': 'id'}, axis=1, inplace=True)\n",
    "mastitis_df.head()"
   ]
  },
  {
   "cell_type": "code",
   "execution_count": 45,
   "id": "8b1f0482",
   "metadata": {},
   "outputs": [
    {
     "ename": "PermissionError",
     "evalue": "[Errno 13] Permission denied: 'full_data.csv'",
     "output_type": "error",
     "traceback": [
      "\u001b[1;31m---------------------------------------------------------------------------\u001b[0m",
      "\u001b[1;31mPermissionError\u001b[0m                           Traceback (most recent call last)",
      "\u001b[1;32m~\\AppData\\Local\\Temp/ipykernel_3708/636132914.py\u001b[0m in \u001b[0;36m<module>\u001b[1;34m\u001b[0m\n\u001b[0;32m      3\u001b[0m \u001b[0mfull_data_df\u001b[0m\u001b[1;33m.\u001b[0m\u001b[0mhead\u001b[0m\u001b[1;33m(\u001b[0m\u001b[1;33m)\u001b[0m\u001b[1;33m\u001b[0m\u001b[1;33m\u001b[0m\u001b[0m\n\u001b[0;32m      4\u001b[0m \u001b[0mfull_data_df\u001b[0m\u001b[1;33m.\u001b[0m\u001b[0mcolumns\u001b[0m\u001b[1;33m\u001b[0m\u001b[1;33m\u001b[0m\u001b[0m\n\u001b[1;32m----> 5\u001b[1;33m \u001b[0mfull_data_df\u001b[0m\u001b[1;33m.\u001b[0m\u001b[0mto_csv\u001b[0m\u001b[1;33m(\u001b[0m\u001b[1;34m'full_data.csv'\u001b[0m\u001b[1;33m,\u001b[0m \u001b[0mindex\u001b[0m\u001b[1;33m=\u001b[0m\u001b[1;32mTrue\u001b[0m\u001b[1;33m)\u001b[0m\u001b[1;33m\u001b[0m\u001b[1;33m\u001b[0m\u001b[0m\n\u001b[0m",
      "\u001b[1;32m~\\anaconda3\\lib\\site-packages\\pandas\\core\\generic.py\u001b[0m in \u001b[0;36mto_csv\u001b[1;34m(self, path_or_buf, sep, na_rep, float_format, columns, header, index, index_label, mode, encoding, compression, quoting, quotechar, line_terminator, chunksize, date_format, doublequote, escapechar, decimal, errors, storage_options)\u001b[0m\n\u001b[0;32m   3464\u001b[0m         )\n\u001b[0;32m   3465\u001b[0m \u001b[1;33m\u001b[0m\u001b[0m\n\u001b[1;32m-> 3466\u001b[1;33m         return DataFrameRenderer(formatter).to_csv(\n\u001b[0m\u001b[0;32m   3467\u001b[0m             \u001b[0mpath_or_buf\u001b[0m\u001b[1;33m,\u001b[0m\u001b[1;33m\u001b[0m\u001b[1;33m\u001b[0m\u001b[0m\n\u001b[0;32m   3468\u001b[0m             \u001b[0mline_terminator\u001b[0m\u001b[1;33m=\u001b[0m\u001b[0mline_terminator\u001b[0m\u001b[1;33m,\u001b[0m\u001b[1;33m\u001b[0m\u001b[1;33m\u001b[0m\u001b[0m\n",
      "\u001b[1;32m~\\anaconda3\\lib\\site-packages\\pandas\\io\\formats\\format.py\u001b[0m in \u001b[0;36mto_csv\u001b[1;34m(self, path_or_buf, encoding, sep, columns, index_label, mode, compression, quoting, quotechar, line_terminator, chunksize, date_format, doublequote, escapechar, errors, storage_options)\u001b[0m\n\u001b[0;32m   1103\u001b[0m             \u001b[0mformatter\u001b[0m\u001b[1;33m=\u001b[0m\u001b[0mself\u001b[0m\u001b[1;33m.\u001b[0m\u001b[0mfmt\u001b[0m\u001b[1;33m,\u001b[0m\u001b[1;33m\u001b[0m\u001b[1;33m\u001b[0m\u001b[0m\n\u001b[0;32m   1104\u001b[0m         )\n\u001b[1;32m-> 1105\u001b[1;33m         \u001b[0mcsv_formatter\u001b[0m\u001b[1;33m.\u001b[0m\u001b[0msave\u001b[0m\u001b[1;33m(\u001b[0m\u001b[1;33m)\u001b[0m\u001b[1;33m\u001b[0m\u001b[1;33m\u001b[0m\u001b[0m\n\u001b[0m\u001b[0;32m   1106\u001b[0m \u001b[1;33m\u001b[0m\u001b[0m\n\u001b[0;32m   1107\u001b[0m         \u001b[1;32mif\u001b[0m \u001b[0mcreated_buffer\u001b[0m\u001b[1;33m:\u001b[0m\u001b[1;33m\u001b[0m\u001b[1;33m\u001b[0m\u001b[0m\n",
      "\u001b[1;32m~\\anaconda3\\lib\\site-packages\\pandas\\io\\formats\\csvs.py\u001b[0m in \u001b[0;36msave\u001b[1;34m(self)\u001b[0m\n\u001b[0;32m    235\u001b[0m         \"\"\"\n\u001b[0;32m    236\u001b[0m         \u001b[1;31m# apply compression and byte/text conversion\u001b[0m\u001b[1;33m\u001b[0m\u001b[1;33m\u001b[0m\u001b[0m\n\u001b[1;32m--> 237\u001b[1;33m         with get_handle(\n\u001b[0m\u001b[0;32m    238\u001b[0m             \u001b[0mself\u001b[0m\u001b[1;33m.\u001b[0m\u001b[0mfilepath_or_buffer\u001b[0m\u001b[1;33m,\u001b[0m\u001b[1;33m\u001b[0m\u001b[1;33m\u001b[0m\u001b[0m\n\u001b[0;32m    239\u001b[0m             \u001b[0mself\u001b[0m\u001b[1;33m.\u001b[0m\u001b[0mmode\u001b[0m\u001b[1;33m,\u001b[0m\u001b[1;33m\u001b[0m\u001b[1;33m\u001b[0m\u001b[0m\n",
      "\u001b[1;32m~\\anaconda3\\lib\\site-packages\\pandas\\io\\common.py\u001b[0m in \u001b[0;36mget_handle\u001b[1;34m(path_or_buf, mode, encoding, compression, memory_map, is_text, errors, storage_options)\u001b[0m\n\u001b[0;32m    700\u001b[0m         \u001b[1;32mif\u001b[0m \u001b[0mioargs\u001b[0m\u001b[1;33m.\u001b[0m\u001b[0mencoding\u001b[0m \u001b[1;32mand\u001b[0m \u001b[1;34m\"b\"\u001b[0m \u001b[1;32mnot\u001b[0m \u001b[1;32min\u001b[0m \u001b[0mioargs\u001b[0m\u001b[1;33m.\u001b[0m\u001b[0mmode\u001b[0m\u001b[1;33m:\u001b[0m\u001b[1;33m\u001b[0m\u001b[1;33m\u001b[0m\u001b[0m\n\u001b[0;32m    701\u001b[0m             \u001b[1;31m# Encoding\u001b[0m\u001b[1;33m\u001b[0m\u001b[1;33m\u001b[0m\u001b[0m\n\u001b[1;32m--> 702\u001b[1;33m             handle = open(\n\u001b[0m\u001b[0;32m    703\u001b[0m                 \u001b[0mhandle\u001b[0m\u001b[1;33m,\u001b[0m\u001b[1;33m\u001b[0m\u001b[1;33m\u001b[0m\u001b[0m\n\u001b[0;32m    704\u001b[0m                 \u001b[0mioargs\u001b[0m\u001b[1;33m.\u001b[0m\u001b[0mmode\u001b[0m\u001b[1;33m,\u001b[0m\u001b[1;33m\u001b[0m\u001b[1;33m\u001b[0m\u001b[0m\n",
      "\u001b[1;31mPermissionError\u001b[0m: [Errno 13] Permission denied: 'full_data.csv'"
     ]
    }
   ],
   "source": [
    "#Fusionar dos dataframe mastitis y cow_df\n",
    "full_data_df = pd.merge(mastitis_df, cow_df, on=[\"id\", \"id\"])\n",
    "full_data_df.head()\n",
    "full_data_df.columns\n",
    "full_data_df.to_csv('full_data.csv', index=True)"
   ]
  },
  {
   "cell_type": "code",
   "execution_count": 46,
   "id": "1edbd773",
   "metadata": {},
   "outputs": [
    {
     "data": {
      "text/plain": [
       "gynecological_status\n",
       "abortion           26\n",
       "heat              173\n",
       "insemination      914\n",
       "labor             467\n",
       "no_inseminate      41\n",
       "pregnacy         2772\n",
       "Name: id, dtype: int64"
      ]
     },
     "execution_count": 46,
     "metadata": {},
     "output_type": "execute_result"
    }
   ],
   "source": [
    "#vacas por estado ginecologico\n",
    "cows_gyn_status_count = full_data_df.groupby([\"gynecological_status\"]).count()[\"id\"]\n",
    "cows_gyn_status_count"
   ]
  },
  {
   "cell_type": "code",
   "execution_count": 47,
   "id": "a79260ea",
   "metadata": {},
   "outputs": [
    {
     "data": {
      "text/html": [
       "<div>\n",
       "<style scoped>\n",
       "    .dataframe tbody tr th:only-of-type {\n",
       "        vertical-align: middle;\n",
       "    }\n",
       "\n",
       "    .dataframe tbody tr th {\n",
       "        vertical-align: top;\n",
       "    }\n",
       "\n",
       "    .dataframe thead th {\n",
       "        text-align: right;\n",
       "    }\n",
       "</style>\n",
       "<table border=\"1\" class=\"dataframe\">\n",
       "  <thead>\n",
       "    <tr style=\"text-align: right;\">\n",
       "      <th></th>\n",
       "      <th>index</th>\n",
       "      <th>id</th>\n",
       "      <th>Status</th>\n",
       "      <th>gynecological_status</th>\n",
       "      <th>patio</th>\n",
       "      <th>given_birthdate</th>\n",
       "      <th>lactation</th>\n",
       "      <th>milk_days</th>\n",
       "      <th>number_mastitis_lactation_1</th>\n",
       "      <th>number_mastitis_lactation_2</th>\n",
       "      <th>...</th>\n",
       "      <th>inseminacion_lac_9</th>\n",
       "      <th>abortos_Lac_1</th>\n",
       "      <th>abortos_lac_2</th>\n",
       "      <th>abortos_lac_3</th>\n",
       "      <th>abortos_lac_4</th>\n",
       "      <th>abortos_lac_5</th>\n",
       "      <th>abortos_lac_6</th>\n",
       "      <th>abortos_lac_7</th>\n",
       "      <th>abortos_lac_8</th>\n",
       "      <th>abortos_lac_9</th>\n",
       "    </tr>\n",
       "  </thead>\n",
       "  <tbody>\n",
       "    <tr>\n",
       "      <th>5</th>\n",
       "      <td>6</td>\n",
       "      <td>160</td>\n",
       "      <td>milking</td>\n",
       "      <td>labor</td>\n",
       "      <td>21</td>\n",
       "      <td>8/19/2013</td>\n",
       "      <td>6</td>\n",
       "      <td>2</td>\n",
       "      <td>0</td>\n",
       "      <td>0</td>\n",
       "      <td>...</td>\n",
       "      <td>-1</td>\n",
       "      <td>1</td>\n",
       "      <td>0</td>\n",
       "      <td>0</td>\n",
       "      <td>0</td>\n",
       "      <td>0</td>\n",
       "      <td>0</td>\n",
       "      <td>-1</td>\n",
       "      <td>-1</td>\n",
       "      <td>-1</td>\n",
       "    </tr>\n",
       "    <tr>\n",
       "      <th>7</th>\n",
       "      <td>8</td>\n",
       "      <td>219</td>\n",
       "      <td>milking</td>\n",
       "      <td>labor</td>\n",
       "      <td>18</td>\n",
       "      <td>8/30/2013</td>\n",
       "      <td>7</td>\n",
       "      <td>105</td>\n",
       "      <td>0</td>\n",
       "      <td>0</td>\n",
       "      <td>...</td>\n",
       "      <td>-1</td>\n",
       "      <td>0</td>\n",
       "      <td>0</td>\n",
       "      <td>0</td>\n",
       "      <td>0</td>\n",
       "      <td>0</td>\n",
       "      <td>0</td>\n",
       "      <td>0</td>\n",
       "      <td>-1</td>\n",
       "      <td>-1</td>\n",
       "    </tr>\n",
       "    <tr>\n",
       "      <th>10</th>\n",
       "      <td>11</td>\n",
       "      <td>252</td>\n",
       "      <td>milking</td>\n",
       "      <td>labor</td>\n",
       "      <td>21</td>\n",
       "      <td>9/5/2013</td>\n",
       "      <td>6</td>\n",
       "      <td>14</td>\n",
       "      <td>0</td>\n",
       "      <td>0</td>\n",
       "      <td>...</td>\n",
       "      <td>-1</td>\n",
       "      <td>0</td>\n",
       "      <td>0</td>\n",
       "      <td>0</td>\n",
       "      <td>0</td>\n",
       "      <td>1</td>\n",
       "      <td>0</td>\n",
       "      <td>-1</td>\n",
       "      <td>-1</td>\n",
       "      <td>-1</td>\n",
       "    </tr>\n",
       "    <tr>\n",
       "      <th>11</th>\n",
       "      <td>12</td>\n",
       "      <td>254</td>\n",
       "      <td>milking</td>\n",
       "      <td>heat</td>\n",
       "      <td>26</td>\n",
       "      <td>9/5/2013</td>\n",
       "      <td>6</td>\n",
       "      <td>295</td>\n",
       "      <td>0</td>\n",
       "      <td>0</td>\n",
       "      <td>...</td>\n",
       "      <td>-1</td>\n",
       "      <td>1</td>\n",
       "      <td>0</td>\n",
       "      <td>0</td>\n",
       "      <td>0</td>\n",
       "      <td>0</td>\n",
       "      <td>1</td>\n",
       "      <td>-1</td>\n",
       "      <td>-1</td>\n",
       "      <td>-1</td>\n",
       "    </tr>\n",
       "    <tr>\n",
       "      <th>28</th>\n",
       "      <td>29</td>\n",
       "      <td>975</td>\n",
       "      <td>milking</td>\n",
       "      <td>insemination</td>\n",
       "      <td>23</td>\n",
       "      <td>2/12/2014</td>\n",
       "      <td>6</td>\n",
       "      <td>207</td>\n",
       "      <td>0</td>\n",
       "      <td>0</td>\n",
       "      <td>...</td>\n",
       "      <td>-1</td>\n",
       "      <td>0</td>\n",
       "      <td>0</td>\n",
       "      <td>0</td>\n",
       "      <td>0</td>\n",
       "      <td>0</td>\n",
       "      <td>0</td>\n",
       "      <td>-1</td>\n",
       "      <td>-1</td>\n",
       "      <td>-1</td>\n",
       "    </tr>\n",
       "  </tbody>\n",
       "</table>\n",
       "<p>5 rows × 73 columns</p>\n",
       "</div>"
      ],
      "text/plain": [
       "    index   id   Status gynecological_status  patio given_birthdate  \\\n",
       "5       6  160  milking                labor     21       8/19/2013   \n",
       "7       8  219  milking                labor     18       8/30/2013   \n",
       "10     11  252  milking                labor     21        9/5/2013   \n",
       "11     12  254  milking                 heat     26        9/5/2013   \n",
       "28     29  975  milking         insemination     23       2/12/2014   \n",
       "\n",
       "    lactation  milk_days  number_mastitis_lactation_1  \\\n",
       "5           6          2                            0   \n",
       "7           7        105                            0   \n",
       "10          6         14                            0   \n",
       "11          6        295                            0   \n",
       "28          6        207                            0   \n",
       "\n",
       "    number_mastitis_lactation_2  ...  inseminacion_lac_9  abortos_Lac_1  \\\n",
       "5                             0  ...                  -1              1   \n",
       "7                             0  ...                  -1              0   \n",
       "10                            0  ...                  -1              0   \n",
       "11                            0  ...                  -1              1   \n",
       "28                            0  ...                  -1              0   \n",
       "\n",
       "    abortos_lac_2  abortos_lac_3  abortos_lac_4  abortos_lac_5  abortos_lac_6  \\\n",
       "5               0              0              0              0              0   \n",
       "7               0              0              0              0              0   \n",
       "10              0              0              0              1              0   \n",
       "11              0              0              0              0              1   \n",
       "28              0              0              0              0              0   \n",
       "\n",
       "    abortos_lac_7  abortos_lac_8  abortos_lac_9  \n",
       "5              -1             -1             -1  \n",
       "7               0             -1             -1  \n",
       "10             -1             -1             -1  \n",
       "11             -1             -1             -1  \n",
       "28             -1             -1             -1  \n",
       "\n",
       "[5 rows x 73 columns]"
      ]
     },
     "execution_count": 47,
     "metadata": {},
     "output_type": "execute_result"
    }
   ],
   "source": [
    "# Listado de las vacas con mas de 4 inseminacion sin haberse preñado\n",
    "cows_insemination_no_pregnancy_df = full_data_df.loc[(full_data_df[\"inseminacion_lac_1\"] >= 4) & (full_data_df[\"gynecological_status\"] != 'pregnacy')]\n",
    "cows_insemination_no_pregnancy_df.head()"
   ]
  },
  {
   "cell_type": "code",
   "execution_count": 48,
   "id": "773308c1",
   "metadata": {},
   "outputs": [
    {
     "data": {
      "text/plain": [
       "gynecological_status\n",
       "abortion           4\n",
       "heat              21\n",
       "insemination     183\n",
       "labor             47\n",
       "no_inseminate     23\n",
       "Name: id, dtype: int64"
      ]
     },
     "execution_count": 48,
     "metadata": {},
     "output_type": "execute_result"
    }
   ],
   "source": [
    "cows_insemination_no_pregnancy_count = cows_insemination_no_pregnancy_df.groupby([\"gynecological_status\"]).count()[\"id\"]\n",
    "cows_insemination_no_pregnancy_count"
   ]
  },
  {
   "cell_type": "code",
   "execution_count": 49,
   "id": "e281cb53",
   "metadata": {},
   "outputs": [
    {
     "data": {
      "text/plain": [
       "lactation\n",
       "1    192.329806\n",
       "2    190.218126\n",
       "3    195.542553\n",
       "4    193.341530\n",
       "5    203.627907\n",
       "6    180.338028\n",
       "7    179.739130\n",
       "8    140.400000\n",
       "9    273.000000\n",
       "Name: milk_days, dtype: float64"
      ]
     },
     "execution_count": 49,
     "metadata": {},
     "output_type": "execute_result"
    }
   ],
   "source": [
    "#Promedio de dias de leche por lactancia\n",
    "milk_days_avg_df = full_data_df.groupby([\"lactation\"]).mean()[\"milk_days\"]\n",
    "milk_days_avg_df"
   ]
  },
  {
   "cell_type": "code",
   "execution_count": 63,
   "id": "98e8e90c",
   "metadata": {},
   "outputs": [
    {
     "data": {
      "text/plain": [
       "number_mastitis_lactation_1\n",
       "0    3952\n",
       "1     358\n",
       "2      56\n",
       "3      14\n",
       "4       5\n",
       "5       6\n",
       "6       2\n",
       "Name: id, dtype: int64"
      ]
     },
     "execution_count": 63,
     "metadata": {},
     "output_type": "execute_result"
    }
   ],
   "source": [
    "ill_cows_by_lactation_1=full_data_df.groupby([\"number_mastitis_lactation_1\"]).count()[\"id\"]\n",
    "ill_cows_by_lactation_1"
   ]
  },
  {
   "cell_type": "code",
   "execution_count": 64,
   "id": "2b2a5f48",
   "metadata": {},
   "outputs": [
    {
     "data": {
      "text/plain": [
       "number_mastitis_lactation_2\n",
       "0    3980\n",
       "1     300\n",
       "2      81\n",
       "3      21\n",
       "4       7\n",
       "5       2\n",
       "8       1\n",
       "9       1\n",
       "Name: id, dtype: int64"
      ]
     },
     "execution_count": 64,
     "metadata": {},
     "output_type": "execute_result"
    }
   ],
   "source": [
    "ill_cows_by_lactation_2=full_data_df.groupby([\"number_mastitis_lactation_2\"]).count()[\"id\"]\n",
    "ill_cows_by_lactation_2"
   ]
  },
  {
   "cell_type": "code",
   "execution_count": 52,
   "id": "e112105d",
   "metadata": {},
   "outputs": [
    {
     "data": {
      "text/plain": [
       "number_mastitis_lactation_3\n",
       "0    4107\n",
       "1     204\n",
       "2      51\n",
       "3      13\n",
       "4       7\n",
       "5       5\n",
       "6       1\n",
       "7       3\n",
       "8       2\n",
       "Name: id, dtype: int64"
      ]
     },
     "execution_count": 52,
     "metadata": {},
     "output_type": "execute_result"
    }
   ],
   "source": [
    "ill_cows_by_lactation_3=full_data_df.groupby([\"number_mastitis_lactation_3\"]).count()[\"id\"]\n",
    "ill_cows_by_lactation_3"
   ]
  },
  {
   "cell_type": "code",
   "execution_count": 53,
   "id": "12c13859",
   "metadata": {},
   "outputs": [
    {
     "data": {
      "text/plain": [
       "number_mastitis_lactation_4\n",
       "0    4233\n",
       "1     113\n",
       "2      29\n",
       "3      10\n",
       "4       2\n",
       "5       4\n",
       "6       1\n",
       "7       1\n",
       "Name: id, dtype: int64"
      ]
     },
     "execution_count": 53,
     "metadata": {},
     "output_type": "execute_result"
    }
   ],
   "source": [
    "ill_cows_by_lactation_4=full_data_df.groupby([\"number_mastitis_lactation_4\"]).count()[\"id\"]\n",
    "ill_cows_by_lactation_4"
   ]
  },
  {
   "cell_type": "code",
   "execution_count": 55,
   "id": "a1040dd4",
   "metadata": {},
   "outputs": [
    {
     "data": {
      "text/plain": [
       "number_mastitis_lactation_5\n",
       "0    4313\n",
       "1      49\n",
       "2      23\n",
       "3       4\n",
       "4       3\n",
       "9       1\n",
       "Name: id, dtype: int64"
      ]
     },
     "execution_count": 55,
     "metadata": {},
     "output_type": "execute_result"
    }
   ],
   "source": [
    "ill_cows_by_lactation_5=full_data_df.groupby([\"number_mastitis_lactation_5\"]).count()[\"id\"]\n",
    "ill_cows_by_lactation_5"
   ]
  },
  {
   "cell_type": "code",
   "execution_count": 56,
   "id": "77c386e7",
   "metadata": {},
   "outputs": [
    {
     "data": {
      "text/plain": [
       "number_mastitis_lactation_6\n",
       "0    4370\n",
       "1      17\n",
       "2       6\n",
       "Name: id, dtype: int64"
      ]
     },
     "execution_count": 56,
     "metadata": {},
     "output_type": "execute_result"
    }
   ],
   "source": [
    "ill_cows_by_lactation_6=full_data_df.groupby([\"number_mastitis_lactation_6\"]).count()[\"id\"]\n",
    "ill_cows_by_lactation_6"
   ]
  },
  {
   "cell_type": "code",
   "execution_count": 57,
   "id": "f07c4aff",
   "metadata": {},
   "outputs": [
    {
     "data": {
      "text/plain": [
       "number_mastitis_lactation_7\n",
       "0    4388\n",
       "1       3\n",
       "2       1\n",
       "3       1\n",
       "Name: id, dtype: int64"
      ]
     },
     "execution_count": 57,
     "metadata": {},
     "output_type": "execute_result"
    }
   ],
   "source": [
    "ill_cows_by_lactation_7=full_data_df.groupby([\"number_mastitis_lactation_7\"]).count()[\"id\"]\n",
    "ill_cows_by_lactation_7"
   ]
  },
  {
   "cell_type": "code",
   "execution_count": 58,
   "id": "e682f79a",
   "metadata": {},
   "outputs": [
    {
     "data": {
      "text/plain": [
       "number_mastitis_lactation_8\n",
       "0    4391\n",
       "3       1\n",
       "6       1\n",
       "Name: id, dtype: int64"
      ]
     },
     "execution_count": 58,
     "metadata": {},
     "output_type": "execute_result"
    }
   ],
   "source": [
    "ill_cows_by_lactation_8=full_data_df.groupby([\"number_mastitis_lactation_8\"]).count()[\"id\"]\n",
    "ill_cows_by_lactation_8"
   ]
  },
  {
   "cell_type": "code",
   "execution_count": 59,
   "id": "9143c467",
   "metadata": {},
   "outputs": [
    {
     "data": {
      "text/plain": [
       "number_mastitis_lactation_9\n",
       "0    4393\n",
       "Name: id, dtype: int64"
      ]
     },
     "execution_count": 59,
     "metadata": {},
     "output_type": "execute_result"
    }
   ],
   "source": [
    "ill_cows_by_lactation_9=full_data_df.groupby([\"number_mastitis_lactation_9\"]).count()[\"id\"]\n",
    "ill_cows_by_lactation_9"
   ]
  },
  {
   "cell_type": "code",
   "execution_count": 65,
   "id": "309206f0",
   "metadata": {},
   "outputs": [
    {
     "data": {
      "text/plain": [
       "gynecological_status\n",
       "abortion           4\n",
       "heat              20\n",
       "insemination     117\n",
       "labor             40\n",
       "no_inseminate     10\n",
       "pregnacy         383\n",
       "Name: number_mastitis_lactation_1, dtype: int64"
      ]
     },
     "execution_count": 65,
     "metadata": {},
     "output_type": "execute_result"
    }
   ],
   "source": [
    "ill_cows_by_gyn_state_lact_1=full_data_df.groupby([\"gynecological_status\"]).sum()[\"number_mastitis_lactation_1\"]\n",
    "ill_cows_by_gyn_state_lact_1"
   ]
  },
  {
   "cell_type": "code",
   "execution_count": 70,
   "id": "021d32db",
   "metadata": {},
   "outputs": [
    {
     "data": {
      "text/plain": [
       "gynecological_status  number_mastitis_lactation_1  number_mastitis_lactation_2  number_mastitis_lactation_3  number_mastitis_lactation_4  number_mastitis_lactation_5  number_mastitis_lactation_6  number_mastitis_lactation_7  number_mastitis_lactation_8  number_mastitis_lactation_9\n",
       "abortion              0                            0                            0                            0                            0                            0                            0                            0                            0                              15\n",
       "                                                                                                             1                            0                            0                            0                            0                            0                               1\n",
       "                                                                                                                                          1                            0                            0                            0                            0                               1\n",
       "                                                                                                             2                            0                            0                            0                            0                            0                               1\n",
       "                                                                                1                            0                            1                            0                            0                            0                            0                               1\n",
       "                                                                                                                                                                                                                                                                                             ..\n",
       "pregnacy              4                            1                            0                            0                            0                            0                            0                            0                            0                               2\n",
       "                                                   2                            0                            0                            0                            0                            0                            0                            0                               1\n",
       "                      5                            0                            0                            0                            0                            0                            0                            0                            0                               1\n",
       "                                                   1                            0                            0                            0                            0                            0                            0                            0                               1\n",
       "                                                   3                            2                            0                            0                            0                            0                            0                            0                               1\n",
       "Name: id, Length: 234, dtype: int64"
      ]
     },
     "execution_count": 70,
     "metadata": {},
     "output_type": "execute_result"
    }
   ],
   "source": [
    "ill_cows_by_gyn_state_lact_1_1=full_data_df.groupby([\"gynecological_status\", \"number_mastitis_lactation_1\", \"number_mastitis_lactation_2\", \"number_mastitis_lactation_3\", \"number_mastitis_lactation_4\", \"number_mastitis_lactation_5\", \"number_mastitis_lactation_6\", \"number_mastitis_lactation_7\", \"number_mastitis_lactation_8\", \"number_mastitis_lactation_9\"]).count()[\"id\"]\n",
    "ill_cows_by_gyn_state_lact_1_1"
   ]
  },
  {
   "cell_type": "code",
   "execution_count": 73,
   "id": "c6b77715",
   "metadata": {},
   "outputs": [],
   "source": [
    "ill_cows_by_gyn_state_lact_1_1.to_csv('ill_cows_by_gyn_state_lact_1_1.csv', index=True)"
   ]
  },
  {
   "cell_type": "code",
   "execution_count": 92,
   "id": "64ad816a",
   "metadata": {},
   "outputs": [
    {
     "data": {
      "text/plain": [
       "Series([], Name: total_production_9, dtype: int64)"
      ]
     },
     "execution_count": 92,
     "metadata": {},
     "output_type": "execute_result"
    }
   ],
   "source": [
    "#vacas con mastitis y rentables en lactancia 1\n",
    "mastitis_profitable_1_df = full_data_df[full_data_df[\"total_production_9\"] >= 10000]\n",
    "mastitis_profitable_1_count_df = mastitis_profitable_1_df.groupby([\"number_mastitis_lactation_9\"]).count()[\"total_production_9\"]\n",
    "mastitis_profitable_1_count_df "
   ]
  },
  {
   "cell_type": "code",
   "execution_count": null,
   "id": "30d5116f",
   "metadata": {},
   "outputs": [],
   "source": []
  }
 ],
 "metadata": {
  "kernelspec": {
   "display_name": "Python 3 (ipykernel)",
   "language": "python",
   "name": "python3"
  },
  "language_info": {
   "codemirror_mode": {
    "name": "ipython",
    "version": 3
   },
   "file_extension": ".py",
   "mimetype": "text/x-python",
   "name": "python",
   "nbconvert_exporter": "python",
   "pygments_lexer": "ipython3",
   "version": "3.9.7"
  }
 },
 "nbformat": 4,
 "nbformat_minor": 5
}
