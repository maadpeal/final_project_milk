{
 "cells": [
  {
   "cell_type": "code",
   "execution_count": 1,
   "id": "97825910",
   "metadata": {},
   "outputs": [],
   "source": [
    "import pandas as pd\n",
    "import numpy as np\n",
    "%matplotlib inline\n",
    "import matplotlib.pyplot as plt\n",
    "import seaborn as sns"
   ]
  },
  {
   "cell_type": "code",
   "execution_count": 2,
   "id": "f571ddf4",
   "metadata": {},
   "outputs": [],
   "source": [
    "import os\n",
    "mastitis_to_load = os.path.join(\"Resources/Mastitis_by_lactation.csv\")\n",
    "mastitis_df = pd.read_csv(mastitis_to_load)\n"
   ]
  },
  {
   "cell_type": "code",
   "execution_count": 3,
   "id": "a5c55bc9",
   "metadata": {},
   "outputs": [],
   "source": [
    "cow_to_load = os.path.join(\"Resources/alive_cows_to_predict.csv\")\n",
    "cow_df = pd.read_csv(cow_to_load)"
   ]
  },
  {
   "cell_type": "code",
   "execution_count": 4,
   "id": "0b0a5d67",
   "metadata": {},
   "outputs": [],
   "source": [
    "data_to_load = os.path.join(\"Resources/data_preprocesed_lact_3.csv\")\n",
    "data_df = pd.read_csv(data_to_load)"
   ]
  },
  {
   "cell_type": "code",
   "execution_count": 5,
   "id": "832d8315",
   "metadata": {},
   "outputs": [
    {
     "data": {
      "text/plain": [
       "4393"
      ]
     },
     "execution_count": 5,
     "metadata": {},
     "output_type": "execute_result"
    }
   ],
   "source": [
    "#total de vacas\n",
    "total_cow_count = cow_df[\"id\"].count()\n",
    "total_cow_count"
   ]
  },
  {
   "cell_type": "code",
   "execution_count": 6,
   "id": "7d807ab1",
   "metadata": {},
   "outputs": [
    {
     "data": {
      "text/plain": [
       "27.908035511040293"
      ]
     },
     "execution_count": 6,
     "metadata": {},
     "output_type": "execute_result"
    }
   ],
   "source": [
    "#Cows with more than 10000lt in 1st lactation.\n",
    "profitable_cows1 = cow_df[cow_df[\"total_production_1\"] >= 10000]\n",
    "cows_count = profitable_cows1[\"id\"].count()\n",
    "profitable_percentage1 = cows_count / float(total_cow_count) * 100\n",
    "profitable_percentage1"
   ]
  },
  {
   "cell_type": "code",
   "execution_count": 7,
   "id": "c5858430",
   "metadata": {},
   "outputs": [
    {
     "data": {
      "text/plain": [
       "45.58987718645329"
      ]
     },
     "execution_count": 7,
     "metadata": {},
     "output_type": "execute_result"
    }
   ],
   "source": [
    "#Cows with more than 10000lt in 2nd lactation.\n",
    "cow_2 = cow_df[cow_df[\"lactation_2\"] == 1]\n",
    "cows2_count = cow_2[\"id\"].count()\n",
    "profitable_cows2 = cow_df[cow_df[\"total_production_2\"] >= 10000]\n",
    "total_cows_count2 = profitable_cows2[\"id\"].count()\n",
    "profitable_percentage2 = total_cows_count2 / float(cows2_count) * 100\n",
    "profitable_percentage2"
   ]
  },
  {
   "cell_type": "code",
   "execution_count": 8,
   "id": "d102f639",
   "metadata": {},
   "outputs": [
    {
     "data": {
      "text/plain": [
       "48.45212383009359"
      ]
     },
     "execution_count": 8,
     "metadata": {},
     "output_type": "execute_result"
    }
   ],
   "source": [
    "#Cows with more than 10000lt in 3rd lactation.\n",
    "cow_3 = cow_df[cow_df[\"lactation_3\"] == 1]\n",
    "cows3_count = cow_3[\"id\"].count()\n",
    "profitable_cows3 = cow_df[cow_df[\"total_production_3\"] >= 10000]\n",
    "total_cows_count3 = profitable_cows3[\"id\"].count()\n",
    "profitable_percentage3 = total_cows_count3 / float(cows3_count) * 100\n",
    "profitable_percentage3"
   ]
  },
  {
   "cell_type": "code",
   "execution_count": 9,
   "id": "604499da",
   "metadata": {},
   "outputs": [
    {
     "data": {
      "text/plain": [
       "46.69811320754717"
      ]
     },
     "execution_count": 9,
     "metadata": {},
     "output_type": "execute_result"
    }
   ],
   "source": [
    "#Cows with more than 10000lt in 4rd lactation.\n",
    "cow_4 = cow_df[cow_df[\"lactation_4\"] == 1]\n",
    "cows4_count = cow_4[\"id\"].count()\n",
    "profitable_cows4 = cow_df[cow_df[\"total_production_4\"] >= 10000]\n",
    "total_cows_count4 = profitable_cows4[\"id\"].count()\n",
    "profitable_percentage4 = total_cows_count4 / float(cows4_count) * 100\n",
    "profitable_percentage4"
   ]
  },
  {
   "cell_type": "code",
   "execution_count": 10,
   "id": "9170fa99",
   "metadata": {},
   "outputs": [
    {
     "data": {
      "text/plain": [
       "44.48529411764706"
      ]
     },
     "execution_count": 10,
     "metadata": {},
     "output_type": "execute_result"
    }
   ],
   "source": [
    "#Cows with more than 10000lt in 5th lactation.\n",
    "cow_5 = cow_df[cow_df[\"lactation_5\"] == 1]\n",
    "cows5_count = cow_5[\"id\"].count()\n",
    "profitable_cows5 = cow_df[cow_df[\"total_production_5\"] >= 10000]\n",
    "total_cows_count5 = profitable_cows5[\"id\"].count()\n",
    "profitable_percentage5 = total_cows_count5 / float(cows5_count) * 100\n",
    "profitable_percentage5"
   ]
  },
  {
   "cell_type": "code",
   "execution_count": 11,
   "id": "d7160c3e",
   "metadata": {},
   "outputs": [
    {
     "data": {
      "text/plain": [
       "32.6530612244898"
      ]
     },
     "execution_count": 11,
     "metadata": {},
     "output_type": "execute_result"
    }
   ],
   "source": [
    "#Cows with more than 10000lt in 6th lactation.\n",
    "cow_6 = cow_df[cow_df[\"lactation_6\"] == 1]\n",
    "cows6_count = cow_6[\"id\"].count()\n",
    "profitable_cows6 = cow_df[cow_df[\"total_production_6\"] >= 10000]\n",
    "total_cows_count6 = profitable_cows6[\"id\"].count()\n",
    "profitable_percentage6 = total_cows_count6 / float(cows6_count) * 100\n",
    "profitable_percentage6"
   ]
  },
  {
   "cell_type": "code",
   "execution_count": 12,
   "id": "499422f6",
   "metadata": {},
   "outputs": [
    {
     "data": {
      "text/plain": [
       "17.24137931034483"
      ]
     },
     "execution_count": 12,
     "metadata": {},
     "output_type": "execute_result"
    }
   ],
   "source": [
    "#Cows with more than 10000lt in 7th lactation.\n",
    "cow_7 = cow_df[cow_df[\"lactation_7\"] == 1]\n",
    "cows7_count = cow_7[\"id\"].count()\n",
    "profitable_cows7 = cow_df[cow_df[\"total_production_7\"] >= 10000]\n",
    "total_cows_count7 = profitable_cows7[\"id\"].count()\n",
    "profitable_percentage7 = total_cows_count7 / float(cows7_count) * 100\n",
    "profitable_percentage7"
   ]
  },
  {
   "cell_type": "code",
   "execution_count": 13,
   "id": "ce840616",
   "metadata": {},
   "outputs": [
    {
     "data": {
      "text/plain": [
       "16.666666666666664"
      ]
     },
     "execution_count": 13,
     "metadata": {},
     "output_type": "execute_result"
    }
   ],
   "source": [
    "#Cows with more than 10000lt in 8th lactation.\n",
    "cow_8 = cow_df[cow_df[\"lactation_8\"] == 1]\n",
    "cows8_count = cow_8[\"id\"].count()\n",
    "profitable_cows8 = cow_df[cow_df[\"total_production_8\"] >= 10000]\n",
    "total_cows_count8 = profitable_cows8[\"id\"].count()\n",
    "profitable_percentage8 = total_cows_count8 / float(cows8_count) * 100\n",
    "profitable_percentage8"
   ]
  },
  {
   "cell_type": "code",
   "execution_count": 14,
   "id": "3a892ea8",
   "metadata": {},
   "outputs": [
    {
     "data": {
      "text/plain": [
       "0.0"
      ]
     },
     "execution_count": 14,
     "metadata": {},
     "output_type": "execute_result"
    }
   ],
   "source": [
    "#Cows with more than 10000lt in 9th lactation.\n",
    "cow_9 = cow_df[cow_df[\"lactation_9\"] == 1]\n",
    "cows9_count = cow_9[\"id\"].count()\n",
    "profitable_cows9 = cow_df[cow_df[\"total_production_9\"] >= 10000]\n",
    "total_cows_count9 = profitable_cows9[\"id\"].count()\n",
    "profitable_percentage9 = total_cows_count9 / float(cows9_count) * 100\n",
    "profitable_percentage9"
   ]
  },
  {
   "cell_type": "code",
   "execution_count": 15,
   "id": "1d2ae93d",
   "metadata": {},
   "outputs": [],
   "source": [
    "# profitable_lactations_df\n",
    "\n",
    "lactancia1 = [\"1\", profitable_percentage1]\n",
    "lactancia2 = [\"2\", profitable_percentage2]\n",
    "lactancia3 = [\"3\", profitable_percentage3]\n",
    "lactancia4 = [\"4\", profitable_percentage4]\n",
    "lactancia5 = [\"5\", profitable_percentage5]\n",
    "lactancia6 = [\"6\", profitable_percentage6]\n",
    "lactancia7 = [\"7\", profitable_percentage7]\n",
    "lactancia8 = [\"8\", profitable_percentage8]\n",
    "lactancia9 = [\"9\", profitable_percentage9]\n",
    "\n",
    "lactations_list = [lactancia1,lactancia2,lactancia3,lactancia4,lactancia5,lactancia6,lactancia7,lactancia8,lactancia9]\n"
   ]
  },
  {
   "cell_type": "code",
   "execution_count": 16,
   "id": "1e3aee03",
   "metadata": {},
   "outputs": [
    {
     "data": {
      "text/html": [
       "<div>\n",
       "<style scoped>\n",
       "    .dataframe tbody tr th:only-of-type {\n",
       "        vertical-align: middle;\n",
       "    }\n",
       "\n",
       "    .dataframe tbody tr th {\n",
       "        vertical-align: top;\n",
       "    }\n",
       "\n",
       "    .dataframe thead th {\n",
       "        text-align: right;\n",
       "    }\n",
       "</style>\n",
       "<table border=\"1\" class=\"dataframe\">\n",
       "  <thead>\n",
       "    <tr style=\"text-align: right;\">\n",
       "      <th></th>\n",
       "      <th>lactation</th>\n",
       "      <th>profitable %</th>\n",
       "    </tr>\n",
       "  </thead>\n",
       "  <tbody>\n",
       "    <tr>\n",
       "      <th>0</th>\n",
       "      <td>1</td>\n",
       "      <td>27.908036</td>\n",
       "    </tr>\n",
       "    <tr>\n",
       "      <th>1</th>\n",
       "      <td>2</td>\n",
       "      <td>45.589877</td>\n",
       "    </tr>\n",
       "    <tr>\n",
       "      <th>2</th>\n",
       "      <td>3</td>\n",
       "      <td>48.452124</td>\n",
       "    </tr>\n",
       "    <tr>\n",
       "      <th>3</th>\n",
       "      <td>4</td>\n",
       "      <td>46.698113</td>\n",
       "    </tr>\n",
       "    <tr>\n",
       "      <th>4</th>\n",
       "      <td>5</td>\n",
       "      <td>44.485294</td>\n",
       "    </tr>\n",
       "    <tr>\n",
       "      <th>5</th>\n",
       "      <td>6</td>\n",
       "      <td>32.653061</td>\n",
       "    </tr>\n",
       "    <tr>\n",
       "      <th>6</th>\n",
       "      <td>7</td>\n",
       "      <td>17.241379</td>\n",
       "    </tr>\n",
       "    <tr>\n",
       "      <th>7</th>\n",
       "      <td>8</td>\n",
       "      <td>16.666667</td>\n",
       "    </tr>\n",
       "    <tr>\n",
       "      <th>8</th>\n",
       "      <td>9</td>\n",
       "      <td>0.000000</td>\n",
       "    </tr>\n",
       "  </tbody>\n",
       "</table>\n",
       "</div>"
      ],
      "text/plain": [
       "  lactation  profitable %\n",
       "0         1     27.908036\n",
       "1         2     45.589877\n",
       "2         3     48.452124\n",
       "3         4     46.698113\n",
       "4         5     44.485294\n",
       "5         6     32.653061\n",
       "6         7     17.241379\n",
       "7         8     16.666667\n",
       "8         9      0.000000"
      ]
     },
     "execution_count": 16,
     "metadata": {},
     "output_type": "execute_result"
    }
   ],
   "source": [
    "# Dataframe de porcentaje de vacas rentables.\n",
    "profitable_lactations_df = pd.DataFrame(lactations_list,\n",
    "          columns = ['lactation', 'profitable %'])\n",
    "profitable_lactations_df"
   ]
  },
  {
   "cell_type": "code",
   "execution_count": 17,
   "id": "45e49e2a",
   "metadata": {},
   "outputs": [],
   "source": [
    "profitable_lactations_df.to_csv('profitable_lactations.csv', index=False)"
   ]
  }
 ],
 "metadata": {
  "kernelspec": {
   "display_name": "Python 3 (ipykernel)",
   "language": "python",
   "name": "python3"
  },
  "language_info": {
   "codemirror_mode": {
    "name": "ipython",
    "version": 3
   },
   "file_extension": ".py",
   "mimetype": "text/x-python",
   "name": "python",
   "nbconvert_exporter": "python",
   "pygments_lexer": "ipython3",
   "version": "3.9.12"
  }
 },
 "nbformat": 4,
 "nbformat_minor": 5
}
