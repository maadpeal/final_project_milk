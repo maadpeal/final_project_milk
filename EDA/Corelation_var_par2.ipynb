{
 "cells": [
  {
   "cell_type": "code",
   "execution_count": 1,
   "id": "745e3ac8",
   "metadata": {},
   "outputs": [],
   "source": [
    "# Initial imports\n",
    "import pandas as pd\n",
    "from path import Path\n",
    "from sklearn import tree\n",
    "from sklearn.preprocessing import StandardScaler\n",
    "from sklearn.model_selection import train_test_split\n",
    "from sklearn.metrics import confusion_matrix, accuracy_score, classification_report\n",
    "from sklearn.linear_model import LinearRegression\n",
    "import matplotlib.pyplot as plt\n",
    "from sklearn.linear_model import LinearRegression"
   ]
  },
  {
   "cell_type": "code",
   "execution_count": 2,
   "id": "61c08aad",
   "metadata": {},
   "outputs": [],
   "source": [
    "df = pd.read_csv('../Resources/data_preprocesed_lact_3.csv')"
   ]
  },
  {
   "cell_type": "code",
   "execution_count": 3,
   "id": "317a8ce5",
   "metadata": {},
   "outputs": [
    {
     "data": {
      "text/html": [
       "<div>\n",
       "<style scoped>\n",
       "    .dataframe tbody tr th:only-of-type {\n",
       "        vertical-align: middle;\n",
       "    }\n",
       "\n",
       "    .dataframe tbody tr th {\n",
       "        vertical-align: top;\n",
       "    }\n",
       "\n",
       "    .dataframe thead th {\n",
       "        text-align: right;\n",
       "    }\n",
       "</style>\n",
       "<table border=\"1\" class=\"dataframe\">\n",
       "  <thead>\n",
       "    <tr style=\"text-align: right;\">\n",
       "      <th></th>\n",
       "      <th>Unnamed: 0</th>\n",
       "      <th>id</th>\n",
       "      <th>lactation_1</th>\n",
       "      <th>lactation_2</th>\n",
       "      <th>lactation_3</th>\n",
       "      <th>total_production_1</th>\n",
       "      <th>total_production_2</th>\n",
       "      <th>total_production_3</th>\n",
       "      <th>milk_days_1</th>\n",
       "      <th>milk_days_2</th>\n",
       "      <th>...</th>\n",
       "      <th>mastitis_lac_1</th>\n",
       "      <th>mastitis_lac_2</th>\n",
       "      <th>mastitis_lac_3</th>\n",
       "      <th>inseminacion_lac_1</th>\n",
       "      <th>inseminacion_lac_2</th>\n",
       "      <th>inseminacion_lac_3</th>\n",
       "      <th>abortos_Lac_1</th>\n",
       "      <th>abortos_lac_2</th>\n",
       "      <th>abortos_lac_3</th>\n",
       "      <th>production_ok</th>\n",
       "    </tr>\n",
       "  </thead>\n",
       "  <tbody>\n",
       "    <tr>\n",
       "      <th>0</th>\n",
       "      <td>0</td>\n",
       "      <td>5</td>\n",
       "      <td>1</td>\n",
       "      <td>1</td>\n",
       "      <td>1</td>\n",
       "      <td>7817</td>\n",
       "      <td>9123</td>\n",
       "      <td>9129</td>\n",
       "      <td>288</td>\n",
       "      <td>319</td>\n",
       "      <td>...</td>\n",
       "      <td>0</td>\n",
       "      <td>0</td>\n",
       "      <td>0</td>\n",
       "      <td>1</td>\n",
       "      <td>3</td>\n",
       "      <td>1</td>\n",
       "      <td>0</td>\n",
       "      <td>0</td>\n",
       "      <td>0</td>\n",
       "      <td>0</td>\n",
       "    </tr>\n",
       "    <tr>\n",
       "      <th>1</th>\n",
       "      <td>1</td>\n",
       "      <td>9</td>\n",
       "      <td>1</td>\n",
       "      <td>1</td>\n",
       "      <td>1</td>\n",
       "      <td>7793</td>\n",
       "      <td>10019</td>\n",
       "      <td>7907</td>\n",
       "      <td>290</td>\n",
       "      <td>322</td>\n",
       "      <td>...</td>\n",
       "      <td>0</td>\n",
       "      <td>0</td>\n",
       "      <td>0</td>\n",
       "      <td>1</td>\n",
       "      <td>3</td>\n",
       "      <td>1</td>\n",
       "      <td>0</td>\n",
       "      <td>0</td>\n",
       "      <td>0</td>\n",
       "      <td>0</td>\n",
       "    </tr>\n",
       "    <tr>\n",
       "      <th>2</th>\n",
       "      <td>2</td>\n",
       "      <td>16</td>\n",
       "      <td>1</td>\n",
       "      <td>1</td>\n",
       "      <td>1</td>\n",
       "      <td>10402</td>\n",
       "      <td>10293</td>\n",
       "      <td>10363</td>\n",
       "      <td>340</td>\n",
       "      <td>392</td>\n",
       "      <td>...</td>\n",
       "      <td>0</td>\n",
       "      <td>0</td>\n",
       "      <td>0</td>\n",
       "      <td>2</td>\n",
       "      <td>2</td>\n",
       "      <td>1</td>\n",
       "      <td>0</td>\n",
       "      <td>0</td>\n",
       "      <td>0</td>\n",
       "      <td>1</td>\n",
       "    </tr>\n",
       "    <tr>\n",
       "      <th>3</th>\n",
       "      <td>3</td>\n",
       "      <td>27</td>\n",
       "      <td>1</td>\n",
       "      <td>1</td>\n",
       "      <td>1</td>\n",
       "      <td>9367</td>\n",
       "      <td>11250</td>\n",
       "      <td>2090</td>\n",
       "      <td>334</td>\n",
       "      <td>403</td>\n",
       "      <td>...</td>\n",
       "      <td>0</td>\n",
       "      <td>0</td>\n",
       "      <td>0</td>\n",
       "      <td>2</td>\n",
       "      <td>5</td>\n",
       "      <td>0</td>\n",
       "      <td>0</td>\n",
       "      <td>0</td>\n",
       "      <td>0</td>\n",
       "      <td>0</td>\n",
       "    </tr>\n",
       "    <tr>\n",
       "      <th>4</th>\n",
       "      <td>4</td>\n",
       "      <td>121</td>\n",
       "      <td>1</td>\n",
       "      <td>1</td>\n",
       "      <td>1</td>\n",
       "      <td>11491</td>\n",
       "      <td>12403</td>\n",
       "      <td>13318</td>\n",
       "      <td>343</td>\n",
       "      <td>294</td>\n",
       "      <td>...</td>\n",
       "      <td>0</td>\n",
       "      <td>0</td>\n",
       "      <td>0</td>\n",
       "      <td>4</td>\n",
       "      <td>2</td>\n",
       "      <td>4</td>\n",
       "      <td>0</td>\n",
       "      <td>0</td>\n",
       "      <td>0</td>\n",
       "      <td>1</td>\n",
       "    </tr>\n",
       "    <tr>\n",
       "      <th>...</th>\n",
       "      <td>...</td>\n",
       "      <td>...</td>\n",
       "      <td>...</td>\n",
       "      <td>...</td>\n",
       "      <td>...</td>\n",
       "      <td>...</td>\n",
       "      <td>...</td>\n",
       "      <td>...</td>\n",
       "      <td>...</td>\n",
       "      <td>...</td>\n",
       "      <td>...</td>\n",
       "      <td>...</td>\n",
       "      <td>...</td>\n",
       "      <td>...</td>\n",
       "      <td>...</td>\n",
       "      <td>...</td>\n",
       "      <td>...</td>\n",
       "      <td>...</td>\n",
       "      <td>...</td>\n",
       "      <td>...</td>\n",
       "      <td>...</td>\n",
       "    </tr>\n",
       "    <tr>\n",
       "      <th>2683</th>\n",
       "      <td>2683</td>\n",
       "      <td>20406</td>\n",
       "      <td>1</td>\n",
       "      <td>1</td>\n",
       "      <td>0</td>\n",
       "      <td>8095</td>\n",
       "      <td>0</td>\n",
       "      <td>0</td>\n",
       "      <td>311</td>\n",
       "      <td>11</td>\n",
       "      <td>...</td>\n",
       "      <td>0</td>\n",
       "      <td>0</td>\n",
       "      <td>-1</td>\n",
       "      <td>2</td>\n",
       "      <td>0</td>\n",
       "      <td>-1</td>\n",
       "      <td>0</td>\n",
       "      <td>0</td>\n",
       "      <td>-1</td>\n",
       "      <td>0</td>\n",
       "    </tr>\n",
       "    <tr>\n",
       "      <th>2684</th>\n",
       "      <td>2684</td>\n",
       "      <td>20407</td>\n",
       "      <td>1</td>\n",
       "      <td>1</td>\n",
       "      <td>0</td>\n",
       "      <td>7432</td>\n",
       "      <td>1992</td>\n",
       "      <td>0</td>\n",
       "      <td>268</td>\n",
       "      <td>58</td>\n",
       "      <td>...</td>\n",
       "      <td>0</td>\n",
       "      <td>0</td>\n",
       "      <td>-1</td>\n",
       "      <td>1</td>\n",
       "      <td>0</td>\n",
       "      <td>-1</td>\n",
       "      <td>0</td>\n",
       "      <td>0</td>\n",
       "      <td>-1</td>\n",
       "      <td>0</td>\n",
       "    </tr>\n",
       "    <tr>\n",
       "      <th>2685</th>\n",
       "      <td>2685</td>\n",
       "      <td>20408</td>\n",
       "      <td>1</td>\n",
       "      <td>1</td>\n",
       "      <td>0</td>\n",
       "      <td>7880</td>\n",
       "      <td>0</td>\n",
       "      <td>0</td>\n",
       "      <td>308</td>\n",
       "      <td>9</td>\n",
       "      <td>...</td>\n",
       "      <td>0</td>\n",
       "      <td>0</td>\n",
       "      <td>-1</td>\n",
       "      <td>2</td>\n",
       "      <td>0</td>\n",
       "      <td>-1</td>\n",
       "      <td>0</td>\n",
       "      <td>0</td>\n",
       "      <td>-1</td>\n",
       "      <td>0</td>\n",
       "    </tr>\n",
       "    <tr>\n",
       "      <th>2686</th>\n",
       "      <td>2686</td>\n",
       "      <td>20409</td>\n",
       "      <td>1</td>\n",
       "      <td>1</td>\n",
       "      <td>0</td>\n",
       "      <td>8414</td>\n",
       "      <td>2098</td>\n",
       "      <td>0</td>\n",
       "      <td>266</td>\n",
       "      <td>48</td>\n",
       "      <td>...</td>\n",
       "      <td>0</td>\n",
       "      <td>0</td>\n",
       "      <td>-1</td>\n",
       "      <td>1</td>\n",
       "      <td>0</td>\n",
       "      <td>-1</td>\n",
       "      <td>0</td>\n",
       "      <td>0</td>\n",
       "      <td>-1</td>\n",
       "      <td>0</td>\n",
       "    </tr>\n",
       "    <tr>\n",
       "      <th>2687</th>\n",
       "      <td>2687</td>\n",
       "      <td>20411</td>\n",
       "      <td>1</td>\n",
       "      <td>1</td>\n",
       "      <td>0</td>\n",
       "      <td>4330</td>\n",
       "      <td>741</td>\n",
       "      <td>0</td>\n",
       "      <td>285</td>\n",
       "      <td>33</td>\n",
       "      <td>...</td>\n",
       "      <td>0</td>\n",
       "      <td>0</td>\n",
       "      <td>-1</td>\n",
       "      <td>1</td>\n",
       "      <td>0</td>\n",
       "      <td>-1</td>\n",
       "      <td>0</td>\n",
       "      <td>0</td>\n",
       "      <td>-1</td>\n",
       "      <td>0</td>\n",
       "    </tr>\n",
       "  </tbody>\n",
       "</table>\n",
       "<p>2688 rows × 21 columns</p>\n",
       "</div>"
      ],
      "text/plain": [
       "      Unnamed: 0     id  lactation_1  lactation_2  lactation_3  \\\n",
       "0              0      5            1            1            1   \n",
       "1              1      9            1            1            1   \n",
       "2              2     16            1            1            1   \n",
       "3              3     27            1            1            1   \n",
       "4              4    121            1            1            1   \n",
       "...          ...    ...          ...          ...          ...   \n",
       "2683        2683  20406            1            1            0   \n",
       "2684        2684  20407            1            1            0   \n",
       "2685        2685  20408            1            1            0   \n",
       "2686        2686  20409            1            1            0   \n",
       "2687        2687  20411            1            1            0   \n",
       "\n",
       "      total_production_1  total_production_2  total_production_3  milk_days_1  \\\n",
       "0                   7817                9123                9129          288   \n",
       "1                   7793               10019                7907          290   \n",
       "2                  10402               10293               10363          340   \n",
       "3                   9367               11250                2090          334   \n",
       "4                  11491               12403               13318          343   \n",
       "...                  ...                 ...                 ...          ...   \n",
       "2683                8095                   0                   0          311   \n",
       "2684                7432                1992                   0          268   \n",
       "2685                7880                   0                   0          308   \n",
       "2686                8414                2098                   0          266   \n",
       "2687                4330                 741                   0          285   \n",
       "\n",
       "      milk_days_2  ...  mastitis_lac_1  mastitis_lac_2  mastitis_lac_3  \\\n",
       "0             319  ...               0               0               0   \n",
       "1             322  ...               0               0               0   \n",
       "2             392  ...               0               0               0   \n",
       "3             403  ...               0               0               0   \n",
       "4             294  ...               0               0               0   \n",
       "...           ...  ...             ...             ...             ...   \n",
       "2683           11  ...               0               0              -1   \n",
       "2684           58  ...               0               0              -1   \n",
       "2685            9  ...               0               0              -1   \n",
       "2686           48  ...               0               0              -1   \n",
       "2687           33  ...               0               0              -1   \n",
       "\n",
       "      inseminacion_lac_1  inseminacion_lac_2  inseminacion_lac_3  \\\n",
       "0                      1                   3                   1   \n",
       "1                      1                   3                   1   \n",
       "2                      2                   2                   1   \n",
       "3                      2                   5                   0   \n",
       "4                      4                   2                   4   \n",
       "...                  ...                 ...                 ...   \n",
       "2683                   2                   0                  -1   \n",
       "2684                   1                   0                  -1   \n",
       "2685                   2                   0                  -1   \n",
       "2686                   1                   0                  -1   \n",
       "2687                   1                   0                  -1   \n",
       "\n",
       "      abortos_Lac_1  abortos_lac_2  abortos_lac_3  production_ok  \n",
       "0                 0              0              0              0  \n",
       "1                 0              0              0              0  \n",
       "2                 0              0              0              1  \n",
       "3                 0              0              0              0  \n",
       "4                 0              0              0              1  \n",
       "...             ...            ...            ...            ...  \n",
       "2683              0              0             -1              0  \n",
       "2684              0              0             -1              0  \n",
       "2685              0              0             -1              0  \n",
       "2686              0              0             -1              0  \n",
       "2687              0              0             -1              0  \n",
       "\n",
       "[2688 rows x 21 columns]"
      ]
     },
     "execution_count": 3,
     "metadata": {},
     "output_type": "execute_result"
    }
   ],
   "source": [
    "df"
   ]
  },
  {
   "cell_type": "code",
   "execution_count": 4,
   "id": "ada15719",
   "metadata": {},
   "outputs": [],
   "source": [
    "import numpy as np"
   ]
  },
  {
   "cell_type": "code",
   "execution_count": 5,
   "id": "6f8d0586",
   "metadata": {},
   "outputs": [],
   "source": [
    "df_new = df[[\n",
    "     'lactation_1', 'lactation_2', 'total_production_1', 'total_production_2', 'milk_days_1', 'milk_days_2', 'mastitis_lac_1',\n",
    "       'mastitis_lac_2',\n",
    "       'inseminacion_lac_1', 'inseminacion_lac_2',\n",
    "       'abortos_Lac_1', 'abortos_lac_2',\n",
    "    'production_ok'\n",
    "]]"
   ]
  },
  {
   "cell_type": "code",
   "execution_count": 6,
   "id": "3f54a0aa",
   "metadata": {},
   "outputs": [
    {
     "data": {
      "text/html": [
       "<div>\n",
       "<style scoped>\n",
       "    .dataframe tbody tr th:only-of-type {\n",
       "        vertical-align: middle;\n",
       "    }\n",
       "\n",
       "    .dataframe tbody tr th {\n",
       "        vertical-align: top;\n",
       "    }\n",
       "\n",
       "    .dataframe thead th {\n",
       "        text-align: right;\n",
       "    }\n",
       "</style>\n",
       "<table border=\"1\" class=\"dataframe\">\n",
       "  <thead>\n",
       "    <tr style=\"text-align: right;\">\n",
       "      <th></th>\n",
       "      <th>lactation_1</th>\n",
       "      <th>lactation_2</th>\n",
       "      <th>total_production_1</th>\n",
       "      <th>total_production_2</th>\n",
       "      <th>milk_days_1</th>\n",
       "      <th>milk_days_2</th>\n",
       "      <th>mastitis_lac_1</th>\n",
       "      <th>mastitis_lac_2</th>\n",
       "      <th>inseminacion_lac_1</th>\n",
       "      <th>inseminacion_lac_2</th>\n",
       "      <th>abortos_Lac_1</th>\n",
       "      <th>abortos_lac_2</th>\n",
       "      <th>production_ok</th>\n",
       "    </tr>\n",
       "  </thead>\n",
       "  <tbody>\n",
       "    <tr>\n",
       "      <th>0</th>\n",
       "      <td>1</td>\n",
       "      <td>1</td>\n",
       "      <td>7817</td>\n",
       "      <td>9123</td>\n",
       "      <td>288</td>\n",
       "      <td>319</td>\n",
       "      <td>0</td>\n",
       "      <td>0</td>\n",
       "      <td>1</td>\n",
       "      <td>3</td>\n",
       "      <td>0</td>\n",
       "      <td>0</td>\n",
       "      <td>0</td>\n",
       "    </tr>\n",
       "    <tr>\n",
       "      <th>1</th>\n",
       "      <td>1</td>\n",
       "      <td>1</td>\n",
       "      <td>7793</td>\n",
       "      <td>10019</td>\n",
       "      <td>290</td>\n",
       "      <td>322</td>\n",
       "      <td>0</td>\n",
       "      <td>0</td>\n",
       "      <td>1</td>\n",
       "      <td>3</td>\n",
       "      <td>0</td>\n",
       "      <td>0</td>\n",
       "      <td>0</td>\n",
       "    </tr>\n",
       "    <tr>\n",
       "      <th>2</th>\n",
       "      <td>1</td>\n",
       "      <td>1</td>\n",
       "      <td>10402</td>\n",
       "      <td>10293</td>\n",
       "      <td>340</td>\n",
       "      <td>392</td>\n",
       "      <td>0</td>\n",
       "      <td>0</td>\n",
       "      <td>2</td>\n",
       "      <td>2</td>\n",
       "      <td>0</td>\n",
       "      <td>0</td>\n",
       "      <td>1</td>\n",
       "    </tr>\n",
       "    <tr>\n",
       "      <th>3</th>\n",
       "      <td>1</td>\n",
       "      <td>1</td>\n",
       "      <td>9367</td>\n",
       "      <td>11250</td>\n",
       "      <td>334</td>\n",
       "      <td>403</td>\n",
       "      <td>0</td>\n",
       "      <td>0</td>\n",
       "      <td>2</td>\n",
       "      <td>5</td>\n",
       "      <td>0</td>\n",
       "      <td>0</td>\n",
       "      <td>0</td>\n",
       "    </tr>\n",
       "    <tr>\n",
       "      <th>4</th>\n",
       "      <td>1</td>\n",
       "      <td>1</td>\n",
       "      <td>11491</td>\n",
       "      <td>12403</td>\n",
       "      <td>343</td>\n",
       "      <td>294</td>\n",
       "      <td>0</td>\n",
       "      <td>0</td>\n",
       "      <td>4</td>\n",
       "      <td>2</td>\n",
       "      <td>0</td>\n",
       "      <td>0</td>\n",
       "      <td>1</td>\n",
       "    </tr>\n",
       "    <tr>\n",
       "      <th>...</th>\n",
       "      <td>...</td>\n",
       "      <td>...</td>\n",
       "      <td>...</td>\n",
       "      <td>...</td>\n",
       "      <td>...</td>\n",
       "      <td>...</td>\n",
       "      <td>...</td>\n",
       "      <td>...</td>\n",
       "      <td>...</td>\n",
       "      <td>...</td>\n",
       "      <td>...</td>\n",
       "      <td>...</td>\n",
       "      <td>...</td>\n",
       "    </tr>\n",
       "    <tr>\n",
       "      <th>2683</th>\n",
       "      <td>1</td>\n",
       "      <td>1</td>\n",
       "      <td>8095</td>\n",
       "      <td>0</td>\n",
       "      <td>311</td>\n",
       "      <td>11</td>\n",
       "      <td>0</td>\n",
       "      <td>0</td>\n",
       "      <td>2</td>\n",
       "      <td>0</td>\n",
       "      <td>0</td>\n",
       "      <td>0</td>\n",
       "      <td>0</td>\n",
       "    </tr>\n",
       "    <tr>\n",
       "      <th>2684</th>\n",
       "      <td>1</td>\n",
       "      <td>1</td>\n",
       "      <td>7432</td>\n",
       "      <td>1992</td>\n",
       "      <td>268</td>\n",
       "      <td>58</td>\n",
       "      <td>0</td>\n",
       "      <td>0</td>\n",
       "      <td>1</td>\n",
       "      <td>0</td>\n",
       "      <td>0</td>\n",
       "      <td>0</td>\n",
       "      <td>0</td>\n",
       "    </tr>\n",
       "    <tr>\n",
       "      <th>2685</th>\n",
       "      <td>1</td>\n",
       "      <td>1</td>\n",
       "      <td>7880</td>\n",
       "      <td>0</td>\n",
       "      <td>308</td>\n",
       "      <td>9</td>\n",
       "      <td>0</td>\n",
       "      <td>0</td>\n",
       "      <td>2</td>\n",
       "      <td>0</td>\n",
       "      <td>0</td>\n",
       "      <td>0</td>\n",
       "      <td>0</td>\n",
       "    </tr>\n",
       "    <tr>\n",
       "      <th>2686</th>\n",
       "      <td>1</td>\n",
       "      <td>1</td>\n",
       "      <td>8414</td>\n",
       "      <td>2098</td>\n",
       "      <td>266</td>\n",
       "      <td>48</td>\n",
       "      <td>0</td>\n",
       "      <td>0</td>\n",
       "      <td>1</td>\n",
       "      <td>0</td>\n",
       "      <td>0</td>\n",
       "      <td>0</td>\n",
       "      <td>0</td>\n",
       "    </tr>\n",
       "    <tr>\n",
       "      <th>2687</th>\n",
       "      <td>1</td>\n",
       "      <td>1</td>\n",
       "      <td>4330</td>\n",
       "      <td>741</td>\n",
       "      <td>285</td>\n",
       "      <td>33</td>\n",
       "      <td>0</td>\n",
       "      <td>0</td>\n",
       "      <td>1</td>\n",
       "      <td>0</td>\n",
       "      <td>0</td>\n",
       "      <td>0</td>\n",
       "      <td>0</td>\n",
       "    </tr>\n",
       "  </tbody>\n",
       "</table>\n",
       "<p>2688 rows × 13 columns</p>\n",
       "</div>"
      ],
      "text/plain": [
       "      lactation_1  lactation_2  total_production_1  total_production_2  \\\n",
       "0               1            1                7817                9123   \n",
       "1               1            1                7793               10019   \n",
       "2               1            1               10402               10293   \n",
       "3               1            1                9367               11250   \n",
       "4               1            1               11491               12403   \n",
       "...           ...          ...                 ...                 ...   \n",
       "2683            1            1                8095                   0   \n",
       "2684            1            1                7432                1992   \n",
       "2685            1            1                7880                   0   \n",
       "2686            1            1                8414                2098   \n",
       "2687            1            1                4330                 741   \n",
       "\n",
       "      milk_days_1  milk_days_2  mastitis_lac_1  mastitis_lac_2  \\\n",
       "0             288          319               0               0   \n",
       "1             290          322               0               0   \n",
       "2             340          392               0               0   \n",
       "3             334          403               0               0   \n",
       "4             343          294               0               0   \n",
       "...           ...          ...             ...             ...   \n",
       "2683          311           11               0               0   \n",
       "2684          268           58               0               0   \n",
       "2685          308            9               0               0   \n",
       "2686          266           48               0               0   \n",
       "2687          285           33               0               0   \n",
       "\n",
       "      inseminacion_lac_1  inseminacion_lac_2  abortos_Lac_1  abortos_lac_2  \\\n",
       "0                      1                   3              0              0   \n",
       "1                      1                   3              0              0   \n",
       "2                      2                   2              0              0   \n",
       "3                      2                   5              0              0   \n",
       "4                      4                   2              0              0   \n",
       "...                  ...                 ...            ...            ...   \n",
       "2683                   2                   0              0              0   \n",
       "2684                   1                   0              0              0   \n",
       "2685                   2                   0              0              0   \n",
       "2686                   1                   0              0              0   \n",
       "2687                   1                   0              0              0   \n",
       "\n",
       "      production_ok  \n",
       "0                 0  \n",
       "1                 0  \n",
       "2                 1  \n",
       "3                 0  \n",
       "4                 1  \n",
       "...             ...  \n",
       "2683              0  \n",
       "2684              0  \n",
       "2685              0  \n",
       "2686              0  \n",
       "2687              0  \n",
       "\n",
       "[2688 rows x 13 columns]"
      ]
     },
     "execution_count": 6,
     "metadata": {},
     "output_type": "execute_result"
    }
   ],
   "source": [
    "df_new"
   ]
  },
  {
   "cell_type": "code",
   "execution_count": 10,
   "id": "974c7079",
   "metadata": {},
   "outputs": [
    {
     "data": {
      "image/png": "[encoded data removed]",
      "text/plain": [
       "<Figure size 432x288 with 1 Axes>"
      ]
     },
     "metadata": {
      "needs_background": "light"
     },
     "output_type": "display_data"
    }
   ],
   "source": [
    "#visually inspect the relationship between total_production and lactation:\n",
    "plt.scatter(df_new.production_ok, df_new.total_production_2)\n",
    "plt.xlabel('production_ok')\n",
    "plt.ylabel('total_production_2')\n",
    "plt.show()"
   ]
  },
  {
   "cell_type": "code",
   "execution_count": 12,
   "id": "5c69e76d",
   "metadata": {},
   "outputs": [
    {
     "data": {
      "image/png": "[encoded data removed]",
      "text/plain": [
       "<Figure size 432x288 with 1 Axes>"
      ]
     },
     "metadata": {
      "needs_background": "light"
     },
     "output_type": "display_data"
    }
   ],
   "source": [
    "#visually inspect the relationship between total_production and lactation:\n",
    "plt.scatter(df_new.production_ok, df_new.milk_days_2)\n",
    "plt.xlabel('lactation_1')\n",
    "plt.ylabel('milk_days_2')\n",
    "plt.show()"
   ]
  },
  {
   "cell_type": "code",
   "execution_count": 14,
   "id": "cdbe0c5b",
   "metadata": {},
   "outputs": [
    {
     "data": {
      "image/png": "[encoded data removed]",
      "text/plain": [
       "<Figure size 432x288 with 1 Axes>"
      ]
     },
     "metadata": {
      "needs_background": "light"
     },
     "output_type": "display_data"
    }
   ],
   "source": [
    "#visually inspect the relationship between total_production and lactation:\n",
    "plt.scatter(df_new.total_production_2,df_new.production_ok)\n",
    "plt.xlabel('total_production_2')\n",
    "plt.ylabel('production_ok')\n",
    "plt.show()"
   ]
  },
  {
   "cell_type": "code",
   "execution_count": 15,
   "id": "5159e8bc",
   "metadata": {},
   "outputs": [
    {
     "data": {
      "image/png": "[encoded data removed]",
      "text/plain": [
       "<Figure size 432x288 with 1 Axes>"
      ]
     },
     "metadata": {
      "needs_background": "light"
     },
     "output_type": "display_data"
    }
   ],
   "source": [
    "#visually inspect the relationship between total_production and lactation:\n",
    "plt.scatter(df_new.production_ok, df_new.milk_days_2)\n",
    "plt.xlabel('production_ok')\n",
    "plt.ylabel('milk_days_2')\n",
    "plt.show()"
   ]
  },
  {
   "cell_type": "code",
   "execution_count": 16,
   "id": "18dcaa6d",
   "metadata": {},
   "outputs": [
    {
     "data": {
      "image/png": "[encoded data removed]",
      "text/plain": [
       "<Figure size 432x288 with 1 Axes>"
      ]
     },
     "metadata": {
      "needs_background": "light"
     },
     "output_type": "display_data"
    }
   ],
   "source": [
    "#visually inspect the relationship between total_production and lactation:\n",
    "plt.scatter(df_new.production_ok, df_new.milk_days_1)\n",
    "plt.xlabel('production_ok')\n",
    "plt.ylabel('milk_days_1')\n",
    "plt.show()"
   ]
  },
  {
   "cell_type": "code",
   "execution_count": 17,
   "id": "fe821335",
   "metadata": {},
   "outputs": [
    {
     "data": {
      "image/png": "[encoded data removed]",
      "text/plain": [
       "<Figure size 432x288 with 1 Axes>"
      ]
     },
     "metadata": {
      "needs_background": "light"
     },
     "output_type": "display_data"
    }
   ],
   "source": [
    "#visually inspect the relationship between total_production and lactation:\n",
    "plt.scatter(df_new.production_ok, df_new.lactation_1)\n",
    "plt.xlabel('production_ok')\n",
    "plt.ylabel('lactation_1')\n",
    "plt.show()"
   ]
  },
  {
   "cell_type": "code",
   "execution_count": 18,
   "id": "a15efd76",
   "metadata": {},
   "outputs": [
    {
     "data": {
      "image/png": "[encoded data removed]",
      "text/plain": [
       "<Figure size 432x288 with 1 Axes>"
      ]
     },
     "metadata": {
      "needs_background": "light"
     },
     "output_type": "display_data"
    }
   ],
   "source": [
    "#visually inspect the relationship between total_production and lactation:\n",
    "plt.scatter(df_new.total_production_1, df_new.total_production_2)\n",
    "plt.xlabel('total_production_1')\n",
    "plt.ylabel('total_production_2')\n",
    "plt.show()"
   ]
  },
  {
   "cell_type": "code",
   "execution_count": 19,
   "id": "7b2d8944",
   "metadata": {},
   "outputs": [
    {
     "data": {
      "image/png": "[encoded data removed]",
      "text/plain": [
       "<Figure size 432x288 with 1 Axes>"
      ]
     },
     "metadata": {
      "needs_background": "light"
     },
     "output_type": "display_data"
    }
   ],
   "source": [
    "#visually inspect the relationship between total_production and lactation:\n",
    "plt.scatter(df_new.milk_days_1, df_new.milk_days_2)\n",
    "plt.xlabel('milk_days_1')\n",
    "plt.ylabel('milk_days_2')\n",
    "plt.show()"
   ]
  },
  {
   "cell_type": "code",
   "execution_count": 20,
   "id": "10d97bcd",
   "metadata": {},
   "outputs": [
    {
     "data": {
      "image/png": "[encoded data removed]",
      "text/plain": [
       "<Figure size 432x288 with 1 Axes>"
      ]
     },
     "metadata": {
      "needs_background": "light"
     },
     "output_type": "display_data"
    }
   ],
   "source": [
    "#visually inspect the relationship between total_production and lactation:\n",
    "plt.scatter(df_new.mastitis_lac_1, df_new.mastitis_lac_2)\n",
    "plt.xlabel('mastitis_lac_1')\n",
    "plt.ylabel('mastitis_lac_2')\n",
    "plt.show()"
   ]
  },
  {
   "cell_type": "code",
   "execution_count": 21,
   "id": "ac9cc4c2",
   "metadata": {},
   "outputs": [
    {
     "data": {
      "image/png": "[encoded data removed]",
      "text/plain": [
       "<Figure size 432x288 with 1 Axes>"
      ]
     },
     "metadata": {
      "needs_background": "light"
     },
     "output_type": "display_data"
    }
   ],
   "source": [
    "#visually inspect the relationship between total_production and lactation:\n",
    "plt.scatter(df_new.mastitis_lac_2, df_new.lactation_2)\n",
    "plt.xlabel('mastitis_lac_2')\n",
    "plt.ylabel('lactation_2')\n",
    "plt.show()"
   ]
  },
  {
   "cell_type": "code",
   "execution_count": 23,
   "id": "4d1ddaa6",
   "metadata": {},
   "outputs": [
    {
     "data": {
      "image/png": "[encoded data removed]",
      "text/plain": [
       "<Figure size 432x288 with 1 Axes>"
      ]
     },
     "metadata": {
      "needs_background": "light"
     },
     "output_type": "display_data"
    }
   ],
   "source": [
    "#visually inspect the relationship between total_production and lactation:\n",
    "plt.scatter(df_new.mastitis_lac_2, df_new.inseminacion_lac_2)\n",
    "plt.xlabel('mastitis_lac_2')\n",
    "plt.ylabel('inseminacion_lac_2')\n",
    "plt.show()"
   ]
  },
  {
   "cell_type": "code",
   "execution_count": 24,
   "id": "7752bdae",
   "metadata": {},
   "outputs": [
    {
     "data": {
      "image/png": "[encoded data removed]",
      "text/plain": [
       "<Figure size 432x288 with 1 Axes>"
      ]
     },
     "metadata": {
      "needs_background": "light"
     },
     "output_type": "display_data"
    }
   ],
   "source": [
    "#visually inspect the relationship between total_production and lactation:\n",
    "plt.scatter(df_new.production_ok, df_new.inseminacion_lac_2)\n",
    "plt.xlabel('production_ok')\n",
    "plt.ylabel('inseminacion_lac_2')\n",
    "plt.show()"
   ]
  },
  {
   "cell_type": "code",
   "execution_count": 25,
   "id": "e15b562c",
   "metadata": {},
   "outputs": [
    {
     "data": {
      "image/png": "[encoded data removed]",
      "text/plain": [
       "<Figure size 432x288 with 1 Axes>"
      ]
     },
     "metadata": {
      "needs_background": "light"
     },
     "output_type": "display_data"
    }
   ],
   "source": [
    "#visually inspect the relationship between total_production and lactation:\n",
    "plt.scatter(df_new.production_ok, df_new.lactation_2)\n",
    "plt.xlabel('production_ok')\n",
    "plt.ylabel('lactation_2')\n",
    "plt.show()"
   ]
  },
  {
   "cell_type": "code",
   "execution_count": 26,
   "id": "652fc3f8",
   "metadata": {},
   "outputs": [
    {
     "data": {
      "image/png": "[encoded data removed]",
      "text/plain": [
       "<Figure size 432x288 with 1 Axes>"
      ]
     },
     "metadata": {
      "needs_background": "light"
     },
     "output_type": "display_data"
    }
   ],
   "source": [
    "#visually inspect the relationship between total_production and lactation:\n",
    "plt.scatter(df_new.production_ok, df_new.mastitis_lac_2)\n",
    "plt.xlabel('production_ok')\n",
    "plt.ylabel('mastitis_lac_2')\n",
    "plt.show()"
   ]
  },
  {
   "cell_type": "code",
   "execution_count": null,
   "id": "8ed8c658",
   "metadata": {},
   "outputs": [],
   "source": []
  },
  {
   "cell_type": "code",
   "execution_count": null,
   "id": "16a7901e",
   "metadata": {},
   "outputs": [],
   "source": []
  }
 ],
 "metadata": {
  "kernelspec": {
   "display_name": "mlenv",
   "language": "python",
   "name": "mlenv"
  },
  "language_info": {
   "codemirror_mode": {
    "name": "ipython",
    "version": 3
   },
   "file_extension": ".py",
   "mimetype": "text/x-python",
   "name": "python",
   "nbconvert_exporter": "python",
   "pygments_lexer": "ipython3",
   "version": "3.7.11"
  }
 },
 "nbformat": 4,
 "nbformat_minor": 5
}
