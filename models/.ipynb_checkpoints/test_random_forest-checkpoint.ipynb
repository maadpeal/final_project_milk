{
 "cells": [
  {
   "cell_type": "code",
   "execution_count": 1,
   "id": "40b53272",
   "metadata": {},
   "outputs": [],
   "source": [
    "import pandas as pd\n",
    "import psycopg2"
   ]
  },
  {
   "cell_type": "code",
   "execution_count": 2,
   "id": "76997e35",
   "metadata": {},
   "outputs": [],
   "source": [
    "conexion = psycopg2.connect(\n",
    "    host=\"mikldb.c4q77ebplhtf.us-east-2.rds.amazonaws.com\", \n",
    "    database=\"postgres\", \n",
    "    user=\"postgres\", \n",
    "    password=\"*Mexico2022*\"\n",
    ")\n",
    "cur = conexion.cursor()"
   ]
  },
  {
   "cell_type": "code",
   "execution_count": 3,
   "id": "6fc0414b",
   "metadata": {},
   "outputs": [],
   "source": [
    "alive_cows = pd.read_csv('../Resources/alive_cows_to_predict.csv')\n",
    "ids_cows = alive_cows[['id']]\n",
    "list_of_single_column = ids_cows['id'].tolist()\n",
    "string_ids = ids_cows['id'].astype(str).tolist()\n",
    "string_ids = ','.join(string_ids)"
   ]
  },
  {
   "cell_type": "code",
   "execution_count": 4,
   "id": "09498b02",
   "metadata": {},
   "outputs": [],
   "source": [
    "cur.execute(f\"\"\"select * from milk_lactation_summary where id_cow in ({string_ids});\"\"\")\n",
    "alive_cows_raw = cur.fetchall()\n",
    "alive_cows_raw = pd.DataFrame(alive_cows_raw, columns=['id_cow', 'lactation', 'days_milk', 'daily_production', 'id_lac'])\n",
    "alive_cows_raw = alive_cows_raw[['id_cow', 'lactation', 'days_milk', 'daily_production']]\n",
    "df = alive_cows_raw\n",
    "for i in range(1,10):\n",
    "    df['total_production_' + str(i)] = 0\n",
    "for id in list_of_single_column:\n",
    "    filter_df = df.query(f'id_cow == {id}')\n",
    "    if filter_df.lactation.unique().any():\n",
    "        for lact in list(filter_df.lactation.unique()):\n",
    "            index_ = df.query(f'id_cow == {id}').index[0]\n",
    "            index_t = df.query(f'id_cow == {id}').index[lact - 1]\n",
    "            df.iloc[index_]['total_production_' + str(lact)] = df.iloc[index_t]['daily_production']"
   ]
  },
  {
   "cell_type": "code",
   "execution_count": 5,
   "id": "d0d6344d",
   "metadata": {},
   "outputs": [],
   "source": [
    "for i in range(1,10):\n",
    "    df['days_milk' + str(i)] = 0\n",
    "for id in list_of_single_column:\n",
    "    filter_df = df.query(f'id_cow == {id}')\n",
    "    if filter_df.lactation.unique().any():\n",
    "        for lact in list(filter_df.lactation.unique()):\n",
    "            index_ = df.query(f'id_cow == {id}').index[0]\n",
    "            index_t = df.query(f'id_cow == {id}').index[lact - 1]\n",
    "            df.iloc[index_]['days_milk' + str(lact)] = df.iloc[index_t]['days_milk']"
   ]
  },
  {
   "cell_type": "code",
   "execution_count": 6,
   "id": "b4e82312",
   "metadata": {},
   "outputs": [],
   "source": [
    "for i in range(1,10):\n",
    "    df['lactation_' + str(i)] = 0\n",
    "for id in list_of_single_column:\n",
    "    filter_df = df.query(f'id_cow == {id}')\n",
    "    if filter_df.lactation.unique().any():\n",
    "        for lact in list(filter_df.lactation.unique()):\n",
    "            index_ = df.query(f'id_cow == {id}').index[0]\n",
    "            df.iloc[index_]['lactation_' + str(lact)] = 1"
   ]
  },
  {
   "cell_type": "code",
   "execution_count": 7,
   "id": "48e05191",
   "metadata": {},
   "outputs": [],
   "source": [
    "group = df.groupby('id_cow').first()\n",
    "group_df = group.reset_index()"
   ]
  },
  {
   "cell_type": "code",
   "execution_count": 8,
   "id": "3cfc176a",
   "metadata": {},
   "outputs": [],
   "source": [
    "group_df = group_df.drop(['lactation', 'daily_production', 'days_milk'], axis=1)\n",
    "cur.execute(f\"\"\"select * from milk_abortion_details where id_cow in ({string_ids});\"\"\")\n",
    "abort_cows = cur.fetchall()\n",
    "abort_cows = pd.DataFrame(abort_cows, columns=['id_cow', 'date', 'ab_1', 'ab_2', 'ab_3', 'ab_4', 'ab_5', 'ab_6', 'ab_7', 'ab_8', 'ab_9'])\n",
    "abort_cows = abort_cows[['id_cow', 'ab_1', 'ab_2', 'ab_3', 'ab_4', 'ab_5', 'ab_6', 'ab_7', 'ab_8', 'ab_9']]\n",
    "\n",
    "cur.execute(f\"\"\"select * from milk_insemination_details where id_cow in ({string_ids});\"\"\")\n",
    "inse_cows = cur.fetchall()\n",
    "inse_cows = pd.DataFrame(inse_cows, columns=['id_cow', 'date', 'inse_1', 'inse_2', 'inse_3', 'inse_4', 'inse_5', 'inse_6', 'inse_7', 'inse_8', 'inse_9'])\n",
    "inse_cows = inse_cows[['id_cow','inse_1', 'inse_2', 'inse_3', 'inse_4', 'inse_5', 'inse_6', 'inse_7', 'inse_8', 'inse_9']]\n",
    "\n",
    "cur.execute(f\"\"\"select * from milk_mastitis_details where id_cow in ({string_ids});\"\"\")\n",
    "mast_cows = cur.fetchall()\n",
    "mast_cows = pd.DataFrame(mast_cows, columns=['id_cow','date','mast_1', 'mast_2', 'mast_3', 'mast_4', 'mast_5', 'mast_6', 'mast_7', 'mast_8', 'mast_9'])\n",
    "mast_cows = mast_cows[['id_cow','mast_1', 'mast_2', 'mast_3', 'mast_4', 'mast_5', 'mast_6', 'mast_7', 'mast_8', 'mast_9']]"
   ]
  },
  {
   "cell_type": "code",
   "execution_count": 9,
   "id": "60fb633e",
   "metadata": {},
   "outputs": [
    {
     "data": {
      "text/plain": [
       "Index(['id_cow', 'total_production_1', 'total_production_2',\n",
       "       'total_production_3', 'total_production_4', 'total_production_5',\n",
       "       'total_production_6', 'total_production_7', 'total_production_8',\n",
       "       'total_production_9', 'days_milk1', 'days_milk2', 'days_milk3',\n",
       "       'days_milk4', 'days_milk5', 'days_milk6', 'days_milk7', 'days_milk8',\n",
       "       'days_milk9', 'lactation_1', 'lactation_2', 'lactation_3',\n",
       "       'lactation_4', 'lactation_5', 'lactation_6', 'lactation_7',\n",
       "       'lactation_8', 'lactation_9', 'ab_1', 'ab_2', 'ab_3', 'ab_4', 'ab_5',\n",
       "       'ab_6', 'ab_7', 'ab_8', 'ab_9', 'inse_1', 'inse_2', 'inse_3', 'inse_4',\n",
       "       'inse_5', 'inse_6', 'inse_7', 'inse_8', 'inse_9', 'mast_1', 'mast_2',\n",
       "       'mast_3', 'mast_4', 'mast_5', 'mast_6', 'mast_7', 'mast_8', 'mast_9'],\n",
       "      dtype='object')"
      ]
     },
     "execution_count": 9,
     "metadata": {},
     "output_type": "execute_result"
    }
   ],
   "source": [
    "total_dt = pd.merge(group_df, abort_cows, how='left', on='id_cow').fillna(False, downcast='infer')\n",
    "total_dt = pd.merge(total_dt, inse_cows, how='left', on='id_cow').fillna(False, downcast='infer')\n",
    "total_dt = pd.merge(total_dt, mast_cows, how='left', on='id_cow').fillna(False, downcast='infer')\n",
    "total_dt.columns"
   ]
  },
  {
   "cell_type": "code",
   "execution_count": 10,
   "id": "15f91ab8",
   "metadata": {},
   "outputs": [
    {
     "data": {
      "text/html": [
       "<div>\n",
       "<style scoped>\n",
       "    .dataframe tbody tr th:only-of-type {\n",
       "        vertical-align: middle;\n",
       "    }\n",
       "\n",
       "    .dataframe tbody tr th {\n",
       "        vertical-align: top;\n",
       "    }\n",
       "\n",
       "    .dataframe thead th {\n",
       "        text-align: right;\n",
       "    }\n",
       "</style>\n",
       "<table border=\"1\" class=\"dataframe\">\n",
       "  <thead>\n",
       "    <tr style=\"text-align: right;\">\n",
       "      <th></th>\n",
       "      <th>id_cow</th>\n",
       "      <th>total_production_1</th>\n",
       "      <th>total_production_2</th>\n",
       "      <th>total_production_3</th>\n",
       "      <th>total_production_4</th>\n",
       "      <th>total_production_5</th>\n",
       "      <th>total_production_6</th>\n",
       "      <th>total_production_7</th>\n",
       "      <th>total_production_8</th>\n",
       "      <th>total_production_9</th>\n",
       "      <th>...</th>\n",
       "      <th>inse_9</th>\n",
       "      <th>mast_1</th>\n",
       "      <th>mast_2</th>\n",
       "      <th>mast_3</th>\n",
       "      <th>mast_4</th>\n",
       "      <th>mast_5</th>\n",
       "      <th>mast_6</th>\n",
       "      <th>mast_7</th>\n",
       "      <th>mast_8</th>\n",
       "      <th>mast_9</th>\n",
       "    </tr>\n",
       "  </thead>\n",
       "  <tbody>\n",
       "    <tr>\n",
       "      <th>0</th>\n",
       "      <td>5</td>\n",
       "      <td>7817</td>\n",
       "      <td>9123</td>\n",
       "      <td>9129</td>\n",
       "      <td>8432</td>\n",
       "      <td>0</td>\n",
       "      <td>0</td>\n",
       "      <td>0</td>\n",
       "      <td>0</td>\n",
       "      <td>0</td>\n",
       "      <td>...</td>\n",
       "      <td>-1</td>\n",
       "      <td>0</td>\n",
       "      <td>0</td>\n",
       "      <td>0</td>\n",
       "      <td>0</td>\n",
       "      <td>-1</td>\n",
       "      <td>-1</td>\n",
       "      <td>-1</td>\n",
       "      <td>-1</td>\n",
       "      <td>-1</td>\n",
       "    </tr>\n",
       "    <tr>\n",
       "      <th>1</th>\n",
       "      <td>9</td>\n",
       "      <td>7793</td>\n",
       "      <td>10019</td>\n",
       "      <td>7907</td>\n",
       "      <td>8079</td>\n",
       "      <td>0</td>\n",
       "      <td>0</td>\n",
       "      <td>0</td>\n",
       "      <td>0</td>\n",
       "      <td>0</td>\n",
       "      <td>...</td>\n",
       "      <td>-1</td>\n",
       "      <td>0</td>\n",
       "      <td>0</td>\n",
       "      <td>0</td>\n",
       "      <td>0</td>\n",
       "      <td>-1</td>\n",
       "      <td>-1</td>\n",
       "      <td>-1</td>\n",
       "      <td>-1</td>\n",
       "      <td>-1</td>\n",
       "    </tr>\n",
       "    <tr>\n",
       "      <th>2</th>\n",
       "      <td>16</td>\n",
       "      <td>10363</td>\n",
       "      <td>10293</td>\n",
       "      <td>2655</td>\n",
       "      <td>10402</td>\n",
       "      <td>0</td>\n",
       "      <td>0</td>\n",
       "      <td>0</td>\n",
       "      <td>0</td>\n",
       "      <td>0</td>\n",
       "      <td>...</td>\n",
       "      <td>-1</td>\n",
       "      <td>0</td>\n",
       "      <td>0</td>\n",
       "      <td>0</td>\n",
       "      <td>0</td>\n",
       "      <td>-1</td>\n",
       "      <td>-1</td>\n",
       "      <td>-1</td>\n",
       "      <td>-1</td>\n",
       "      <td>-1</td>\n",
       "    </tr>\n",
       "    <tr>\n",
       "      <th>3</th>\n",
       "      <td>27</td>\n",
       "      <td>9367</td>\n",
       "      <td>11250</td>\n",
       "      <td>2090</td>\n",
       "      <td>0</td>\n",
       "      <td>0</td>\n",
       "      <td>0</td>\n",
       "      <td>0</td>\n",
       "      <td>0</td>\n",
       "      <td>0</td>\n",
       "      <td>...</td>\n",
       "      <td>-1</td>\n",
       "      <td>0</td>\n",
       "      <td>0</td>\n",
       "      <td>0</td>\n",
       "      <td>-1</td>\n",
       "      <td>-1</td>\n",
       "      <td>-1</td>\n",
       "      <td>-1</td>\n",
       "      <td>-1</td>\n",
       "      <td>-1</td>\n",
       "    </tr>\n",
       "    <tr>\n",
       "      <th>4</th>\n",
       "      <td>121</td>\n",
       "      <td>11491</td>\n",
       "      <td>12331</td>\n",
       "      <td>12403</td>\n",
       "      <td>12893</td>\n",
       "      <td>11326</td>\n",
       "      <td>7259</td>\n",
       "      <td>13318</td>\n",
       "      <td>0</td>\n",
       "      <td>0</td>\n",
       "      <td>...</td>\n",
       "      <td>-1</td>\n",
       "      <td>0</td>\n",
       "      <td>0</td>\n",
       "      <td>0</td>\n",
       "      <td>0</td>\n",
       "      <td>1</td>\n",
       "      <td>0</td>\n",
       "      <td>0</td>\n",
       "      <td>-1</td>\n",
       "      <td>-1</td>\n",
       "    </tr>\n",
       "    <tr>\n",
       "      <th>...</th>\n",
       "      <td>...</td>\n",
       "      <td>...</td>\n",
       "      <td>...</td>\n",
       "      <td>...</td>\n",
       "      <td>...</td>\n",
       "      <td>...</td>\n",
       "      <td>...</td>\n",
       "      <td>...</td>\n",
       "      <td>...</td>\n",
       "      <td>...</td>\n",
       "      <td>...</td>\n",
       "      <td>...</td>\n",
       "      <td>...</td>\n",
       "      <td>...</td>\n",
       "      <td>...</td>\n",
       "      <td>...</td>\n",
       "      <td>...</td>\n",
       "      <td>...</td>\n",
       "      <td>...</td>\n",
       "      <td>...</td>\n",
       "      <td>...</td>\n",
       "    </tr>\n",
       "    <tr>\n",
       "      <th>4388</th>\n",
       "      <td>20423</td>\n",
       "      <td>10430</td>\n",
       "      <td>0</td>\n",
       "      <td>0</td>\n",
       "      <td>0</td>\n",
       "      <td>0</td>\n",
       "      <td>0</td>\n",
       "      <td>0</td>\n",
       "      <td>0</td>\n",
       "      <td>0</td>\n",
       "      <td>...</td>\n",
       "      <td>-1</td>\n",
       "      <td>1</td>\n",
       "      <td>-1</td>\n",
       "      <td>-1</td>\n",
       "      <td>-1</td>\n",
       "      <td>-1</td>\n",
       "      <td>-1</td>\n",
       "      <td>-1</td>\n",
       "      <td>-1</td>\n",
       "      <td>-1</td>\n",
       "    </tr>\n",
       "    <tr>\n",
       "      <th>4389</th>\n",
       "      <td>20426</td>\n",
       "      <td>7725</td>\n",
       "      <td>0</td>\n",
       "      <td>0</td>\n",
       "      <td>0</td>\n",
       "      <td>0</td>\n",
       "      <td>0</td>\n",
       "      <td>0</td>\n",
       "      <td>0</td>\n",
       "      <td>0</td>\n",
       "      <td>...</td>\n",
       "      <td>-1</td>\n",
       "      <td>0</td>\n",
       "      <td>-1</td>\n",
       "      <td>-1</td>\n",
       "      <td>-1</td>\n",
       "      <td>-1</td>\n",
       "      <td>-1</td>\n",
       "      <td>-1</td>\n",
       "      <td>-1</td>\n",
       "      <td>-1</td>\n",
       "    </tr>\n",
       "    <tr>\n",
       "      <th>4390</th>\n",
       "      <td>20428</td>\n",
       "      <td>3732</td>\n",
       "      <td>0</td>\n",
       "      <td>0</td>\n",
       "      <td>0</td>\n",
       "      <td>0</td>\n",
       "      <td>0</td>\n",
       "      <td>0</td>\n",
       "      <td>0</td>\n",
       "      <td>0</td>\n",
       "      <td>...</td>\n",
       "      <td>-1</td>\n",
       "      <td>0</td>\n",
       "      <td>-1</td>\n",
       "      <td>-1</td>\n",
       "      <td>-1</td>\n",
       "      <td>-1</td>\n",
       "      <td>-1</td>\n",
       "      <td>-1</td>\n",
       "      <td>-1</td>\n",
       "      <td>-1</td>\n",
       "    </tr>\n",
       "    <tr>\n",
       "      <th>4391</th>\n",
       "      <td>20429</td>\n",
       "      <td>1375</td>\n",
       "      <td>0</td>\n",
       "      <td>0</td>\n",
       "      <td>0</td>\n",
       "      <td>0</td>\n",
       "      <td>0</td>\n",
       "      <td>0</td>\n",
       "      <td>0</td>\n",
       "      <td>0</td>\n",
       "      <td>...</td>\n",
       "      <td>-1</td>\n",
       "      <td>0</td>\n",
       "      <td>-1</td>\n",
       "      <td>-1</td>\n",
       "      <td>-1</td>\n",
       "      <td>-1</td>\n",
       "      <td>-1</td>\n",
       "      <td>-1</td>\n",
       "      <td>-1</td>\n",
       "      <td>-1</td>\n",
       "    </tr>\n",
       "    <tr>\n",
       "      <th>4392</th>\n",
       "      <td>20430</td>\n",
       "      <td>686</td>\n",
       "      <td>0</td>\n",
       "      <td>0</td>\n",
       "      <td>0</td>\n",
       "      <td>0</td>\n",
       "      <td>0</td>\n",
       "      <td>0</td>\n",
       "      <td>0</td>\n",
       "      <td>0</td>\n",
       "      <td>...</td>\n",
       "      <td>-1</td>\n",
       "      <td>0</td>\n",
       "      <td>-1</td>\n",
       "      <td>-1</td>\n",
       "      <td>-1</td>\n",
       "      <td>-1</td>\n",
       "      <td>-1</td>\n",
       "      <td>-1</td>\n",
       "      <td>-1</td>\n",
       "      <td>-1</td>\n",
       "    </tr>\n",
       "  </tbody>\n",
       "</table>\n",
       "<p>4393 rows × 55 columns</p>\n",
       "</div>"
      ],
      "text/plain": [
       "      id_cow  total_production_1  total_production_2  total_production_3  \\\n",
       "0          5                7817                9123                9129   \n",
       "1          9                7793               10019                7907   \n",
       "2         16               10363               10293                2655   \n",
       "3         27                9367               11250                2090   \n",
       "4        121               11491               12331               12403   \n",
       "...      ...                 ...                 ...                 ...   \n",
       "4388   20423               10430                   0                   0   \n",
       "4389   20426                7725                   0                   0   \n",
       "4390   20428                3732                   0                   0   \n",
       "4391   20429                1375                   0                   0   \n",
       "4392   20430                 686                   0                   0   \n",
       "\n",
       "      total_production_4  total_production_5  total_production_6  \\\n",
       "0                   8432                   0                   0   \n",
       "1                   8079                   0                   0   \n",
       "2                  10402                   0                   0   \n",
       "3                      0                   0                   0   \n",
       "4                  12893               11326                7259   \n",
       "...                  ...                 ...                 ...   \n",
       "4388                   0                   0                   0   \n",
       "4389                   0                   0                   0   \n",
       "4390                   0                   0                   0   \n",
       "4391                   0                   0                   0   \n",
       "4392                   0                   0                   0   \n",
       "\n",
       "      total_production_7  total_production_8  total_production_9  ...  inse_9  \\\n",
       "0                      0                   0                   0  ...      -1   \n",
       "1                      0                   0                   0  ...      -1   \n",
       "2                      0                   0                   0  ...      -1   \n",
       "3                      0                   0                   0  ...      -1   \n",
       "4                  13318                   0                   0  ...      -1   \n",
       "...                  ...                 ...                 ...  ...     ...   \n",
       "4388                   0                   0                   0  ...      -1   \n",
       "4389                   0                   0                   0  ...      -1   \n",
       "4390                   0                   0                   0  ...      -1   \n",
       "4391                   0                   0                   0  ...      -1   \n",
       "4392                   0                   0                   0  ...      -1   \n",
       "\n",
       "      mast_1  mast_2  mast_3  mast_4  mast_5  mast_6  mast_7  mast_8  mast_9  \n",
       "0          0       0       0       0      -1      -1      -1      -1      -1  \n",
       "1          0       0       0       0      -1      -1      -1      -1      -1  \n",
       "2          0       0       0       0      -1      -1      -1      -1      -1  \n",
       "3          0       0       0      -1      -1      -1      -1      -1      -1  \n",
       "4          0       0       0       0       1       0       0      -1      -1  \n",
       "...      ...     ...     ...     ...     ...     ...     ...     ...     ...  \n",
       "4388       1      -1      -1      -1      -1      -1      -1      -1      -1  \n",
       "4389       0      -1      -1      -1      -1      -1      -1      -1      -1  \n",
       "4390       0      -1      -1      -1      -1      -1      -1      -1      -1  \n",
       "4391       0      -1      -1      -1      -1      -1      -1      -1      -1  \n",
       "4392       0      -1      -1      -1      -1      -1      -1      -1      -1  \n",
       "\n",
       "[4393 rows x 55 columns]"
      ]
     },
     "execution_count": 10,
     "metadata": {},
     "output_type": "execute_result"
    }
   ],
   "source": [
    "total_dt.fillna(0)\n",
    "total_dt"
   ]
  },
  {
   "cell_type": "code",
   "execution_count": 11,
   "id": "0c9d0fc3",
   "metadata": {},
   "outputs": [],
   "source": [
    "total_dt['production_ok'] = 0\n",
    "total_dt.loc[total_dt['total_production_3'] > 10000, 'production_ok'] = 1\n",
    "# obtener solo las vacas que tienen dos lactancias\n",
    "total_dt = total_dt.query('lactation_2 != 0')"
   ]
  },
  {
   "cell_type": "code",
   "execution_count": 14,
   "id": "31ec3f22",
   "metadata": {},
   "outputs": [],
   "source": [
    "from sklearn import tree\n",
    "from sklearn.preprocessing import StandardScaler\n",
    "from sklearn.model_selection import train_test_split\n",
    "from sklearn.metrics import confusion_matrix, accuracy_score, classification_report\n",
    "from sklearn.linear_model import LinearRegression\n",
    "from sklearn.ensemble import RandomForestClassifier"
   ]
  },
  {
   "cell_type": "code",
   "execution_count": 15,
   "id": "306aa539",
   "metadata": {},
   "outputs": [],
   "source": [
    "df_new = total_dt[[\n",
    "     'lactation_1', 'lactation_2',  'total_production_1', 'total_production_2', 'days_milk1', \n",
    "    'days_milk2', 'mast_1',\n",
    "       'mast_2',\n",
    "       'inse_1', 'inse_2',\n",
    "       'ab_1', 'ab_2',\n",
    "    'production_ok'\n",
    "]]"
   ]
  },
  {
   "cell_type": "code",
   "execution_count": 16,
   "id": "8ecf8344",
   "metadata": {},
   "outputs": [
    {
     "data": {
      "text/html": [
       "<div>\n",
       "<style scoped>\n",
       "    .dataframe tbody tr th:only-of-type {\n",
       "        vertical-align: middle;\n",
       "    }\n",
       "\n",
       "    .dataframe tbody tr th {\n",
       "        vertical-align: top;\n",
       "    }\n",
       "\n",
       "    .dataframe thead th {\n",
       "        text-align: right;\n",
       "    }\n",
       "</style>\n",
       "<table border=\"1\" class=\"dataframe\">\n",
       "  <thead>\n",
       "    <tr style=\"text-align: right;\">\n",
       "      <th></th>\n",
       "      <th>lactation_1</th>\n",
       "      <th>lactation_2</th>\n",
       "      <th>total_production_1</th>\n",
       "      <th>total_production_2</th>\n",
       "      <th>days_milk1</th>\n",
       "      <th>days_milk2</th>\n",
       "      <th>mast_1</th>\n",
       "      <th>mast_2</th>\n",
       "      <th>inse_1</th>\n",
       "      <th>inse_2</th>\n",
       "      <th>ab_1</th>\n",
       "      <th>ab_2</th>\n",
       "    </tr>\n",
       "  </thead>\n",
       "  <tbody>\n",
       "    <tr>\n",
       "      <th>0</th>\n",
       "      <td>1</td>\n",
       "      <td>1</td>\n",
       "      <td>7817</td>\n",
       "      <td>9123</td>\n",
       "      <td>288</td>\n",
       "      <td>319</td>\n",
       "      <td>0</td>\n",
       "      <td>0</td>\n",
       "      <td>1</td>\n",
       "      <td>3</td>\n",
       "      <td>0</td>\n",
       "      <td>0</td>\n",
       "    </tr>\n",
       "    <tr>\n",
       "      <th>1</th>\n",
       "      <td>1</td>\n",
       "      <td>1</td>\n",
       "      <td>7793</td>\n",
       "      <td>10019</td>\n",
       "      <td>290</td>\n",
       "      <td>322</td>\n",
       "      <td>0</td>\n",
       "      <td>0</td>\n",
       "      <td>1</td>\n",
       "      <td>3</td>\n",
       "      <td>0</td>\n",
       "      <td>0</td>\n",
       "    </tr>\n",
       "    <tr>\n",
       "      <th>2</th>\n",
       "      <td>1</td>\n",
       "      <td>1</td>\n",
       "      <td>10363</td>\n",
       "      <td>10293</td>\n",
       "      <td>310</td>\n",
       "      <td>392</td>\n",
       "      <td>0</td>\n",
       "      <td>0</td>\n",
       "      <td>2</td>\n",
       "      <td>2</td>\n",
       "      <td>0</td>\n",
       "      <td>0</td>\n",
       "    </tr>\n",
       "    <tr>\n",
       "      <th>3</th>\n",
       "      <td>1</td>\n",
       "      <td>1</td>\n",
       "      <td>9367</td>\n",
       "      <td>11250</td>\n",
       "      <td>334</td>\n",
       "      <td>403</td>\n",
       "      <td>0</td>\n",
       "      <td>0</td>\n",
       "      <td>2</td>\n",
       "      <td>5</td>\n",
       "      <td>0</td>\n",
       "      <td>0</td>\n",
       "    </tr>\n",
       "    <tr>\n",
       "      <th>4</th>\n",
       "      <td>1</td>\n",
       "      <td>1</td>\n",
       "      <td>11491</td>\n",
       "      <td>12331</td>\n",
       "      <td>343</td>\n",
       "      <td>301</td>\n",
       "      <td>0</td>\n",
       "      <td>0</td>\n",
       "      <td>4</td>\n",
       "      <td>2</td>\n",
       "      <td>0</td>\n",
       "      <td>0</td>\n",
       "    </tr>\n",
       "  </tbody>\n",
       "</table>\n",
       "</div>"
      ],
      "text/plain": [
       "   lactation_1  lactation_2  total_production_1  total_production_2  \\\n",
       "0            1            1                7817                9123   \n",
       "1            1            1                7793               10019   \n",
       "2            1            1               10363               10293   \n",
       "3            1            1                9367               11250   \n",
       "4            1            1               11491               12331   \n",
       "\n",
       "   days_milk1  days_milk2  mast_1  mast_2  inse_1  inse_2  ab_1  ab_2  \n",
       "0         288         319       0       0       1       3     0     0  \n",
       "1         290         322       0       0       1       3     0     0  \n",
       "2         310         392       0       0       2       2     0     0  \n",
       "3         334         403       0       0       2       5     0     0  \n",
       "4         343         301       0       0       4       2     0     0  "
      ]
     },
     "execution_count": 16,
     "metadata": {},
     "output_type": "execute_result"
    }
   ],
   "source": [
    "# Define the features set.\n",
    "X = df_new.copy()\n",
    "X = X.drop(\"production_ok\", axis=1)\n",
    "X.head()"
   ]
  },
  {
   "cell_type": "code",
   "execution_count": 18,
   "id": "468223a8",
   "metadata": {},
   "outputs": [
    {
     "data": {
      "text/plain": [
       "array([0, 0, 0, 0, 1], dtype=int64)"
      ]
     },
     "execution_count": 18,
     "metadata": {},
     "output_type": "execute_result"
    }
   ],
   "source": [
    "# Define the target set.\n",
    "y = df_new[\"production_ok\"].ravel()\n",
    "y[:5]"
   ]
  },
  {
   "cell_type": "code",
   "execution_count": 19,
   "id": "afa6a2a8",
   "metadata": {},
   "outputs": [],
   "source": [
    "# Splitting into Train and Test sets.\n",
    "X_train, X_test, y_train, y_test = train_test_split(X, y, random_state=78)"
   ]
  },
  {
   "cell_type": "code",
   "execution_count": 20,
   "id": "375167c0",
   "metadata": {},
   "outputs": [],
   "source": [
    "# Creating a StandardScaler instance.\n",
    "scaler = StandardScaler()\n",
    "# Fitting the Standard Scaler with the training data.\n",
    "X_scaler = scaler.fit(X_train)"
   ]
  },
  {
   "cell_type": "code",
   "execution_count": 21,
   "id": "48c4443b",
   "metadata": {},
   "outputs": [],
   "source": [
    "# Scaling the data.\n",
    "X_train_scaled = X_scaler.transform(X_train)\n",
    "X_test_scaled = X_scaler.transform(X_test)"
   ]
  },
  {
   "cell_type": "code",
   "execution_count": 22,
   "id": "15f7ed58",
   "metadata": {},
   "outputs": [],
   "source": [
    "# Create a random forest classifier.\n",
    "rf_model = RandomForestClassifier(n_estimators=128, random_state=78) "
   ]
  },
  {
   "cell_type": "code",
   "execution_count": 23,
   "id": "b03eda77",
   "metadata": {},
   "outputs": [],
   "source": [
    "# Fitting the model\n",
    "rf_model = rf_model.fit(X_train_scaled, y_train)"
   ]
  },
  {
   "cell_type": "code",
   "execution_count": 25,
   "id": "bc589ff5",
   "metadata": {},
   "outputs": [],
   "source": [
    "# Making predictions using the testing data.\n",
    "predictions = rf_model.predict(X_test_scaled)"
   ]
  },
  {
   "cell_type": "code",
   "execution_count": 26,
   "id": "2412585e",
   "metadata": {},
   "outputs": [
    {
     "data": {
      "text/plain": [
       "array([0, 0, 0, 0, 0, 0, 1, 0, 0, 0, 0, 1, 0, 0, 0, 0, 1, 0, 0, 1, 0, 0,\n",
       "       0, 0, 0, 0, 0, 0, 0, 0, 0, 0, 0, 1, 0, 0, 0, 0, 0, 1, 0, 1, 1, 0,\n",
       "       0, 0, 0, 0, 0, 0, 0, 1, 1, 0, 1, 0, 0, 0, 0, 0, 0, 0, 1, 0, 0, 0,\n",
       "       0, 0, 0, 0, 0, 0, 1, 0, 0, 0, 0, 0, 0, 0, 0, 0, 0, 1, 0, 0, 0, 1,\n",
       "       0, 0, 0, 0, 0, 0, 0, 0, 1, 0, 0, 0, 1, 0, 1, 0, 0, 0, 1, 0, 0, 0,\n",
       "       0, 0, 0, 0, 0, 1, 0, 0, 0, 1, 0, 0, 0, 0, 0, 0, 0, 0, 0, 1, 0, 1,\n",
       "       0, 0, 0, 0, 0, 0, 0, 1, 0, 0, 0, 0, 0, 0, 0, 0, 0, 1, 0, 0, 0, 0,\n",
       "       0, 0, 0, 0, 0, 0, 1, 0, 0, 1, 0, 0, 0, 0, 1, 0, 0, 0, 0, 1, 0, 0,\n",
       "       1, 1, 1, 0, 0, 0, 0, 0, 0, 0, 1, 1, 1, 0, 0, 0, 0, 0, 1, 0, 0, 0,\n",
       "       0, 1, 0, 0, 0, 0, 0, 1, 0, 0, 0, 0, 0, 1, 0, 0, 0, 1, 0, 0, 0, 0,\n",
       "       0, 0, 0, 1, 0, 0, 0, 1, 0, 0, 0, 0, 1, 0, 0, 0, 0, 1, 0, 1, 0, 0,\n",
       "       0, 0, 0, 0, 0, 0, 0, 0, 0, 0, 0, 0, 0, 0, 1, 0, 0, 0, 0, 0, 0, 0,\n",
       "       0, 0, 0, 0, 0, 0, 1, 0, 0, 1, 0, 0, 0, 0, 0, 0, 0, 0, 1, 0, 0, 0,\n",
       "       0, 0, 0, 0, 0, 0, 0, 0, 0, 0, 0, 0, 0, 1, 0, 0, 0, 0, 0, 0, 1, 0,\n",
       "       0, 0, 0, 0, 0, 0, 0, 0, 0, 0, 0, 0, 0, 0, 0, 0, 0, 0, 0, 0, 0, 0,\n",
       "       0, 0, 0, 1, 0, 0, 0, 0, 0, 0, 0, 0, 0, 1, 0, 1, 0, 0, 0, 1, 1, 0,\n",
       "       0, 0, 0, 0, 0, 0, 0, 1, 0, 0, 0, 0, 0, 0, 1, 0, 0, 0, 0, 0, 0, 0,\n",
       "       0, 0, 0, 0, 0, 0, 0, 0, 1, 0, 0, 0, 1, 0, 0, 0, 0, 0, 0, 1, 0, 0,\n",
       "       0, 1, 0, 0, 0, 0, 0, 0, 1, 0, 0, 0, 0, 0, 0, 0, 0, 1, 0, 0, 1, 0,\n",
       "       0, 0, 0, 0, 0, 0, 0, 0, 1, 0, 0, 0, 0, 1, 0, 0, 1, 0, 1, 0, 0, 0,\n",
       "       0, 0, 0, 0, 0, 0, 0, 0, 0, 0, 0, 0, 0, 0, 1, 1, 0, 0, 0, 0, 0, 1,\n",
       "       0, 0, 0, 0, 0, 1, 0, 0, 0, 1, 0, 0, 0, 0, 0, 0, 0, 0, 0, 1, 1, 0,\n",
       "       0, 0, 0, 0, 1, 1, 0, 0, 0, 0, 0, 1, 0, 0, 0, 0, 0, 0, 0, 0, 0, 0,\n",
       "       0, 0, 0, 0, 0, 0, 0, 0, 0, 0, 1, 0, 0, 0, 1, 0, 1, 0, 0, 0, 0, 0,\n",
       "       0, 0, 0, 0, 0, 1, 0, 0, 0, 0, 0, 0, 1, 0, 0, 0, 0, 0, 0, 0, 0, 0,\n",
       "       0, 0, 0, 0, 0, 0, 1, 0, 0, 0, 0, 0, 0, 1, 1, 0, 0, 0, 0, 1, 0, 0,\n",
       "       0, 0, 0, 0, 0, 0, 0, 0, 0, 1, 0, 0, 0, 0, 0, 0, 0, 0, 0, 0, 0, 0,\n",
       "       0, 0, 0, 0, 0, 0, 0, 0, 0, 1, 0, 0, 0, 0, 0, 0, 0, 0, 0, 0, 0, 0,\n",
       "       0, 0, 0, 1, 0, 0, 0, 1, 0, 0, 0, 0, 0, 0, 0, 1, 0, 0, 0, 0, 0, 0,\n",
       "       1, 0, 0, 0, 0, 1, 0, 0, 0, 0, 0, 0, 0, 0, 0, 0, 1, 0, 0, 0, 1, 0,\n",
       "       0, 0, 0, 0, 1, 1, 0, 1, 0, 0, 0, 1], dtype=int64)"
      ]
     },
     "execution_count": 26,
     "metadata": {},
     "output_type": "execute_result"
    }
   ],
   "source": [
    "predictions"
   ]
  },
  {
   "cell_type": "code",
   "execution_count": 27,
   "id": "fd1ea2a5",
   "metadata": {},
   "outputs": [],
   "source": [
    "# Calculating the confusion matrix.\n",
    "cm = confusion_matrix(y_test, predictions)"
   ]
  },
  {
   "cell_type": "code",
   "execution_count": 28,
   "id": "6d12bd2d",
   "metadata": {},
   "outputs": [
    {
     "data": {
      "text/html": [
       "<div>\n",
       "<style scoped>\n",
       "    .dataframe tbody tr th:only-of-type {\n",
       "        vertical-align: middle;\n",
       "    }\n",
       "\n",
       "    .dataframe tbody tr th {\n",
       "        vertical-align: top;\n",
       "    }\n",
       "\n",
       "    .dataframe thead th {\n",
       "        text-align: right;\n",
       "    }\n",
       "</style>\n",
       "<table border=\"1\" class=\"dataframe\">\n",
       "  <thead>\n",
       "    <tr style=\"text-align: right;\">\n",
       "      <th></th>\n",
       "      <th>Predicted 0</th>\n",
       "      <th>Predicted 1</th>\n",
       "    </tr>\n",
       "  </thead>\n",
       "  <tbody>\n",
       "    <tr>\n",
       "      <th>Actual 0</th>\n",
       "      <td>457</td>\n",
       "      <td>37</td>\n",
       "    </tr>\n",
       "    <tr>\n",
       "      <th>Actual 1</th>\n",
       "      <td>114</td>\n",
       "      <td>64</td>\n",
       "    </tr>\n",
       "  </tbody>\n",
       "</table>\n",
       "</div>"
      ],
      "text/plain": [
       "          Predicted 0  Predicted 1\n",
       "Actual 0          457           37\n",
       "Actual 1          114           64"
      ]
     },
     "execution_count": 28,
     "metadata": {},
     "output_type": "execute_result"
    }
   ],
   "source": [
    "# Create a DataFrame from the confusion matrix.\n",
    "cm_df = pd.DataFrame(\n",
    "    cm, index=[\"Actual 0\", \"Actual 1\"], columns=[\"Predicted 0\", \"Predicted 1\"])\n",
    "\n",
    "cm_df"
   ]
  },
  {
   "cell_type": "code",
   "execution_count": 29,
   "id": "a95b30aa",
   "metadata": {},
   "outputs": [],
   "source": [
    "# Calculating the accuracy score.\n",
    "acc_score = accuracy_score(y_test, predictions)"
   ]
  },
  {
   "cell_type": "code",
   "execution_count": 30,
   "id": "cf7d24b5",
   "metadata": {},
   "outputs": [
    {
     "name": "stdout",
     "output_type": "stream",
     "text": [
      "Confusion Matrix\n"
     ]
    },
    {
     "data": {
      "text/html": [
       "<div>\n",
       "<style scoped>\n",
       "    .dataframe tbody tr th:only-of-type {\n",
       "        vertical-align: middle;\n",
       "    }\n",
       "\n",
       "    .dataframe tbody tr th {\n",
       "        vertical-align: top;\n",
       "    }\n",
       "\n",
       "    .dataframe thead th {\n",
       "        text-align: right;\n",
       "    }\n",
       "</style>\n",
       "<table border=\"1\" class=\"dataframe\">\n",
       "  <thead>\n",
       "    <tr style=\"text-align: right;\">\n",
       "      <th></th>\n",
       "      <th>Predicted 0</th>\n",
       "      <th>Predicted 1</th>\n",
       "    </tr>\n",
       "  </thead>\n",
       "  <tbody>\n",
       "    <tr>\n",
       "      <th>Actual 0</th>\n",
       "      <td>457</td>\n",
       "      <td>37</td>\n",
       "    </tr>\n",
       "    <tr>\n",
       "      <th>Actual 1</th>\n",
       "      <td>114</td>\n",
       "      <td>64</td>\n",
       "    </tr>\n",
       "  </tbody>\n",
       "</table>\n",
       "</div>"
      ],
      "text/plain": [
       "          Predicted 0  Predicted 1\n",
       "Actual 0          457           37\n",
       "Actual 1          114           64"
      ]
     },
     "metadata": {},
     "output_type": "display_data"
    },
    {
     "name": "stdout",
     "output_type": "stream",
     "text": [
      "Accuracy Score : 0.7752976190476191\n",
      "Classification Report\n",
      "              precision    recall  f1-score   support\n",
      "\n",
      "           0       0.80      0.93      0.86       494\n",
      "           1       0.63      0.36      0.46       178\n",
      "\n",
      "    accuracy                           0.78       672\n",
      "   macro avg       0.72      0.64      0.66       672\n",
      "weighted avg       0.76      0.78      0.75       672\n",
      "\n"
     ]
    }
   ],
   "source": [
    "# Displaying results\n",
    "print(\"Confusion Matrix\")\n",
    "display(cm_df)\n",
    "print(f\"Accuracy Score : {acc_score}\")\n",
    "print(\"Classification Report\")\n",
    "print(classification_report(y_test, predictions))"
   ]
  },
  {
   "cell_type": "code",
   "execution_count": 31,
   "id": "e59d6b96",
   "metadata": {},
   "outputs": [
    {
     "data": {
      "text/plain": [
       "array([0.        , 0.        , 0.18591541, 0.22558564, 0.16827408,\n",
       "       0.17705354, 0.02000262, 0.03215179, 0.06901342, 0.08764146,\n",
       "       0.01922636, 0.01513568])"
      ]
     },
     "execution_count": 31,
     "metadata": {},
     "output_type": "execute_result"
    }
   ],
   "source": [
    "# Calculate feature importance in the Random Forest model.\n",
    "importances = rf_model.feature_importances_\n",
    "importances"
   ]
  },
  {
   "cell_type": "code",
   "execution_count": 32,
   "id": "b1bf0dd6",
   "metadata": {},
   "outputs": [
    {
     "data": {
      "text/plain": [
       "[(0.22558564413146973, 'total_production_2'),\n",
       " (0.1859154067086506, 'total_production_1'),\n",
       " (0.1770535381199262, 'days_milk2'),\n",
       " (0.16827407683852647, 'days_milk1'),\n",
       " (0.08764145723089427, 'inse_2'),\n",
       " (0.06901342487995042, 'inse_1'),\n",
       " (0.032151789106898455, 'mast_2'),\n",
       " (0.020002622732834183, 'mast_1'),\n",
       " (0.019226357370536025, 'ab_1'),\n",
       " (0.01513568288031379, 'ab_2'),\n",
       " (0.0, 'lactation_2'),\n",
       " (0.0, 'lactation_1')]"
      ]
     },
     "execution_count": 32,
     "metadata": {},
     "output_type": "execute_result"
    }
   ],
   "source": [
    "# We can sort the features by their importance.\n",
    "sorted(zip(rf_model.feature_importances_, X.columns), reverse=True)"
   ]
  },
  {
   "cell_type": "code",
   "execution_count": 33,
   "id": "a78b0d02",
   "metadata": {},
   "outputs": [],
   "source": [
    "# Modelanco cambiando el valor n_estimators=128 a n_estimators =500"
   ]
  },
  {
   "cell_type": "code",
   "execution_count": 34,
   "id": "9abd0b8e",
   "metadata": {},
   "outputs": [],
   "source": [
    "# Create a random forest classifier.\n",
    "rf_model = RandomForestClassifier(n_estimators=500, random_state=78) "
   ]
  },
  {
   "cell_type": "code",
   "execution_count": 35,
   "id": "0ba9c5f0",
   "metadata": {},
   "outputs": [],
   "source": [
    "# Fitting the model\n",
    "rf_model = rf_model.fit(X_train_scaled, y_train)"
   ]
  },
  {
   "cell_type": "code",
   "execution_count": 36,
   "id": "c935ce83",
   "metadata": {},
   "outputs": [],
   "source": [
    "# Making predictions using the testing data.\n",
    "predictions = rf_model.predict(X_test_scaled)"
   ]
  },
  {
   "cell_type": "code",
   "execution_count": 37,
   "id": "9be4a582",
   "metadata": {},
   "outputs": [
    {
     "data": {
      "text/plain": [
       "array([0, 0, 0, 0, 0, 0, 0, 1, 0, 0, 0, 1, 0, 0, 0, 0, 1, 0, 0, 1, 0, 0,\n",
       "       0, 0, 0, 0, 0, 0, 0, 0, 0, 0, 0, 0, 0, 0, 0, 0, 0, 1, 0, 1, 1, 0,\n",
       "       0, 0, 0, 0, 0, 0, 0, 1, 1, 0, 1, 0, 0, 0, 0, 0, 0, 0, 1, 0, 0, 0,\n",
       "       0, 0, 0, 0, 0, 0, 1, 0, 0, 0, 0, 0, 0, 0, 0, 0, 0, 1, 0, 0, 0, 1,\n",
       "       0, 0, 0, 0, 0, 0, 0, 0, 1, 0, 1, 0, 1, 0, 1, 0, 0, 0, 1, 0, 0, 0,\n",
       "       0, 0, 0, 0, 0, 1, 0, 0, 0, 1, 0, 0, 0, 0, 0, 0, 0, 0, 0, 1, 0, 1,\n",
       "       0, 0, 0, 0, 0, 0, 0, 1, 0, 0, 0, 0, 0, 0, 0, 0, 0, 1, 0, 0, 0, 0,\n",
       "       0, 0, 0, 0, 0, 0, 1, 0, 0, 1, 0, 0, 0, 0, 1, 0, 0, 0, 0, 1, 0, 0,\n",
       "       1, 1, 1, 0, 0, 0, 0, 0, 0, 0, 1, 1, 1, 0, 0, 0, 0, 0, 1, 0, 0, 0,\n",
       "       0, 1, 0, 0, 0, 0, 0, 1, 0, 0, 0, 0, 0, 1, 0, 0, 0, 1, 0, 0, 0, 0,\n",
       "       0, 0, 0, 1, 0, 0, 1, 1, 0, 0, 0, 0, 1, 0, 0, 0, 0, 0, 0, 1, 0, 0,\n",
       "       0, 0, 0, 0, 0, 0, 0, 0, 0, 0, 0, 0, 0, 0, 1, 0, 0, 0, 0, 0, 0, 0,\n",
       "       0, 0, 0, 0, 0, 0, 1, 0, 0, 1, 1, 0, 0, 0, 0, 0, 0, 0, 1, 0, 0, 0,\n",
       "       0, 0, 0, 0, 0, 0, 0, 1, 0, 0, 0, 0, 0, 1, 0, 0, 0, 0, 0, 0, 1, 0,\n",
       "       0, 0, 0, 0, 0, 0, 0, 0, 0, 0, 0, 0, 0, 0, 0, 0, 0, 0, 0, 0, 0, 0,\n",
       "       0, 0, 0, 1, 0, 0, 0, 0, 0, 0, 0, 0, 0, 1, 0, 1, 0, 0, 0, 1, 1, 0,\n",
       "       0, 0, 0, 0, 0, 1, 0, 1, 0, 0, 0, 0, 0, 0, 1, 0, 0, 0, 0, 0, 0, 0,\n",
       "       0, 0, 0, 1, 1, 0, 0, 0, 1, 0, 0, 0, 1, 0, 0, 0, 0, 0, 0, 1, 0, 0,\n",
       "       0, 0, 0, 0, 0, 0, 0, 0, 1, 0, 0, 0, 1, 0, 0, 0, 0, 1, 0, 0, 1, 0,\n",
       "       0, 0, 0, 0, 0, 0, 0, 0, 0, 0, 0, 0, 0, 1, 0, 0, 1, 0, 1, 0, 0, 0,\n",
       "       0, 0, 0, 0, 0, 0, 0, 0, 0, 0, 0, 0, 0, 0, 1, 1, 0, 0, 0, 0, 0, 0,\n",
       "       0, 0, 0, 0, 0, 1, 0, 0, 0, 0, 0, 0, 0, 0, 0, 0, 0, 0, 0, 1, 1, 0,\n",
       "       0, 0, 0, 0, 1, 1, 0, 0, 0, 0, 0, 1, 0, 0, 0, 0, 0, 0, 0, 0, 0, 0,\n",
       "       0, 0, 0, 0, 0, 0, 0, 0, 0, 0, 1, 0, 0, 0, 0, 0, 1, 0, 0, 0, 0, 0,\n",
       "       0, 0, 0, 0, 0, 1, 0, 0, 0, 0, 0, 0, 1, 0, 0, 0, 0, 0, 0, 0, 0, 0,\n",
       "       0, 0, 0, 0, 0, 0, 1, 0, 0, 0, 0, 0, 0, 1, 1, 0, 0, 0, 0, 1, 0, 0,\n",
       "       0, 0, 0, 0, 0, 0, 0, 0, 0, 1, 0, 0, 0, 0, 0, 0, 0, 0, 0, 0, 0, 0,\n",
       "       0, 0, 0, 0, 0, 0, 0, 0, 0, 1, 0, 0, 0, 0, 0, 0, 0, 0, 0, 0, 0, 0,\n",
       "       0, 1, 0, 1, 1, 0, 0, 1, 0, 0, 0, 0, 0, 0, 0, 1, 0, 0, 0, 0, 0, 0,\n",
       "       1, 0, 0, 0, 0, 1, 0, 0, 0, 0, 0, 1, 0, 0, 0, 0, 1, 0, 0, 0, 1, 0,\n",
       "       0, 0, 0, 0, 1, 1, 0, 1, 0, 0, 0, 0], dtype=int64)"
      ]
     },
     "execution_count": 37,
     "metadata": {},
     "output_type": "execute_result"
    }
   ],
   "source": [
    "predictions"
   ]
  },
  {
   "cell_type": "code",
   "execution_count": 38,
   "id": "3e984a3b",
   "metadata": {},
   "outputs": [],
   "source": [
    "# Calculating the confusion matrix.\n",
    "cm = confusion_matrix(y_test, predictions)"
   ]
  },
  {
   "cell_type": "code",
   "execution_count": 39,
   "id": "53491831",
   "metadata": {},
   "outputs": [
    {
     "data": {
      "text/html": [
       "<div>\n",
       "<style scoped>\n",
       "    .dataframe tbody tr th:only-of-type {\n",
       "        vertical-align: middle;\n",
       "    }\n",
       "\n",
       "    .dataframe tbody tr th {\n",
       "        vertical-align: top;\n",
       "    }\n",
       "\n",
       "    .dataframe thead th {\n",
       "        text-align: right;\n",
       "    }\n",
       "</style>\n",
       "<table border=\"1\" class=\"dataframe\">\n",
       "  <thead>\n",
       "    <tr style=\"text-align: right;\">\n",
       "      <th></th>\n",
       "      <th>Predicted 0</th>\n",
       "      <th>Predicted 1</th>\n",
       "    </tr>\n",
       "  </thead>\n",
       "  <tbody>\n",
       "    <tr>\n",
       "      <th>Actual 0</th>\n",
       "      <td>455</td>\n",
       "      <td>39</td>\n",
       "    </tr>\n",
       "    <tr>\n",
       "      <th>Actual 1</th>\n",
       "      <td>113</td>\n",
       "      <td>65</td>\n",
       "    </tr>\n",
       "  </tbody>\n",
       "</table>\n",
       "</div>"
      ],
      "text/plain": [
       "          Predicted 0  Predicted 1\n",
       "Actual 0          455           39\n",
       "Actual 1          113           65"
      ]
     },
     "execution_count": 39,
     "metadata": {},
     "output_type": "execute_result"
    }
   ],
   "source": [
    "# Create a DataFrame from the confusion matrix.\n",
    "cm_df = pd.DataFrame(\n",
    "    cm, index=[\"Actual 0\", \"Actual 1\"], columns=[\"Predicted 0\", \"Predicted 1\"])\n",
    "\n",
    "cm_df"
   ]
  },
  {
   "cell_type": "code",
   "execution_count": 40,
   "id": "a3c62451",
   "metadata": {},
   "outputs": [],
   "source": [
    "# Calculating the accuracy score.\n",
    "acc_score = accuracy_score(y_test, predictions)"
   ]
  },
  {
   "cell_type": "code",
   "execution_count": 41,
   "id": "d2ac4ef3",
   "metadata": {},
   "outputs": [
    {
     "name": "stdout",
     "output_type": "stream",
     "text": [
      "Confusion Matrix\n"
     ]
    },
    {
     "data": {
      "text/html": [
       "<div>\n",
       "<style scoped>\n",
       "    .dataframe tbody tr th:only-of-type {\n",
       "        vertical-align: middle;\n",
       "    }\n",
       "\n",
       "    .dataframe tbody tr th {\n",
       "        vertical-align: top;\n",
       "    }\n",
       "\n",
       "    .dataframe thead th {\n",
       "        text-align: right;\n",
       "    }\n",
       "</style>\n",
       "<table border=\"1\" class=\"dataframe\">\n",
       "  <thead>\n",
       "    <tr style=\"text-align: right;\">\n",
       "      <th></th>\n",
       "      <th>Predicted 0</th>\n",
       "      <th>Predicted 1</th>\n",
       "    </tr>\n",
       "  </thead>\n",
       "  <tbody>\n",
       "    <tr>\n",
       "      <th>Actual 0</th>\n",
       "      <td>455</td>\n",
       "      <td>39</td>\n",
       "    </tr>\n",
       "    <tr>\n",
       "      <th>Actual 1</th>\n",
       "      <td>113</td>\n",
       "      <td>65</td>\n",
       "    </tr>\n",
       "  </tbody>\n",
       "</table>\n",
       "</div>"
      ],
      "text/plain": [
       "          Predicted 0  Predicted 1\n",
       "Actual 0          455           39\n",
       "Actual 1          113           65"
      ]
     },
     "metadata": {},
     "output_type": "display_data"
    },
    {
     "name": "stdout",
     "output_type": "stream",
     "text": [
      "Accuracy Score : 0.7738095238095238\n",
      "Classification Report\n",
      "              precision    recall  f1-score   support\n",
      "\n",
      "           0       0.80      0.92      0.86       494\n",
      "           1       0.62      0.37      0.46       178\n",
      "\n",
      "    accuracy                           0.77       672\n",
      "   macro avg       0.71      0.64      0.66       672\n",
      "weighted avg       0.75      0.77      0.75       672\n",
      "\n"
     ]
    }
   ],
   "source": [
    "# Displaying results\n",
    "print(\"Confusion Matrix\")\n",
    "display(cm_df)\n",
    "print(f\"Accuracy Score : {acc_score}\")\n",
    "print(\"Classification Report\")\n",
    "print(classification_report(y_test, predictions))"
   ]
  },
  {
   "cell_type": "code",
   "execution_count": 42,
   "id": "cedefaa8",
   "metadata": {},
   "outputs": [
    {
     "data": {
      "text/plain": [
       "array([0.        , 0.        , 0.18448882, 0.22442837, 0.17000587,\n",
       "       0.17550184, 0.02038959, 0.03177602, 0.07063785, 0.0884858 ,\n",
       "       0.01942948, 0.01485635])"
      ]
     },
     "execution_count": 42,
     "metadata": {},
     "output_type": "execute_result"
    }
   ],
   "source": [
    "importances = rf_model.feature_importances_\n",
    "importances"
   ]
  },
  {
   "cell_type": "code",
   "execution_count": 43,
   "id": "766d1efb",
   "metadata": {},
   "outputs": [
    {
     "data": {
      "text/plain": [
       "[(0.2244283691626824, 'total_production_2'),\n",
       " (0.18448881854200447, 'total_production_1'),\n",
       " (0.1755018443138867, 'days_milk2'),\n",
       " (0.17000587427554747, 'days_milk1'),\n",
       " (0.08848580105979946, 'inse_2'),\n",
       " (0.07063785156551705, 'inse_1'),\n",
       " (0.03177602493389459, 'mast_2'),\n",
       " (0.020389591936122994, 'mast_1'),\n",
       " (0.019429477162976983, 'ab_1'),\n",
       " (0.014856347047567685, 'ab_2'),\n",
       " (0.0, 'lactation_2'),\n",
       " (0.0, 'lactation_1')]"
      ]
     },
     "execution_count": 43,
     "metadata": {},
     "output_type": "execute_result"
    }
   ],
   "source": [
    "# We can sort the features by their importance.\n",
    "sorted(zip(rf_model.feature_importances_, X.columns), reverse=True)"
   ]
  },
  {
   "cell_type": "code",
   "execution_count": null,
   "id": "21198321",
   "metadata": {},
   "outputs": [],
   "source": []
  }
 ],
 "metadata": {
  "kernelspec": {
   "display_name": "mlenv",
   "language": "python",
   "name": "mlenv"
  },
  "language_info": {
   "codemirror_mode": {
    "name": "ipython",
    "version": 3
   },
   "file_extension": ".py",
   "mimetype": "text/x-python",
   "name": "python",
   "nbconvert_exporter": "python",
   "pygments_lexer": "ipython3",
   "version": "3.7.11"
  }
 },
 "nbformat": 4,
 "nbformat_minor": 5
}
